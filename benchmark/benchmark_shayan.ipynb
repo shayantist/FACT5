{
 "cells": [
  {
   "cell_type": "code",
   "execution_count": 27,
   "metadata": {},
   "outputs": [],
   "source": [
    "%reload_ext autoreload\n",
    "%autoreload 2\n",
    "from termcolor import colored\n",
    "import dotenv\n",
    "import sys\n",
    "import dspy\n",
    "import os\n",
    "\n",
    "sys.path.append('../pipeline_v2/')\n",
    "import main \n",
    "dotenv.load_dotenv('../.env')\n",
    "\n",
    "from utils import print_header\n",
    "\n",
    "# main.VERDICTS=[\"Supported\", \"Refuted\", \"Not Enough Evidence\", \"Conflicting Evidence/Cherry-picking\"]\n",
    "\n",
    "# Initialize search provider\n",
    "main.NUM_SEARCH_RESULTS = 10 # Number of search results to retrieve\n",
    "main.SCRAPE_TIMEOUT = 5 # Timeout for scraping a webpage (in seconds)\n",
    "search_provider = main.SearchProvider(provider=\"duckduckgo\")\n",
    "\n",
    "# Initialize DSPy\n",
    "# lm = dspy.LM('gemini/gemini-1.5-flash', api_key=os.getenv('GOOGLE_GEMINI_API_KEY'))\n",
    "lm = dspy.LM('ollama_chat/mistral', api_base='http://localhost:11434', api_key='')\n",
    "dspy.settings.configure(lm=lm)\n",
    "\n",
    "# Initialize pipeline\n",
    "embedding_model = \"sentence-transformers/all-MiniLM-L6-v2\"\n",
    "main.VERBOSE = True # Print intermediate results\n",
    "main.INTERACTIVE = False # Allow the user to provide feedback\n",
    "main.USE_BM25 = True # Use BM25 for retrieval (in addition to cosine similarity)\n",
    "main.BM25_WEIGHT = 0.5 # Weight for BM25 in the hybrid retrieval\n",
    "\n",
    "pipeline = main.FactCheckPipeline(\n",
    "    search_provider=search_provider,\n",
    "    model_name=lm,\n",
    "    embedding_model=embedding_model,\n",
    "    retriever_k=2\n",
    ")\n",
    "\n",
    "# Example statement to fact-check\n",
    "# statement = \"\"\"And then there's the reality of the Trump economy, \n",
    "# where wages adjusted for inflation were rising. The wage gap between \n",
    "# rich and poor was shrinking. The savings rate for black Americans was \n",
    "# the highest in the history of our country.\"\"\""
   ]
  },
  {
   "cell_type": "code",
   "execution_count": 28,
   "metadata": {},
   "outputs": [
    {
     "name": "stdout",
     "output_type": "stream",
     "text": [
      "\u001b[36m===== Starting Fact Check Pipeline =====\u001b[0m\n",
      "\u001b[36m Original Statement: \u001b[97m\"Statement: Crime is down in Venezuela by 67% because they're taking their gangs and their criminals and depositing them very nicely into the United States.”\u001b[0m \u001b[0m\n",
      "\u001b[36m  ===== Atomic Claim Extraction =====\u001b[0m\n",
      "\u001b[36m   Extracted Claims (2):  \u001b[0m\n",
      "\u001b[36m     1. \u001b[97mCrime is down in Venezuela by 67%\u001b[0m \u001b[0m\n",
      "\u001b[36m     2. \u001b[97mVenezuelan gangs and criminals are being deposited into the United States\u001b[0m \u001b[0m\n",
      "\u001b[36m    ===== Claim Decomposition [1/2] =====\u001b[0m\n",
      "\u001b[36m       Decomposed Components (Questions + Search Queries) (2): \u001b[0m\n",
      "\u001b[36m         1. Question: \u001b[33mWhat is the current crime rate in Venezuela?\u001b[0m \u001b[0m\n",
      "\u001b[36m            Search Queries: \u001b[33m['Venezuela current crime rate', 'Crime statistics Venezuela latest']\u001b[0m \u001b[0m\n",
      "\u001b[36m         2. Question: \u001b[33mWhat was the crime rate in Venezuela before 2015?\u001b[0m \u001b[0m\n",
      "\u001b[36m            Search Queries: \u001b[33m['Crime rate Venezuela pre-2015', 'Venezuela crime statistics before 2015']\u001b[0m \u001b[0m\n",
      "\u001b[36m      ===== Question Answering for Component [1/2] =====\u001b[0m\n",
      "\u001b[36m         Question: \u001b[33mWhat is the current crime rate in Venezuela?\u001b[0m \u001b[0m\n",
      "\u001b[36m         Search Queries: \u001b[33m['Venezuela current crime rate', 'Crime statistics Venezuela latest']\u001b[0m \u001b[0m\n",
      "\u001b[36m        ===== Web Search for Query [1/2] =====\u001b[0m\n",
      "\u001b[36m         Query: \u001b[33mVenezuela current crime rate\u001b[0m \u001b[0m\n",
      "\u001b[36m         Retrieved 10 Sources: \u001b[0m\n",
      "\u001b[36m           1. Why Is Venezuela's Crime Rate Falling? - InSight Crime \u001b[0m\n",
      "\u001b[36m           URL: https://insightcrime.org/news/venezuela-crime-rate-falling/ \u001b[0m\n",
      "\u001b[36m           Excerpt: A government-reported decline in Venezuela's crime rate may create the illusion of a security breakthrough, but the reduction has more to do with reconfigurations in the country's underworld than an effective state response. In mid-May, Venezuelan security officials announced that crime indicators had fallen by 25.1% compared to 2023. \u001b[0m\n",
      "\u001b[36m           2. Crime and violence in Venezuela - statistics & facts | Statista \u001b[0m\n",
      "\u001b[36m           URL: https://www.statista.com/topics/12670/crime-and-violence-in-venezuela/ \u001b[0m\n",
      "\u001b[36m           Excerpt: Homicide rate in Venezuela from 2014 to 2023 (in number of homicides per 100,000 inhabitants) Premium Statistic Number of violent deaths in Venezuela 2023, by type \u001b[0m\n",
      "\u001b[36m           3. Venezuela Crime Rate & Statistics 1990-2025 - Macrotrends \u001b[0m\n",
      "\u001b[36m           URL: https://www.macrotrends.net/global-metrics/countries/VEN/venezuela/crime-rate-statistics \u001b[0m\n",
      "\u001b[36m           Excerpt: Venezuela crime rate & statistics for 2020 was 29.43, a 28.2% decline from 2019. Venezuela crime rate & statistics for 2019 was 40.98, a 14.58% decline from 2017. Venezuela crime rate & statistics for 2017 was 47.98, a 15.26% decline from 2016. Download Historical Data Save as Image. \u001b[0m\n",
      "\u001b[36m           4. Venezuela's Violent Deaths Fall to 22-Year Low on Migration \u001b[0m\n",
      "\u001b[36m           URL: https://www.bloomberg.com/news/articles/2023-12-28/venezuela-s-violent-deaths-fall-to-22-year-low-on-migration \u001b[0m\n",
      "\u001b[36m           Excerpt: The Venezuelan Violence Observatory registered 26.8 violent deaths per 100,000 inhabitants this year from a rate of 35.3 for every 100,000 habitants in 2022, Roberto Briceño León, director of ... \u001b[0m\n",
      "\u001b[36m           5. Homicide rate in Venezuela 2023 - Statista \u001b[0m\n",
      "\u001b[36m           URL: https://www.statista.com/statistics/984669/homicide-rate-venezuela/ \u001b[0m\n",
      "\u001b[36m           Excerpt: InSight Crime. (February 8, 2024). Homicide rate in Venezuela from 2014 to 2023 (in number of homicides per 100,000 inhabitants) [Graph]. In Statista. Retrieved January 31, 2025, from https://www ... \u001b[0m\n",
      "\u001b[36m           6. Venezuela's violent crime dropped | Letters to the Editor ... \u001b[0m\n",
      "\u001b[36m           URL: https://www.chronicleonline.com/opinion/letters_to_editor/venezuela-s-violent-crime-dropped/article_c2d76ed2-0f61-52e4-a643-ee1f1fd1e362.html \u001b[0m\n",
      "\u001b[36m           Excerpt: The murder rate in Venezuela dropped from 92 per 100,000 in 2016 to 81.4 in 2018. Then again in 2019, it has dropped even lower to 60.3 per 100,000. The latest figures from 2021 has it down to 19.31. El Salvador, which had the deadliest murder rate went from 495 per 100,000 in 2022 to only 2.4 in 2023! \u001b[0m\n",
      "\u001b[36m           7. Crime in Venezuela - Wikipedia \u001b[0m\n",
      "\u001b[36m           URL: https://en.wikipedia.org/wiki/Crime_in_Venezuela \u001b[0m\n",
      "\u001b[36m           Excerpt: In the early-20th century, Venezuela was limited to violent crimes occurring in rural areas. [5] In the 1950s, the rapid urbanization of the population saw some rises in violent crime. [5] In the 1960s following the restoration of democracy, insecurity rose when FALN leftist guerrillas participated in violent confrontations with the government, though such clashes subsided due to lack of ... \u001b[0m\n",
      "\u001b[36m           8. Venezuela murder rate dips, partly due to migration - monitoring group ... \u001b[0m\n",
      "\u001b[36m           URL: https://www.reuters.com/article/world/venezuela-murder-rate-dips-partly-due-to-migration-monitoring-group-idUSKCN1OQ1GK/ \u001b[0m\n",
      "\u001b[36m           Excerpt: The Venezuelan Observatory of Violence (OVV) said in its annual report that Venezuela still had the world's highest murder rate, 81.4 per 100,000 inhabitants, but it noted that figure was down ... \u001b[0m\n",
      "\u001b[36m           9. Intentional homicides (per 100,000 people) - Venezuela, RB \u001b[0m\n",
      "\u001b[36m           URL: https://data.worldbank.org/indicator/VC.IHR.PSRC.P5?locations=VE \u001b[0m\n",
      "\u001b[36m           Excerpt: Intentional homicides (per 100,000 people) - Venezuela, RB. UN Office on Drugs and Crime's International Homicide Statistics database. \u001b[0m\n",
      "\u001b[36m           10. Crime and violence in Venezuela - Statista \u001b[0m\n",
      "\u001b[36m           URL: https://www.statista.com/study/172986/crime-and-violence-in-venezuela/ \u001b[0m\n",
      "\u001b[36m           Excerpt: Annual car sales worldwide 2010-2023, with a forecast for 2024; Monthly container freight rate index worldwide 2023-2024; Automotive manufacturers' estimated market share in the U.S. 2023 \u001b[0m\n"
     ]
    },
    {
     "name": "stderr",
     "output_type": "stream",
     "text": [
      "                                                          \r"
     ]
    },
    {
     "name": "stdout",
     "output_type": "stream",
     "text": [
      "\u001b[36m        ===== Web Search for Query [2/2] =====\u001b[0m\n",
      "\u001b[36m         Query: \u001b[33mCrime statistics Venezuela latest\u001b[0m \u001b[0m\n",
      "\u001b[36m         Retrieved 10 Sources: \u001b[0m\n",
      "\u001b[36m           1. Why Is Venezuela's Crime Rate Falling? - InSight Crime \u001b[0m\n",
      "\u001b[36m           URL: https://insightcrime.org/news/venezuela-crime-rate-falling/ \u001b[0m\n",
      "\u001b[36m           Excerpt: A government-reported decline in Venezuela's crime rate may create the illusion of a security breakthrough, but the reduction has more to do with reconfigurations in the country's underworld than an effective state response. In mid-May, Venezuelan security officials announced that crime indicators had fallen by 25.1% compared to 2023. \u001b[0m\n",
      "\u001b[36m           2. Crime and violence in Venezuela - statistics & facts | Statista \u001b[0m\n",
      "\u001b[36m           URL: https://www.statista.com/topics/12670/crime-and-violence-in-venezuela/ \u001b[0m\n",
      "\u001b[36m           Excerpt: Homicide rate in Venezuela from 2014 to 2023 (in number of homicides per 100,000 inhabitants) Premium Statistic Number of violent deaths in Venezuela 2023, by type \u001b[0m\n",
      "\u001b[36m           3. Annual Report Violence 2023 - Observatorio Venezolano de Violencia \u001b[0m\n",
      "\u001b[36m           URL: https://observatoriodeviolencia.org.ve/news/annual-report-violence-2023/ \u001b[0m\n",
      "\u001b[36m           Excerpt: A total of eight federal entities had a rate of violent deaths higher than the national average of 26.8, in addition to the five mentioned above are Yaracuy (27.5), Delta Amacuro (27.4), and Aragua (27.2). Three federal entities had a rate similar to the national average: Guárico (26), Falcón (25.5), and Carabobo (25.3). \u001b[0m\n",
      "\u001b[36m           4. Crime Rate by Country 2024 - World Population Review \u001b[0m\n",
      "\u001b[36m           URL: https://worldpopulationreview.com/country-rankings/crime-rate-by-country \u001b[0m\n",
      "\u001b[36m           Excerpt: Venezuela's high crime rates have been attributed to reasons including government corruption, a flawed judiciary system, and the breakdown of the Rule of Law. 2. Papua New Guinea. Papua New Guinea has a crime index of 80.4. In Papua New Guinea, crime, especially violent crime, is primarily fueled by rapid social, economic, and political changes \u001b[0m\n",
      "\u001b[36m           5. Venezuela Crime Rate & Statistics 1990-2025 - Macrotrends \u001b[0m\n",
      "\u001b[36m           URL: https://www.macrotrends.net/global-metrics/countries/VEN/venezuela/crime-rate-statistics \u001b[0m\n",
      "\u001b[36m           Excerpt: Venezuela crime rate & statistics for 2021 was 19.31, a 34.4% decline from 2020. Venezuela crime rate & statistics for 2020 was 29.43, ... Backlinks from other websites and blogs are the lifeblood of our site and are our primary source of new traffic. If you use our datasets on your site or blog, we ask that you provide attribution via a link ... \u001b[0m\n",
      "\u001b[36m           6. Crime Rate by Country (updated 2025) - Worldostats \u001b[0m\n",
      "\u001b[36m           URL: https://worldostats.com/crime-rate-by-country-2025/ \u001b[0m\n",
      "\u001b[36m           Excerpt: Explore the full list of crime rates by country, learn about global trends, and discover which nations face the highest crime rates. ... Top 10 Countries with the Highest Crime Rate (per 100,000 population) Venezuela: 80.9; Papua New Guinea: 80.1; Haiti: 78.7; ... political turmoil, and high levels of violent crimes like homicides. Papua New ... \u001b[0m\n",
      "\u001b[36m           7. Homicide rate in Venezuela 2023 - Statista \u001b[0m\n",
      "\u001b[36m           URL: https://www.statista.com/statistics/984669/homicide-rate-venezuela/ \u001b[0m\n",
      "\u001b[36m           Excerpt: Research AI New; Daily Data Services ... InSight Crime. \"Homicide rate in Venezuela from 2014 to 2023 (in number of homicides per 100,000 inhabitants).\" Chart. February 8, 2024. \u001b[0m\n",
      "\u001b[36m           8. Venezuela's Violent Deaths Fall to 22-Year Low on Migration \u001b[0m\n",
      "\u001b[36m           URL: https://www.bloomberg.com/news/articles/2023-12-28/venezuela-s-violent-deaths-fall-to-22-year-low-on-migration \u001b[0m\n",
      "\u001b[36m           Excerpt: The Venezuelan Violence Observatory registered 26.8 violent deaths per 100,000 inhabitants this year from a rate of 35.3 for every 100,000 habitants in 2022, Roberto Briceño León, director of ... \u001b[0m\n",
      "\u001b[36m           9. Venezuela Organized Crime News - InSight Crime \u001b[0m\n",
      "\u001b[36m           URL: https://insightcrime.org/venezuela-organized-crime-news/ \u001b[0m\n",
      "\u001b[36m           Excerpt: Visit the Venezuela Organized Crime Observatory to learn about the main criminal dynamics and armed groups active in the country and read InSight Crime's latest investigative ... Subscribe to our newsletter to receive a weekly digest of the latest organized crime news and stay up-to-date on major events, trends, and criminal dynamics from ... \u001b[0m\n",
      "\u001b[36m           10. Intentional homicides (per 100,000 people) - Venezuela, RB \u001b[0m\n",
      "\u001b[36m           URL: https://data.worldbank.org/indicator/VC.IHR.PSRC.P5?locations=VE \u001b[0m\n",
      "\u001b[36m           Excerpt: Intentional homicides (per 100,000 people) - Venezuela, RB. UN Office on Drugs and Crime's International Homicide Statistics database. ... Internally displaced persons, new displacement associated with disasters (number of cases) Internally displaced persons, new displacement associated with conflict and violence (number of cases) ... \u001b[0m\n"
     ]
    },
    {
     "name": "stderr",
     "output_type": "stream",
     "text": [
      "                                                          "
     ]
    },
    {
     "name": "stdout",
     "output_type": "stream",
     "text": [
      "\u001b[36m      ===== Synthesizing Answer [1/2] =====\u001b[0m\n",
      "\u001b[36m         Question: \u001b[33mWhat is the current crime rate in Venezuela?\u001b[0m \u001b[0m\n",
      "\u001b[36m         Search Queries: \u001b[33m['Venezuela current crime rate', 'Crime statistics Venezuela latest']\u001b[0m \u001b[0m\n",
      "\u001b[36m         Answer: \u001b[32mThe current crime rate in Venezuela, as of 2021, is 19.31 [2]. This represents a significant decline from previous years, with the murder rate dropping from 92 per 100,000 in 2016 to 19.31 in 2021 [2].\u001b[0m \u001b[0m\n",
      "\u001b[36m         Citations:  \u001b[0m\n",
      "\u001b[36m           [1] \u001b[33mThe murder rate in Venezuela dropped from 92 per 100,000 in 2016 to 81.4 in 2018. Then again in 2019, it has dropped even lower to 60.3 per 100,000. The latest figures from 2021 has it down to 19.31.\u001b[0m \u001b[0m\n",
      "\u001b[36m           Source: Venezuela's violent crime dropped (https://www.chronicleonline.com/opinion/letters_to_editor/venezuela-s-violent-crime-dropped/article_c2d76ed2-0f61-52e4-a643-ee1f1fd1e362.html) \u001b[0m\n",
      "\u001b[36m      ===== Question Answering for Component [2/2] =====\u001b[0m\n",
      "\u001b[36m         Question: \u001b[33mWhat was the crime rate in Venezuela before 2015?\u001b[0m \u001b[0m\n",
      "\u001b[36m         Search Queries: \u001b[33m['Crime rate Venezuela pre-2015', 'Venezuela crime statistics before 2015']\u001b[0m \u001b[0m\n",
      "\u001b[36m        ===== Web Search for Query [1/2] =====\u001b[0m\n",
      "\u001b[36m         Query: \u001b[33mCrime rate Venezuela pre-2015\u001b[0m \u001b[0m\n"
     ]
    },
    {
     "name": "stderr",
     "output_type": "stream",
     "text": [
      "\r"
     ]
    },
    {
     "name": "stdout",
     "output_type": "stream",
     "text": [
      "\u001b[36m         Retrieved 10 Sources: \u001b[0m\n",
      "\u001b[36m           1. Crime and violence in Venezuela - statistics & facts | Statista \u001b[0m\n",
      "\u001b[36m           URL: https://www.statista.com/topics/12670/crime-and-violence-in-venezuela/ \u001b[0m\n",
      "\u001b[36m           Excerpt: Discover all statistics and data on Crime and violence in Venezuela now on statista.com! ... Victimization rate in Venezuela 1996 ... laundering and terrorist financing 2015-2024. \u001b[0m\n",
      "\u001b[36m           2. Venezuela Crime Rate & Statistics 1990-2025 - Macrotrends \u001b[0m\n",
      "\u001b[36m           URL: https://www.macrotrends.net/global-metrics/countries/VEN/venezuela/crime-rate-statistics \u001b[0m\n",
      "\u001b[36m           Excerpt: Venezuela crime rate & statistics for 2021 was 19.31, a 34.4% decline from 2020. Venezuela crime rate & statistics for 2020 was 29.43, a 28.2% decline from 2019. Venezuela crime rate & statistics for 2019 was 40.98, a 14.58% decline from 2017. Venezuela crime rate & statistics for 2017 was 47.98, a 15.26% decline from 2016. \u001b[0m\n",
      "\u001b[36m           3. Is Violence in Venezuela Leveling Off? - InSight Crime \u001b[0m\n",
      "\u001b[36m           URL: https://insightcrime.org/news/analysis/is-violence-in-venezuela-leveling-off/ \u001b[0m\n",
      "\u001b[36m           Excerpt: She estimates Venezuela's violent death rate for 2015 was somewhere between 62 and 75 per 100,000; the number 68.7 per 100,000 is roughly half the average of the high and low ends of the estimate. In other words, researchers — even those using rigorous methods — can only gain a general idea of how much violence is occurring in Venezuela. \u001b[0m\n",
      "\u001b[36m           4. Crime in Venezuela - Wikipedia \u001b[0m\n",
      "\u001b[36m           URL: https://en.wikipedia.org/wiki/Crime_in_Venezuela \u001b[0m\n",
      "\u001b[36m           Excerpt: Crime in Venezuela is widespread, with violent crimes such as murder and kidnapping increasing for several years. ... In 2015, the OVV's murder rate data showed an increase of the rate to 90 per 100,000 with an estimated 27,878 Venezuelans murdered adding up to nearly 20% of murders in the Latin American region. \u001b[0m\n",
      "\u001b[36m           5. Venezuela Homicide rate - data, chart | TheGlobalEconomy.com \u001b[0m\n",
      "\u001b[36m           URL: https://www.theglobaleconomy.com/venezuela/homicide_rate/ \u001b[0m\n",
      "\u001b[36m           Excerpt: Venezuela: Homicides per 100,000 people: The latest value from 2016 is 56.3 homicides per 100,000 people, a decline from 57.2 homicides per 100,000 people in 2015. In comparison, the world average is 7.9 homicides per 100,000 people, based on data from 118 countries. Historically, the average for Venezuela from 1990 to 2016 is 35.5 homicides per 100,000 people. The minimum value, 12.3 ... \u001b[0m\n",
      "\u001b[36m           6. Is Venezuela Becoming the Most Dangerous Nation in Latin America? \u001b[0m\n",
      "\u001b[36m           URL: https://insightcrime.org/news/analysis/is-venezuela-becoming-the-most-dangerous-nation-in-latin-america/ \u001b[0m\n",
      "\u001b[36m           Excerpt: With an estimated homicide rate of 54 deaths for every 100,000 people, this puts Venezuela among the top three most violent countries in Latin America, right behind El Salvador — with a 2014 homicide rate of 69 per 100,000 — and Honduras, with a rate of 66. When considering Venezuela's violent death rate, the country is the second most ... \u001b[0m\n",
      "\u001b[36m           7. Caracas World's Most Violent City: Report - InSight Crime \u001b[0m\n",
      "\u001b[36m           URL: https://insightcrime.org/news/brief/caracas-most-violent-city-in-the-world-2015-report/ \u001b[0m\n",
      "\u001b[36m           Excerpt: Caracas' homicide rate rose slightly from about 116 per 100,000 people in 2014 to about 120 in 2015 — or 3,946 murders in a city of almost 3.3 million inhabitants. At the same time, in the city of San Pedro Sula in Honduras — which had topped the list consistently from 2011 until last year — the murder rate fell from about 170 in 2014 ... \u001b[0m\n",
      "\u001b[36m           8. Has venezuelaʼs crime rate gone down? - The Civil War \u001b[0m\n",
      "\u001b[36m           URL: https://www.civil-war.net/has-venezuelaʼs-crime-rate-gone-down/ \u001b[0m\n",
      "\u001b[36m           Excerpt: **Crime Rates in Venezuela (2015-2020)** Year. Murder Rate (per 100,000 inhabitants) 2015: 91.8: 2016: 73.2: 2017: 58.1: 2018: 51.5: 2019: 47.5: 2020: 42.6: As shown in the table above, the murder rate has decreased by approximately 53% since its peak in 2015. While this is a positive trend, it's essential to note that the actual number of ... \u001b[0m\n",
      "\u001b[36m           9. The Poverty Behind Venezuela's Soaring Crime Rate \u001b[0m\n",
      "\u001b[36m           URL: https://borgenproject.org/the-poverty-behind-venezuelas-soaring-crime-rate/ \u001b[0m\n",
      "\u001b[36m           Excerpt: The hunger crisis and the fact that 82 percent of its population is living in poverty could be linked with the growing rate of crime and violence in Venezuela. This article looks at the conditions, past and present, that have led to this crisis. ... (VOV) reported a 14 percent increase in violent crimes from 2012 to 2013. In 2015, 17,778 people ... \u001b[0m\n",
      "\u001b[36m           10. Another gun ban, another bad outcome: Venezuela homicide rate rose ... \u001b[0m\n",
      "\u001b[36m           URL: https://crimeresearch.org/2016/04/venezuela-homicide-rate-rose-after-2012-ban-on-private-ownership-of-guns/ \u001b[0m\n",
      "\u001b[36m           Excerpt: Private gun ownership was banned in Venezuela in June 2012, but their homicide rate went from 73 per 100,000 people in 2012 to 82 per 100,000 people in 2015. A private organization, the Venezuelan Violence Observatory (OVV), puts the rate in 2015 at over 90 per 100,000 people. The BBC seriously repeats the Venezuelan government's claim that the ban is… \u001b[0m\n"
     ]
    },
    {
     "name": "stderr",
     "output_type": "stream",
     "text": [
      "                                                          "
     ]
    },
    {
     "name": "stdout",
     "output_type": "stream",
     "text": [
      "\u001b[36m        ===== Web Search for Query [2/2] =====\u001b[0m\n",
      "\u001b[36m         Query: \u001b[33mVenezuela crime statistics before 2015\u001b[0m \u001b[0m\n"
     ]
    },
    {
     "name": "stderr",
     "output_type": "stream",
     "text": [
      "\r"
     ]
    },
    {
     "name": "stdout",
     "output_type": "stream",
     "text": [
      "\u001b[36m         Retrieved 10 Sources: \u001b[0m\n",
      "\u001b[36m           1. Venezuela Crime Rate & Statistics 1990-2025 - Macrotrends \u001b[0m\n",
      "\u001b[36m           URL: https://www.macrotrends.net/global-metrics/countries/VEN/venezuela/crime-rate-statistics \u001b[0m\n",
      "\u001b[36m           Excerpt: Venezuela crime rate & statistics for 2021 was 19.31, a 34.4% decline from 2020. Venezuela crime rate & statistics for 2020 was 29.43, a 28.2% decline from 2019. Venezuela crime rate & statistics for 2019 was 40.98, a 14.58% decline from 2017. Venezuela crime rate & statistics for 2017 was 47.98, a 15.26% decline from 2016. \u001b[0m\n",
      "\u001b[36m           2. Crime and violence in Venezuela - statistics & facts | Statista \u001b[0m\n",
      "\u001b[36m           URL: https://www.statista.com/topics/12670/crime-and-violence-in-venezuela/ \u001b[0m\n",
      "\u001b[36m           Excerpt: Discover all statistics and data on Crime and violence in Venezuela now on statista.com! ... Victimization rate in Venezuela 1996 ... laundering and terrorist financing 2015-2024 \u001b[0m\n",
      "\u001b[36m           3. Crime in Venezuela - Wikipedia \u001b[0m\n",
      "\u001b[36m           URL: https://en.wikipedia.org/wiki/Crime_in_Venezuela \u001b[0m\n",
      "\u001b[36m           Excerpt: Crime in Venezuela is widespread, ... In 2015, the OVV's murder rate data showed an increase of the rate to 90 per 100,000 with an estimated 27,878 Venezuelans murdered adding up to nearly 20% of murders in the Latin American region. ... contrasting the CICPCs number of only 673, [44] before the Venezuelan government blocked the data. [42] [47 ... \u001b[0m\n",
      "\u001b[36m           4. The impact of violence on Venezuelan life expectancy and lifespan ... \u001b[0m\n",
      "\u001b[36m           URL: https://pmc.ncbi.nlm.nih.gov/articles/PMC6857745/ \u001b[0m\n",
      "\u001b[36m           Excerpt: Throughout the 1980s, the homicide rate in Venezuela was relatively low; i.e. it was close to the levels observed in countries like Costa Rica, at around eight per 100 000 inhabitants. 37 However, the social and economic upheavals of that decade led to changes in the prevalence of violence in Venezuela. 38 Prior to that period, violence in ... \u001b[0m\n",
      "\u001b[36m           5. Op-Ed: Venezuela's raging homicide epidemic is going unrecorded \u001b[0m\n",
      "\u001b[36m           URL: https://www.latimes.com/opinion/op-ed/la-oe-garzon-muggah-venezuela-violent-crime-statistics-20170331-story.html \u001b[0m\n",
      "\u001b[36m           Excerpt: But the Venezuelan Violence Observatory, a nongovernmental group, estimated that there were 27,875 murders that year, which would make Venezuela's homicide rate one of the highest in the world ... \u001b[0m\n",
      "\u001b[36m           6. World Factbook of Criminal Justice Systems: Venezuela \u001b[0m\n",
      "\u001b[36m           URL: https://www.ojp.gov/ncjrs/virtual-library/abstracts/world-factbook-criminal-justice-systems-venezuela \u001b[0m\n",
      "\u001b[36m           Excerpt: In 1990, 31,861 violent crimes, 184,126 property crimes, and 6,405 drug crimes were reported. Many people are victimized by crime because of fear and the perceived inability of Venezuela's criminal justice system to prevent crime. Victims do not have a role in sentencing unless they initiate the prosecution. \u001b[0m\n",
      "\u001b[36m           7. Caracas, the World's Most Violent City - Business Insider \u001b[0m\n",
      "\u001b[36m           URL: https://www.businessinsider.com/caracas-the-worlds-most-violent-city?op=1 \u001b[0m\n",
      "\u001b[36m           Excerpt: Venezuela's capital and largest city closed 2015 with a homicide rate of 119.87 per 100,000, and while the exact number of killings has been debated, the shocking level of violence the country ... \u001b[0m\n",
      "\u001b[36m           8. Crime and violence in Venezuela - Statista \u001b[0m\n",
      "\u001b[36m           URL: https://www.statista.com/study/172986/crime-and-violence-in-venezuela/ \u001b[0m\n",
      "\u001b[36m           Excerpt: This report presents the most key statistics about crime and violence in Venezuela. ... Victimization rate in Venezuela 1996 ... and terrorist financing 2015-2024 \u001b[0m\n",
      "\u001b[36m           9. Intentional homicides (per 100,000 people) - Venezuela, RB \u001b[0m\n",
      "\u001b[36m           URL: https://data.worldbank.org/indicator/VC.IHR.PSRC.P5?locations=VE \u001b[0m\n",
      "\u001b[36m           Excerpt: Intentional homicides (per 100,000 people) - Venezuela, RB. UN Office on Drugs and Crime's International Homicide Statistics database. \u001b[0m\n",
      "\u001b[36m           10. Venezuela Faces Crime Epidemic - NPR \u001b[0m\n",
      "\u001b[36m           URL: https://www.npr.org/2015/05/12/406105639/venezuela-faces-crime-epidemic \u001b[0m\n",
      "\u001b[36m           Excerpt: Even as crime rises, Nunez says the number of police officers in Petare has fallen. Recruiting new cops is difficult because their monthly salary amounts to just $50 on the black market exchange rate. \u001b[0m\n"
     ]
    },
    {
     "name": "stderr",
     "output_type": "stream",
     "text": [
      "                                                          "
     ]
    },
    {
     "name": "stdout",
     "output_type": "stream",
     "text": [
      "\u001b[36m      ===== Synthesizing Answer [2/2] =====\u001b[0m\n",
      "\u001b[36m         Question: \u001b[33mWhat was the crime rate in Venezuela before 2015?\u001b[0m \u001b[0m\n",
      "\u001b[36m         Search Queries: \u001b[33m['Crime rate Venezuela pre-2015', 'Venezuela crime statistics before 2015']\u001b[0m \u001b[0m\n",
      "\u001b[36m         Answer: \u001b[32mThe crime rate in Venezuela before 2015 was likely higher than 47.98, as the data shows a decline in the crime rate each subsequent year after 2017.\u001b[0m \u001b[0m\n",
      "\u001b[36m         Citations:  \u001b[0m\n",
      "\u001b[36m           [1] \u001b[33mVenezuela crime rate & statistics for 2017 was 47.98\u001b[0m \u001b[0m\n",
      "\u001b[36m           Source: Venezuela Crime Rate & Statistics 1990-2025 - Macrotrends (https://www.macrotrends.net/global-metrics/countries/VEN/venezuela/crime-rate-statistics) \u001b[0m\n",
      "\u001b[36m    ===== Claim Evaluation =====\u001b[0m\n",
      "\u001b[36m       Claim: \u001b[97mCrime is down in Venezuela by 67%\u001b[0m \u001b[0m\n",
      "\u001b[36m       Verdict: \u001b[32mMOSTLY TRUE\u001b[0m \u001b[0m\n",
      "\u001b[36m       Confidence: \u001b[33m0.8\u001b[0m \u001b[0m\n",
      "\u001b[36m       Reasoning: \u001b[36mThe claim that crime is down in Venezuela by 67% can be substantiated based on the provided data showing a significant decrease in the crime rate from previous years. However, without specific data for the crime rate before 2015 or 2016, it's not possible to calculate an exact percentage decrease.\u001b[0m \u001b[0m\n",
      "\u001b[36m       Evidence Analysis \u001b[0m\n",
      "\u001b[36m         \u001b[33mQuestion: What is the current crime rate in Venezuela?\u001b[0m \u001b[0m\n",
      "\u001b[36m         \u001b[32mAnswer: The current crime rate in Venezuela, as of 2021, is 19.31 [2]. This represents a significant decline from previous years, with the murder rate dropping from 92 per 100,000 in 2016 to 19.31 in 2021 [2].\u001b[0m \u001b[0m\n",
      "\u001b[36m         \u001b[36mContribution: \u001b[0m \u001b[0m\n",
      "\u001b[36m         \u001b[33mQuestion: What was the crime rate in Venezuela before 2015?\u001b[0m \u001b[0m\n",
      "\u001b[36m         \u001b[32mAnswer: The crime rate in Venezuela before 2015 was likely higher than 47.98, as the data shows a decline in the crime rate each subsequent year after 2017.\u001b[0m \u001b[0m\n",
      "\u001b[36m         \u001b[36mContribution: \u001b[0m \u001b[0m\n",
      "\u001b[36m    ===== Claim Decomposition [2/2] =====\u001b[0m\n"
     ]
    },
    {
     "name": "stderr",
     "output_type": "stream",
     "text": [
      "\r"
     ]
    },
    {
     "name": "stdout",
     "output_type": "stream",
     "text": [
      "\u001b[36m       Decomposed Components (Questions + Search Queries) (3): \u001b[0m\n",
      "\u001b[36m         1. Question: \u001b[33mWhat is the current status of Venezuelan immigration to the United States?\u001b[0m \u001b[0m\n",
      "\u001b[36m            Search Queries: \u001b[33m['Venezuela immigration statistics', 'Current number of Venezuelan immigrants in the US']\u001b[0m \u001b[0m\n",
      "\u001b[36m         2. Question: \u001b[33mAre there any reports or evidence of organized gangs or criminal groups being transported from Venezuela to the US?\u001b[0m \u001b[0m\n",
      "\u001b[36m            Search Queries: \u001b[33m['Reports of Venezuelan gangs entering US', 'Evidence of Venezuelan criminal groups infiltrating US']\u001b[0m \u001b[0m\n",
      "\u001b[36m         3. Question: \u001b[33mIs there any indication that this process is being done intentionally or systematically?\u001b[0m \u001b[0m\n",
      "\u001b[36m            Search Queries: \u001b[33m['Systematic transport of Venezuelan gangs to US', 'Intentional deposit of Venezuelan criminals in the US']\u001b[0m \u001b[0m\n",
      "\u001b[36m      ===== Question Answering for Component [1/3] =====\u001b[0m\n",
      "\u001b[36m         Question: \u001b[33mWhat is the current status of Venezuelan immigration to the United States?\u001b[0m \u001b[0m\n",
      "\u001b[36m         Search Queries: \u001b[33m['Venezuela immigration statistics', 'Current number of Venezuelan immigrants in the US']\u001b[0m \u001b[0m\n",
      "\u001b[36m        ===== Web Search for Query [1/2] =====\u001b[0m\n",
      "\u001b[36m         Query: \u001b[33mVenezuela immigration statistics\u001b[0m \u001b[0m\n",
      "\u001b[36m         Retrieved 10 Sources: \u001b[0m\n",
      "\u001b[36m           1. Venezuela Net Migration Rate 1950-2025 - Macrotrends \u001b[0m\n",
      "\u001b[36m           URL: https://www.macrotrends.net/global-metrics/countries/VEN/venezuela/net-migration \u001b[0m\n",
      "\u001b[36m           Excerpt: Chart and table of the Venezuela net migration rate from 1950 to 2025. United Nations projections are also included through the year 2100. \u001b[0m\n",
      "\u001b[36m           2. Venezuelan migration: a major demographic shift in South America \u001b[0m\n",
      "\u001b[36m           URL: https://ourworldindata.org/data-insights/venezuelan-migration-a-major-demographic-shift-in-south-america \u001b[0m\n",
      "\u001b[36m           Excerpt: The chart shows net migration trends for Venezuela, Peru, Chile, and Colombia from 1950 to 2023. This is the net difference between immigrants coming into a country and emigrants leaving. This data published by the UN World Population Prospects shows how significant this demographic event is in the region's recent history. \u001b[0m\n",
      "\u001b[36m           3. Venezuela Immigration Statistics 1960-2025 - Macrotrends \u001b[0m\n",
      "\u001b[36m           URL: https://www.macrotrends.net/global-metrics/countries/VEN/venezuela/immigration-statistics \u001b[0m\n",
      "\u001b[36m           Excerpt: Venezuela immigration statistics for 2015 was 1,404,448.00, a 5.48% increase from 2010. Venezuela immigration statistics for 2010 was 1,331,488.00, a 24.37% increase from 2005. \u001b[0m\n",
      "\u001b[36m           4. The Persistence of the Venezuelan Migrant and Refugee Crisis \u001b[0m\n",
      "\u001b[36m           URL: https://www.csis.org/analysis/persistence-venezuelan-migrant-and-refugee-crisis \u001b[0m\n",
      "\u001b[36m           Excerpt: The outflow of refugees and migrants from Venezuela is the largest displacement crisis in the world, with almost 7.7 million migrants and refugees as of August 2023. This is an even greater number than the displacement of Syrians or Ukrainians outside of their countries. Despite these numbers, the Venezuelan migrant and refugee crisis, quite unfortunately, has climbed down the list of ... \u001b[0m\n",
      "\u001b[36m           5. Net migration - Venezuela, RB | Data - World Bank Data \u001b[0m\n",
      "\u001b[36m           URL: https://data.worldbank.org/indicator/SM.POP.NETM?locations=VE \u001b[0m\n",
      "\u001b[36m           Excerpt: Free and open access to global development data \u001b[0m\n",
      "\u001b[36m           6. Migration rate in Venezuela 2005-2027 - Statista \u001b[0m\n",
      "\u001b[36m           URL: https://www.statista.com/statistics/1393395/migration-rate-venezuela/ \u001b[0m\n",
      "\u001b[36m           Excerpt: The migration rate in Venezuela was forecast to continuously increase between 2024 and 2027 by in total 0.8 percentage points. \u001b[0m\n",
      "\u001b[36m           7. Escape from Venezuela - Statista \u001b[0m\n",
      "\u001b[36m           URL: https://www.statista.com/chart/16766/venezuela-migration/ \u001b[0m\n",
      "\u001b[36m           Excerpt: According to The Brookings Institution, the Venezuelan migration crisis is becoming the largest and most underfunded in modern history - soon to surpass the scale of the Syrian crisis. Venezuela's ... \u001b[0m\n",
      "\u001b[36m           8. Venezuelan Refugee and Migrant Crisis | International Organization for ... \u001b[0m\n",
      "\u001b[36m           URL: https://www.iom.int/venezuelan-refugee-and-migrant-crisis \u001b[0m\n",
      "\u001b[36m           Excerpt: More than 6.1 million refugees and migrants have left Venezuela as a result of the political turmoil, socio-economic instability and the ongoing humanitarian crisis. Seventeen countries host around 80 per cent of Venezuelans (more than 5 million) throughout Latin America and the Caribbean - triggering the largest external displacement crisis in Latin America's recent history. Thousands of ... \u001b[0m\n",
      "\u001b[36m           9. Venezuela situation | UNHCR \u001b[0m\n",
      "\u001b[36m           URL: https://www.unhcr.org/emergencies/venezuela-situation \u001b[0m\n",
      "\u001b[36m           Excerpt: Are you looking for data on displacement in Venezuela? Visit the UNHCR data portal for the latest data and statistics on refugees and other displaced persons. \u001b[0m\n",
      "\u001b[36m           10. Where Do Venezuelans Emigrate To? - Statista \u001b[0m\n",
      "\u001b[36m           URL: https://www.statista.com/chart/28512/main-destinations-of-venezuelans/ \u001b[0m\n",
      "\u001b[36m           Excerpt: More than seven million people have fled their homes since 2015 due to the worsening socio-economic and security crisis in Venezuela, according to the latest reports from the UN Refugee Agency ... \u001b[0m\n"
     ]
    },
    {
     "name": "stderr",
     "output_type": "stream",
     "text": [
      "                                                          \r"
     ]
    },
    {
     "name": "stdout",
     "output_type": "stream",
     "text": [
      "\u001b[36m        ===== Web Search for Query [2/2] =====\u001b[0m\n",
      "\u001b[36m         Query: \u001b[33mCurrent number of Venezuelan immigrants in the US\u001b[0m \u001b[0m\n",
      "\u001b[36m         Retrieved 10 Sources: \u001b[0m\n",
      "\u001b[36m           1. Venezuelan Immigrants in the United States - Migration Policy Institute \u001b[0m\n",
      "\u001b[36m           URL: https://www.migrationpolicy.org/article/venezuelan-immigrants-united-states-2021 \u001b[0m\n",
      "\u001b[36m           Excerpt: The number of Venezuelan immigrants in the United States has nearly tripled since 2010, coinciding with a period of severe economic and political crisis that has resulted in the largest prolonged displacement event in the Americas. The 545,000 Venezuelan immigrants in the United States as of 2021, the most recent year for which U.S. Census Bureau American Community Survey (ACS) data are ... \u001b[0m\n",
      "\u001b[36m           2. Record number of Venezuelan migrants crossed U.S.-Mexico border in ... \u001b[0m\n",
      "\u001b[36m           URL: https://www.cbsnews.com/news/venezuelan-migrants-us-mexico-border-september-numbers/ \u001b[0m\n",
      "\u001b[36m           Excerpt: Approximately 50,000 migrants from crisis-stricken Venezuela crossed the U.S.-Mexico border unlawfully last month, a monthly record. \u001b[0m\n",
      "\u001b[36m           3. U.S. offers nearly half-a-million Venezuelan migrants legal status and ... \u001b[0m\n",
      "\u001b[36m           URL: https://www.cbsnews.com/news/venezuelan-migrants-thousands-legal-status-work-permits-u-s/ \u001b[0m\n",
      "\u001b[36m           Excerpt: The Biden administration will make hundreds of thousands of migrants from Venezuela eligible for work permits and deportation protections under an expansion of the Temporary Protected Status policy. \u001b[0m\n",
      "\u001b[36m           4. Venezuelan arrivals along U.S. southern border drop after ... - CBS News \u001b[0m\n",
      "\u001b[36m           URL: https://www.cbsnews.com/news/immigration-venezuelan-arrivals-us-southern-border-biden-deportations/ \u001b[0m\n",
      "\u001b[36m           Excerpt: The number of Venezuelans crossing the U.S.-Mexico border unlawfully dropped by 46% in October, when the Biden administration started deportations to Venezuela. \u001b[0m\n",
      "\u001b[36m           5. Venezuelan in the U.S. | Data on Latinos | Pew Research Center \u001b[0m\n",
      "\u001b[36m           URL: https://www.pewresearch.org/fact-sheet/us-hispanics-facts-on-venezuelan-origin-latinos/ \u001b[0m\n",
      "\u001b[36m           Excerpt: An estimated 640,000 Hispanics of Venezuelan origin resided in the United States in 2021, according to a Pew Research Center analysis of the U.S. Census Bureau's American Community Survey. Venezuelans in this statistical profile are people who self-identified as Hispanics of Venezuelan origin; this includes immigrants from Venezuela and those who trace their family ancestry to Venezuela ... \u001b[0m\n",
      "\u001b[36m           6. US extends temporary protection to nearly 500,000 Venezuelan migrants \u001b[0m\n",
      "\u001b[36m           URL: https://www.aljazeera.com/news/2023/9/21/us-extends-temporary-protection-to-nearly-500000-venezuelan-migrants \u001b[0m\n",
      "\u001b[36m           Excerpt: US extends temporary protection to nearly 500,000 Venezuelan migrants The Biden administration's decision comes as Republicans warn of a new surge of arrivals along the US-Mexico border. \u001b[0m\n",
      "\u001b[36m           7. New Immigration Policies Related to Venezuelan Migrants - CRS Reports \u001b[0m\n",
      "\u001b[36m           URL: https://crsreports.congress.gov/product/pdf/IN/IN12040 \u001b[0m\n",
      "\u001b[36m           Excerpt: Border Policy Changes and the New Parole Process The new border enforcement policies aim to reduce the number of Venezuelans encountered by CBP at the Southwest border. Prior to these changes, the vast majority of Venezuelans encountered were processed for removal and released into the United States, where they could apply for asylum during immigration court proceedings. Now, Venezuelans ... \u001b[0m\n",
      "\u001b[36m           8. Venezuelan Immigrants in the United States - Immigration Research \u001b[0m\n",
      "\u001b[36m           URL: https://www.immigrationresearch.org/node/3437 \u001b[0m\n",
      "\u001b[36m           Excerpt: According to this fact sheet from the Migration Policy Institute, there are 545,000 Venezuelan immigrants in the United States -- triple the number in 2010. Political instability and economic collapse have forced more than 7 million Venezuelans to flee their country and to take refuge in countries throughout the Americas. A new Biden administration policy has allowed 30,000 migrants per month ... \u001b[0m\n",
      "\u001b[36m           9. Venezuelan Immigrants in the United States - Migration Policy Institute \u001b[0m\n",
      "\u001b[36m           URL: https://www.migrationpolicy.org/article/venezuelan-immigrants-united-states-2018 \u001b[0m\n",
      "\u001b[36m           Excerpt: The population of Venezuelan immigrants in the United States has risen 54 percent since 2015, when it stood at 256,000. By 2018, this population had grown to 394,000, making it the fifth-largest South American immigrant population in the United States. \u001b[0m\n",
      "\u001b[36m           10. Venezuelans Now Rank Second in Illegal Immigration to the U.S. \u001b[0m\n",
      "\u001b[36m           URL: https://www.fairus.org/legislation/executive/venezuelans-now-rank-second-illegal-immigration-us \u001b[0m\n",
      "\u001b[36m           Excerpt: The major driver of Venezuelan migration to the U.S. has been policies that allow illegal aliens to enter, be released, and work in the United States. Many Venezuelan nationals are taking advantage of the Biden Administration's illegal categorical parole program, announced in late 2022. \u001b[0m\n"
     ]
    },
    {
     "name": "stderr",
     "output_type": "stream",
     "text": [
      "                                                          "
     ]
    },
    {
     "name": "stdout",
     "output_type": "stream",
     "text": [
      "\u001b[36m      ===== Synthesizing Answer [1/3] =====\u001b[0m\n",
      "\u001b[36m         Question: \u001b[33mWhat is the current status of Venezuelan immigration to the United States?\u001b[0m \u001b[0m\n",
      "\u001b[36m         Search Queries: \u001b[33m['Venezuela immigration statistics', 'Current number of Venezuelan immigrants in the US']\u001b[0m \u001b[0m\n"
     ]
    },
    {
     "name": "stderr",
     "output_type": "stream",
     "text": [
      "\r"
     ]
    },
    {
     "ename": "TypeError",
     "evalue": "list indices must be integers or slices, not str",
     "output_type": "error",
     "traceback": [
      "\u001b[0;31m---------------------------------------------------------------------------\u001b[0m",
      "\u001b[0;31mTypeError\u001b[0m                                 Traceback (most recent call last)",
      "Cell \u001b[0;32mIn[28], line 2\u001b[0m\n\u001b[1;32m      1\u001b[0m statement \u001b[38;5;241m=\u001b[39m \u001b[38;5;124m\"\"\"\u001b[39m\u001b[38;5;124m\"\u001b[39m\u001b[38;5;124mStatement: Crime is down in Venezuela by 67\u001b[39m\u001b[38;5;124m%\u001b[39m\u001b[38;5;124m because they\u001b[39m\u001b[38;5;124m'\u001b[39m\u001b[38;5;124mre taking their gangs and their criminals and depositing them very nicely into the United States.”\u001b[39m\u001b[38;5;124m\"\"\"\u001b[39m\n\u001b[0;32m----> 2\u001b[0m verdict, confidence, reasoning, claims \u001b[38;5;241m=\u001b[39m \u001b[43mpipeline\u001b[49m\u001b[38;5;241;43m.\u001b[39;49m\u001b[43mfact_check\u001b[49m\u001b[43m(\u001b[49m\u001b[43mstatement\u001b[49m\u001b[43m,\u001b[49m\u001b[43m \u001b[49m\u001b[43mcontext\u001b[49m\u001b[38;5;241;43m=\u001b[39;49m\u001b[38;5;124;43m\"\u001b[39;49m\u001b[38;5;124;43mSource: Donald Trump, Date: 2024-04-02\u001b[39;49m\u001b[38;5;124;43m\"\u001b[39;49m\u001b[43m)\u001b[49m\n\u001b[1;32m      4\u001b[0m \u001b[38;5;66;03m# Print final result\u001b[39;00m\n\u001b[1;32m      5\u001b[0m \u001b[38;5;28mprint\u001b[39m(\u001b[38;5;124m\"\u001b[39m\u001b[38;5;130;01m\\n\u001b[39;00m\u001b[38;5;124mFinal Fact-Check Result:\u001b[39m\u001b[38;5;124m\"\u001b[39m)\n",
      "File \u001b[0;32m~/Desktop/StuyCS/Projects/ML/LLM-FactChecker/benchmark/../pipeline_v2/main.py:682\u001b[0m, in \u001b[0;36mFactCheckPipeline.fact_check\u001b[0;34m(self, statement, context, web_search)\u001b[0m\n\u001b[1;32m    680\u001b[0m     \u001b[38;5;66;03m# Step 4: Synthesize answer given relevant documents\u001b[39;00m\n\u001b[1;32m    681\u001b[0m     \u001b[38;5;28;01mif\u001b[39;00m VERBOSE: print_header(\u001b[38;5;124mf\u001b[39m\u001b[38;5;124m\"\u001b[39m\u001b[38;5;124mSynthesizing Answer [\u001b[39m\u001b[38;5;132;01m{\u001b[39;00mcomponent_i\u001b[38;5;132;01m}\u001b[39;00m\u001b[38;5;124m/\u001b[39m\u001b[38;5;132;01m{\u001b[39;00m\u001b[38;5;28mlen\u001b[39m(components)\u001b[38;5;132;01m}\u001b[39;00m\u001b[38;5;124m]\u001b[39m\u001b[38;5;124m\"\u001b[39m, level\u001b[38;5;241m=\u001b[39m\u001b[38;5;241m3\u001b[39m, decorator\u001b[38;5;241m=\u001b[39m\u001b[38;5;124m'\u001b[39m\u001b[38;5;124m=\u001b[39m\u001b[38;5;124m'\u001b[39m)\n\u001b[0;32m--> 682\u001b[0m     answer \u001b[38;5;241m=\u001b[39m \u001b[38;5;28;43mself\u001b[39;49m\u001b[38;5;241;43m.\u001b[39;49m\u001b[43manswer_synthesizer\u001b[49m\u001b[43m(\u001b[49m\n\u001b[1;32m    683\u001b[0m \u001b[43m        \u001b[49m\u001b[43mcomponent\u001b[49m\u001b[38;5;241;43m=\u001b[39;49m\u001b[43mcomponent\u001b[49m\u001b[43m,\u001b[49m\n\u001b[1;32m    684\u001b[0m \u001b[43m        \u001b[49m\u001b[43mdocuments\u001b[49m\u001b[38;5;241;43m=\u001b[39;49m\u001b[43mrelevant_docs\u001b[49m\n\u001b[1;32m    685\u001b[0m \u001b[43m    \u001b[49m\u001b[43m)\u001b[49m\n\u001b[1;32m    686\u001b[0m     component\u001b[38;5;241m.\u001b[39manswer \u001b[38;5;241m=\u001b[39m answer \u001b[38;5;66;03m# Set answer to the question\u001b[39;00m\n\u001b[1;32m    688\u001b[0m \u001b[38;5;66;03m# Set claim components (questions and answers)\u001b[39;00m\n",
      "File \u001b[0;32m/opt/homebrew/Caskroom/miniforge/base/envs/RAG/lib/python3.10/site-packages/dspy/utils/callback.py:234\u001b[0m, in \u001b[0;36mwith_callbacks.<locals>.wrapper\u001b[0;34m(instance, *args, **kwargs)\u001b[0m\n\u001b[1;32m    232\u001b[0m \u001b[38;5;66;03m# If no callbacks are provided, just call the function\u001b[39;00m\n\u001b[1;32m    233\u001b[0m \u001b[38;5;28;01mif\u001b[39;00m \u001b[38;5;129;01mnot\u001b[39;00m callbacks:\n\u001b[0;32m--> 234\u001b[0m     \u001b[38;5;28;01mreturn\u001b[39;00m \u001b[43mfn\u001b[49m\u001b[43m(\u001b[49m\u001b[43minstance\u001b[49m\u001b[43m,\u001b[49m\u001b[43m \u001b[49m\u001b[38;5;241;43m*\u001b[39;49m\u001b[43margs\u001b[49m\u001b[43m,\u001b[49m\u001b[43m \u001b[49m\u001b[38;5;241;43m*\u001b[39;49m\u001b[38;5;241;43m*\u001b[39;49m\u001b[43mkwargs\u001b[49m\u001b[43m)\u001b[49m\n\u001b[1;32m    236\u001b[0m \u001b[38;5;66;03m# Generate call ID as the unique identifier for the call, this is useful for instrumentation.\u001b[39;00m\n\u001b[1;32m    237\u001b[0m call_id \u001b[38;5;241m=\u001b[39m uuid\u001b[38;5;241m.\u001b[39muuid4()\u001b[38;5;241m.\u001b[39mhex\n",
      "File \u001b[0;32m/opt/homebrew/Caskroom/miniforge/base/envs/RAG/lib/python3.10/site-packages/dspy/primitives/program.py:24\u001b[0m, in \u001b[0;36mModule.__call__\u001b[0;34m(self, *args, **kwargs)\u001b[0m\n\u001b[1;32m     22\u001b[0m \u001b[38;5;129m@with_callbacks\u001b[39m\n\u001b[1;32m     23\u001b[0m \u001b[38;5;28;01mdef\u001b[39;00m \u001b[38;5;21m__call__\u001b[39m(\u001b[38;5;28mself\u001b[39m, \u001b[38;5;241m*\u001b[39margs, \u001b[38;5;241m*\u001b[39m\u001b[38;5;241m*\u001b[39mkwargs):\n\u001b[0;32m---> 24\u001b[0m     \u001b[38;5;28;01mreturn\u001b[39;00m \u001b[38;5;28;43mself\u001b[39;49m\u001b[38;5;241;43m.\u001b[39;49m\u001b[43mforward\u001b[49m\u001b[43m(\u001b[49m\u001b[38;5;241;43m*\u001b[39;49m\u001b[43margs\u001b[49m\u001b[43m,\u001b[49m\u001b[43m \u001b[49m\u001b[38;5;241;43m*\u001b[39;49m\u001b[38;5;241;43m*\u001b[39;49m\u001b[43mkwargs\u001b[49m\u001b[43m)\u001b[49m\n",
      "File \u001b[0;32m~/Desktop/StuyCS/Projects/ML/LLM-FactChecker/benchmark/../pipeline_v2/main.py:472\u001b[0m, in \u001b[0;36mAnswerSynthesizer.forward\u001b[0;34m(self, component, documents)\u001b[0m\n\u001b[1;32m    468\u001b[0m     \u001b[38;5;28mprint\u001b[39m(\u001b[38;5;124mf\u001b[39m\u001b[38;5;124m\"\u001b[39m\u001b[38;5;124mFailed to parse JSON response: \u001b[39m\u001b[38;5;132;01m{\u001b[39;00me\u001b[38;5;132;01m}\u001b[39;00m\u001b[38;5;124m \u001b[39m\u001b[38;5;130;01m\\n\u001b[39;00m\u001b[38;5;124mResponse: \u001b[39m\u001b[38;5;132;01m{\u001b[39;00mresult\u001b[38;5;132;01m}\u001b[39;00m\u001b[38;5;124m \u001b[39m\u001b[38;5;130;01m\\n\u001b[39;00m\u001b[38;5;124mRegenerating...\u001b[39m\u001b[38;5;124m\"\u001b[39m)\n\u001b[1;32m    469\u001b[0m     \u001b[38;5;28;01mreturn\u001b[39;00m \u001b[38;5;28mself\u001b[39m\u001b[38;5;241m.\u001b[39mforward(component, documents)\n\u001b[1;32m    471\u001b[0m answer \u001b[38;5;241m=\u001b[39m Answer(\n\u001b[0;32m--> 472\u001b[0m     text\u001b[38;5;241m=\u001b[39m\u001b[43mdata\u001b[49m\u001b[43m[\u001b[49m\u001b[38;5;124;43m\"\u001b[39;49m\u001b[38;5;124;43mtext\u001b[39;49m\u001b[38;5;124;43m\"\u001b[39;49m\u001b[43m]\u001b[49m,\n\u001b[1;32m    473\u001b[0m     citations\u001b[38;5;241m=\u001b[39m[Citation(\u001b[38;5;241m*\u001b[39m\u001b[38;5;241m*\u001b[39mcitation) \u001b[38;5;28;01mfor\u001b[39;00m citation \u001b[38;5;129;01min\u001b[39;00m data[\u001b[38;5;124m\"\u001b[39m\u001b[38;5;124mcitations\u001b[39m\u001b[38;5;124m\"\u001b[39m]]\n\u001b[1;32m    474\u001b[0m )\n\u001b[1;32m    476\u001b[0m \u001b[38;5;28;01mif\u001b[39;00m VERBOSE:\n\u001b[1;32m    477\u001b[0m     print_header(\u001b[38;5;124mf\u001b[39m\u001b[38;5;124m\"\u001b[39m\u001b[38;5;124mAnswer: \u001b[39m\u001b[38;5;132;01m{\u001b[39;00mcolored(answer\u001b[38;5;241m.\u001b[39mtext,\u001b[38;5;250m \u001b[39m\u001b[38;5;124m'\u001b[39m\u001b[38;5;124mgreen\u001b[39m\u001b[38;5;124m'\u001b[39m)\u001b[38;5;132;01m}\u001b[39;00m\u001b[38;5;124m\"\u001b[39m, level\u001b[38;5;241m=\u001b[39m\u001b[38;5;241m4\u001b[39m)\n",
      "\u001b[0;31mTypeError\u001b[0m: list indices must be integers or slices, not str"
     ]
    }
   ],
   "source": [
    "statement = \"\"\"\"Statement: Crime is down in Venezuela by 67% because they're taking their gangs and their criminals and depositing them very nicely into the United States.”\"\"\"\n",
    "verdict, confidence, reasoning, claims = pipeline.fact_check(statement, context=\"Source: Donald Trump, Date: 2024-04-02\")\n",
    "\n",
    "# Print final result\n",
    "print(\"\\nFinal Fact-Check Result:\")\n",
    "print_header(f\"Statement: {colored(statement, 'white')}\", level=1)\n",
    "print_header(f\"Overall Verdict: {colored(verdict, 'green')}\", level=1)\n",
    "print_header(f\"Overall Confidence: {colored(str(confidence), 'yellow')}\", level=1)\n",
    "print_header(f\"Overall Reasoning: {colored(reasoning, 'cyan')}\", level=1)"
   ]
  }
 ],
 "metadata": {
  "kernelspec": {
   "display_name": "RAG",
   "language": "python",
   "name": "python3"
  },
  "language_info": {
   "codemirror_mode": {
    "name": "ipython",
    "version": 3
   },
   "file_extension": ".py",
   "mimetype": "text/x-python",
   "name": "python",
   "nbconvert_exporter": "python",
   "pygments_lexer": "ipython3",
   "version": "3.10.14"
  }
 },
 "nbformat": 4,
 "nbformat_minor": 2
}
