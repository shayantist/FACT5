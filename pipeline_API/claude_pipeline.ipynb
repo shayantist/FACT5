{
  "cells": [
    {
      "cell_type": "code",
      "execution_count": 1,
      "metadata": {
        "colab": {
          "base_uri": "https://localhost:8080/"
        },
        "id": "pyPcREqUfSd6",
        "outputId": "dbd3ce6d-9cc7-4346-9085-9751331b070d"
      },
      "outputs": [
        {
          "name": "stdout",
          "output_type": "stream",
          "text": [
            "\u001b[33mWARNING: There was an error checking the latest version of pip.\u001b[0m\u001b[33m\n",
            "\u001b[0m"
          ]
        }
      ],
      "source": [
        "# !pip install -q openai"
      ]
    },
    {
      "cell_type": "code",
      "execution_count": 2,
      "metadata": {
        "colab": {
          "base_uri": "https://localhost:8080/"
        },
        "id": "cCUhIrM43cdB",
        "outputId": "98b29747-119c-49d8-be05-41606598c851"
      },
      "outputs": [
        {
          "name": "stdout",
          "output_type": "stream",
          "text": [
            "\u001b[33mWARNING: There was an error checking the latest version of pip.\u001b[0m\u001b[33m\n",
            "\u001b[0mLooking in indexes: https://pypi.org/simple/\n",
            "Collecting bitsandbytes\n",
            "  Obtaining dependency information for bitsandbytes from https://files.pythonhosted.org/packages/9b/63/489ef9cd7a33c1f08f1b2be51d1b511883c5e34591aaa9873b30021cd679/bitsandbytes-0.42.0-py3-none-any.whl.metadata\n",
            "  Downloading bitsandbytes-0.42.0-py3-none-any.whl.metadata (9.9 kB)\n",
            "Requirement already satisfied: scipy in /opt/homebrew/Caskroom/miniconda/base/envs/llms/lib/python3.11/site-packages (from bitsandbytes) (1.11.3)\n",
            "Requirement already satisfied: numpy<1.28.0,>=1.21.6 in /opt/homebrew/Caskroom/miniconda/base/envs/llms/lib/python3.11/site-packages (from scipy->bitsandbytes) (1.26.4)\n",
            "Downloading bitsandbytes-0.42.0-py3-none-any.whl (105.0 MB)\n",
            "\u001b[2K   \u001b[90m━━━━━━━━━━━━━━━━━━━━━━━━━━━━━━━━━━━━━━━━\u001b[0m \u001b[32m105.0/105.0 MB\u001b[0m \u001b[31m14.8 MB/s\u001b[0m eta \u001b[36m0:00:00\u001b[0m00:01\u001b[0m00:01\u001b[0m\n",
            "\u001b[?25hInstalling collected packages: bitsandbytes\n",
            "Successfully installed bitsandbytes-0.42.0\n",
            "\u001b[33mWARNING: There was an error checking the latest version of pip.\u001b[0m\u001b[33m\n",
            "\u001b[0mRequirement already satisfied: sentence_transformers in /opt/homebrew/Caskroom/miniconda/base/envs/llms/lib/python3.11/site-packages (2.7.0)\n",
            "Requirement already satisfied: transformers<5.0.0,>=4.34.0 in /opt/homebrew/Caskroom/miniconda/base/envs/llms/lib/python3.11/site-packages (from sentence_transformers) (4.34.1)\n",
            "Requirement already satisfied: tqdm in /opt/homebrew/Caskroom/miniconda/base/envs/llms/lib/python3.11/site-packages (from sentence_transformers) (4.66.1)\n",
            "Requirement already satisfied: torch>=1.11.0 in /opt/homebrew/Caskroom/miniconda/base/envs/llms/lib/python3.11/site-packages (from sentence_transformers) (2.0.0.post3)\n",
            "Requirement already satisfied: numpy in /opt/homebrew/Caskroom/miniconda/base/envs/llms/lib/python3.11/site-packages (from sentence_transformers) (1.26.4)\n",
            "Requirement already satisfied: scikit-learn in /opt/homebrew/Caskroom/miniconda/base/envs/llms/lib/python3.11/site-packages (from sentence_transformers) (1.3.1)\n",
            "Requirement already satisfied: scipy in /opt/homebrew/Caskroom/miniconda/base/envs/llms/lib/python3.11/site-packages (from sentence_transformers) (1.11.3)\n",
            "Requirement already satisfied: huggingface-hub>=0.15.1 in /opt/homebrew/Caskroom/miniconda/base/envs/llms/lib/python3.11/site-packages (from sentence_transformers) (0.17.3)\n",
            "Requirement already satisfied: Pillow in /opt/homebrew/Caskroom/miniconda/base/envs/llms/lib/python3.11/site-packages (from sentence_transformers) (10.0.1)\n",
            "Requirement already satisfied: filelock in /opt/homebrew/Caskroom/miniconda/base/envs/llms/lib/python3.11/site-packages (from huggingface-hub>=0.15.1->sentence_transformers) (3.13.0)\n",
            "Requirement already satisfied: fsspec in /opt/homebrew/Caskroom/miniconda/base/envs/llms/lib/python3.11/site-packages (from huggingface-hub>=0.15.1->sentence_transformers) (2023.10.0)\n",
            "Requirement already satisfied: requests in /opt/homebrew/Caskroom/miniconda/base/envs/llms/lib/python3.11/site-packages (from huggingface-hub>=0.15.1->sentence_transformers) (2.31.0)\n",
            "Requirement already satisfied: pyyaml>=5.1 in /opt/homebrew/Caskroom/miniconda/base/envs/llms/lib/python3.11/site-packages (from huggingface-hub>=0.15.1->sentence_transformers) (6.0.1)\n",
            "Requirement already satisfied: typing-extensions>=3.7.4.3 in /opt/homebrew/Caskroom/miniconda/base/envs/llms/lib/python3.11/site-packages (from huggingface-hub>=0.15.1->sentence_transformers) (4.8.0)\n",
            "Requirement already satisfied: packaging>=20.9 in /opt/homebrew/Caskroom/miniconda/base/envs/llms/lib/python3.11/site-packages (from huggingface-hub>=0.15.1->sentence_transformers) (23.2)\n",
            "Requirement already satisfied: sympy in /opt/homebrew/Caskroom/miniconda/base/envs/llms/lib/python3.11/site-packages (from torch>=1.11.0->sentence_transformers) (1.12)\n",
            "Requirement already satisfied: networkx in /opt/homebrew/Caskroom/miniconda/base/envs/llms/lib/python3.11/site-packages (from torch>=1.11.0->sentence_transformers) (3.2.1)\n",
            "Requirement already satisfied: jinja2 in /opt/homebrew/Caskroom/miniconda/base/envs/llms/lib/python3.11/site-packages (from torch>=1.11.0->sentence_transformers) (3.1.2)\n",
            "Requirement already satisfied: regex!=2019.12.17 in /opt/homebrew/Caskroom/miniconda/base/envs/llms/lib/python3.11/site-packages (from transformers<5.0.0,>=4.34.0->sentence_transformers) (2023.10.3)\n",
            "Requirement already satisfied: tokenizers<0.15,>=0.14 in /opt/homebrew/Caskroom/miniconda/base/envs/llms/lib/python3.11/site-packages (from transformers<5.0.0,>=4.34.0->sentence_transformers) (0.14.1)\n",
            "Requirement already satisfied: safetensors>=0.3.1 in /opt/homebrew/Caskroom/miniconda/base/envs/llms/lib/python3.11/site-packages (from transformers<5.0.0,>=4.34.0->sentence_transformers) (0.3.3)\n",
            "Requirement already satisfied: joblib>=1.1.1 in /opt/homebrew/Caskroom/miniconda/base/envs/llms/lib/python3.11/site-packages (from scikit-learn->sentence_transformers) (1.3.2)\n",
            "Requirement already satisfied: threadpoolctl>=2.0.0 in /opt/homebrew/Caskroom/miniconda/base/envs/llms/lib/python3.11/site-packages (from scikit-learn->sentence_transformers) (3.2.0)\n",
            "Requirement already satisfied: MarkupSafe>=2.0 in /opt/homebrew/Caskroom/miniconda/base/envs/llms/lib/python3.11/site-packages (from jinja2->torch>=1.11.0->sentence_transformers) (2.1.3)\n",
            "Requirement already satisfied: charset-normalizer<4,>=2 in /opt/homebrew/Caskroom/miniconda/base/envs/llms/lib/python3.11/site-packages (from requests->huggingface-hub>=0.15.1->sentence_transformers) (3.2.0)\n",
            "Requirement already satisfied: idna<4,>=2.5 in /opt/homebrew/Caskroom/miniconda/base/envs/llms/lib/python3.11/site-packages (from requests->huggingface-hub>=0.15.1->sentence_transformers) (3.4)\n",
            "Requirement already satisfied: urllib3<3,>=1.21.1 in /opt/homebrew/Caskroom/miniconda/base/envs/llms/lib/python3.11/site-packages (from requests->huggingface-hub>=0.15.1->sentence_transformers) (2.0.5)\n",
            "Requirement already satisfied: certifi>=2017.4.17 in /opt/homebrew/Caskroom/miniconda/base/envs/llms/lib/python3.11/site-packages (from requests->huggingface-hub>=0.15.1->sentence_transformers) (2024.2.2)\n",
            "Requirement already satisfied: mpmath>=0.19 in /opt/homebrew/Caskroom/miniconda/base/envs/llms/lib/python3.11/site-packages (from sympy->torch>=1.11.0->sentence_transformers) (1.3.0)\n",
            "\u001b[33mWARNING: There was an error checking the latest version of pip.\u001b[0m\u001b[33m\n",
            "\u001b[0mCollecting googlesearch-python\n",
            "  Obtaining dependency information for googlesearch-python from https://files.pythonhosted.org/packages/07/6d/bc3f2246868c29f1eacceed738057a7ea3c2b04737822b7fcc10128722b5/googlesearch_python-1.2.4-py3-none-any.whl.metadata\n",
            "  Downloading googlesearch_python-1.2.4-py3-none-any.whl.metadata (2.6 kB)\n",
            "Requirement already satisfied: beautifulsoup4>=4.9 in /opt/homebrew/Caskroom/miniconda/base/envs/llms/lib/python3.11/site-packages (from googlesearch-python) (4.12.3)\n",
            "Requirement already satisfied: requests>=2.20 in /opt/homebrew/Caskroom/miniconda/base/envs/llms/lib/python3.11/site-packages (from googlesearch-python) (2.31.0)\n",
            "Requirement already satisfied: soupsieve>1.2 in /opt/homebrew/Caskroom/miniconda/base/envs/llms/lib/python3.11/site-packages (from beautifulsoup4>=4.9->googlesearch-python) (2.5)\n",
            "Requirement already satisfied: charset-normalizer<4,>=2 in /opt/homebrew/Caskroom/miniconda/base/envs/llms/lib/python3.11/site-packages (from requests>=2.20->googlesearch-python) (3.2.0)\n",
            "Requirement already satisfied: idna<4,>=2.5 in /opt/homebrew/Caskroom/miniconda/base/envs/llms/lib/python3.11/site-packages (from requests>=2.20->googlesearch-python) (3.4)\n",
            "Requirement already satisfied: urllib3<3,>=1.21.1 in /opt/homebrew/Caskroom/miniconda/base/envs/llms/lib/python3.11/site-packages (from requests>=2.20->googlesearch-python) (2.0.5)\n",
            "Requirement already satisfied: certifi>=2017.4.17 in /opt/homebrew/Caskroom/miniconda/base/envs/llms/lib/python3.11/site-packages (from requests>=2.20->googlesearch-python) (2024.2.2)\n",
            "Downloading googlesearch_python-1.2.4-py3-none-any.whl (4.5 kB)\n",
            "Installing collected packages: googlesearch-python\n",
            "Successfully installed googlesearch-python-1.2.4\n",
            "\u001b[33mWARNING: There was an error checking the latest version of pip.\u001b[0m\u001b[33m\n",
            "\u001b[0mRequirement already satisfied: langchain in /opt/homebrew/Caskroom/miniconda/base/envs/llms/lib/python3.11/site-packages (0.1.16)\n",
            "Requirement already satisfied: PyYAML>=5.3 in /opt/homebrew/Caskroom/miniconda/base/envs/llms/lib/python3.11/site-packages (from langchain) (6.0.1)\n",
            "Requirement already satisfied: SQLAlchemy<3,>=1.4 in /opt/homebrew/Caskroom/miniconda/base/envs/llms/lib/python3.11/site-packages (from langchain) (2.0.29)\n",
            "Requirement already satisfied: aiohttp<4.0.0,>=3.8.3 in /opt/homebrew/Caskroom/miniconda/base/envs/llms/lib/python3.11/site-packages (from langchain) (3.8.5)\n",
            "Requirement already satisfied: dataclasses-json<0.7,>=0.5.7 in /opt/homebrew/Caskroom/miniconda/base/envs/llms/lib/python3.11/site-packages (from langchain) (0.6.4)\n",
            "Requirement already satisfied: jsonpatch<2.0,>=1.33 in /opt/homebrew/Caskroom/miniconda/base/envs/llms/lib/python3.11/site-packages (from langchain) (1.33)\n",
            "Requirement already satisfied: langchain-community<0.1,>=0.0.32 in /opt/homebrew/Caskroom/miniconda/base/envs/llms/lib/python3.11/site-packages (from langchain) (0.0.34)\n",
            "Requirement already satisfied: langchain-core<0.2.0,>=0.1.42 in /opt/homebrew/Caskroom/miniconda/base/envs/llms/lib/python3.11/site-packages (from langchain) (0.1.46)\n",
            "Requirement already satisfied: langchain-text-splitters<0.1,>=0.0.1 in /opt/homebrew/Caskroom/miniconda/base/envs/llms/lib/python3.11/site-packages (from langchain) (0.0.1)\n",
            "Requirement already satisfied: langsmith<0.2.0,>=0.1.17 in /opt/homebrew/Caskroom/miniconda/base/envs/llms/lib/python3.11/site-packages (from langchain) (0.1.51)\n",
            "Requirement already satisfied: numpy<2,>=1 in /opt/homebrew/Caskroom/miniconda/base/envs/llms/lib/python3.11/site-packages (from langchain) (1.26.4)\n",
            "Requirement already satisfied: pydantic<3,>=1 in /opt/homebrew/Caskroom/miniconda/base/envs/llms/lib/python3.11/site-packages (from langchain) (2.7.1)\n",
            "Requirement already satisfied: requests<3,>=2 in /opt/homebrew/Caskroom/miniconda/base/envs/llms/lib/python3.11/site-packages (from langchain) (2.31.0)\n",
            "Requirement already satisfied: tenacity<9.0.0,>=8.1.0 in /opt/homebrew/Caskroom/miniconda/base/envs/llms/lib/python3.11/site-packages (from langchain) (8.2.3)\n",
            "Requirement already satisfied: attrs>=17.3.0 in /opt/homebrew/Caskroom/miniconda/base/envs/llms/lib/python3.11/site-packages (from aiohttp<4.0.0,>=3.8.3->langchain) (23.1.0)\n",
            "Requirement already satisfied: charset-normalizer<4.0,>=2.0 in /opt/homebrew/Caskroom/miniconda/base/envs/llms/lib/python3.11/site-packages (from aiohttp<4.0.0,>=3.8.3->langchain) (3.2.0)\n",
            "Requirement already satisfied: multidict<7.0,>=4.5 in /opt/homebrew/Caskroom/miniconda/base/envs/llms/lib/python3.11/site-packages (from aiohttp<4.0.0,>=3.8.3->langchain) (6.0.4)\n",
            "Requirement already satisfied: async-timeout<5.0,>=4.0.0a3 in /opt/homebrew/Caskroom/miniconda/base/envs/llms/lib/python3.11/site-packages (from aiohttp<4.0.0,>=3.8.3->langchain) (4.0.3)\n",
            "Requirement already satisfied: yarl<2.0,>=1.0 in /opt/homebrew/Caskroom/miniconda/base/envs/llms/lib/python3.11/site-packages (from aiohttp<4.0.0,>=3.8.3->langchain) (1.9.2)\n",
            "Requirement already satisfied: frozenlist>=1.1.1 in /opt/homebrew/Caskroom/miniconda/base/envs/llms/lib/python3.11/site-packages (from aiohttp<4.0.0,>=3.8.3->langchain) (1.4.0)\n",
            "Requirement already satisfied: aiosignal>=1.1.2 in /opt/homebrew/Caskroom/miniconda/base/envs/llms/lib/python3.11/site-packages (from aiohttp<4.0.0,>=3.8.3->langchain) (1.3.1)\n",
            "Requirement already satisfied: marshmallow<4.0.0,>=3.18.0 in /opt/homebrew/Caskroom/miniconda/base/envs/llms/lib/python3.11/site-packages (from dataclasses-json<0.7,>=0.5.7->langchain) (3.21.1)\n",
            "Requirement already satisfied: typing-inspect<1,>=0.4.0 in /opt/homebrew/Caskroom/miniconda/base/envs/llms/lib/python3.11/site-packages (from dataclasses-json<0.7,>=0.5.7->langchain) (0.9.0)\n",
            "Requirement already satisfied: jsonpointer>=1.9 in /opt/homebrew/Caskroom/miniconda/base/envs/llms/lib/python3.11/site-packages (from jsonpatch<2.0,>=1.33->langchain) (2.4)\n",
            "Requirement already satisfied: packaging<24.0,>=23.2 in /opt/homebrew/Caskroom/miniconda/base/envs/llms/lib/python3.11/site-packages (from langchain-core<0.2.0,>=0.1.42->langchain) (23.2)\n",
            "Requirement already satisfied: orjson<4.0.0,>=3.9.14 in /opt/homebrew/Caskroom/miniconda/base/envs/llms/lib/python3.11/site-packages (from langsmith<0.2.0,>=0.1.17->langchain) (3.10.1)\n",
            "Requirement already satisfied: annotated-types>=0.4.0 in /opt/homebrew/Caskroom/miniconda/base/envs/llms/lib/python3.11/site-packages (from pydantic<3,>=1->langchain) (0.6.0)\n",
            "Requirement already satisfied: pydantic-core==2.18.2 in /opt/homebrew/Caskroom/miniconda/base/envs/llms/lib/python3.11/site-packages (from pydantic<3,>=1->langchain) (2.18.2)\n",
            "Requirement already satisfied: typing-extensions>=4.6.1 in /opt/homebrew/Caskroom/miniconda/base/envs/llms/lib/python3.11/site-packages (from pydantic<3,>=1->langchain) (4.8.0)\n",
            "Requirement already satisfied: idna<4,>=2.5 in /opt/homebrew/Caskroom/miniconda/base/envs/llms/lib/python3.11/site-packages (from requests<3,>=2->langchain) (3.4)\n",
            "Requirement already satisfied: urllib3<3,>=1.21.1 in /opt/homebrew/Caskroom/miniconda/base/envs/llms/lib/python3.11/site-packages (from requests<3,>=2->langchain) (2.0.5)\n",
            "Requirement already satisfied: certifi>=2017.4.17 in /opt/homebrew/Caskroom/miniconda/base/envs/llms/lib/python3.11/site-packages (from requests<3,>=2->langchain) (2024.2.2)\n",
            "Requirement already satisfied: mypy-extensions>=0.3.0 in /opt/homebrew/Caskroom/miniconda/base/envs/llms/lib/python3.11/site-packages (from typing-inspect<1,>=0.4.0->dataclasses-json<0.7,>=0.5.7->langchain) (1.0.0)\n",
            "\u001b[33mWARNING: There was an error checking the latest version of pip.\u001b[0m\u001b[33m\n",
            "\u001b[0mRequirement already satisfied: chromadb in /opt/homebrew/Caskroom/miniconda/base/envs/llms/lib/python3.11/site-packages (0.5.0)\n",
            "Requirement already satisfied: build>=1.0.3 in /opt/homebrew/Caskroom/miniconda/base/envs/llms/lib/python3.11/site-packages (from chromadb) (1.2.1)\n",
            "Requirement already satisfied: requests>=2.28 in /opt/homebrew/Caskroom/miniconda/base/envs/llms/lib/python3.11/site-packages (from chromadb) (2.31.0)\n",
            "Requirement already satisfied: pydantic>=1.9 in /opt/homebrew/Caskroom/miniconda/base/envs/llms/lib/python3.11/site-packages (from chromadb) (2.7.1)\n",
            "Requirement already satisfied: chroma-hnswlib==0.7.3 in /opt/homebrew/Caskroom/miniconda/base/envs/llms/lib/python3.11/site-packages (from chromadb) (0.7.3)\n",
            "Requirement already satisfied: fastapi>=0.95.2 in /opt/homebrew/Caskroom/miniconda/base/envs/llms/lib/python3.11/site-packages (from chromadb) (0.110.2)\n",
            "Requirement already satisfied: uvicorn[standard]>=0.18.3 in /opt/homebrew/Caskroom/miniconda/base/envs/llms/lib/python3.11/site-packages (from chromadb) (0.29.0)\n",
            "Requirement already satisfied: numpy>=1.22.5 in /opt/homebrew/Caskroom/miniconda/base/envs/llms/lib/python3.11/site-packages (from chromadb) (1.26.4)\n",
            "Requirement already satisfied: posthog>=2.4.0 in /opt/homebrew/Caskroom/miniconda/base/envs/llms/lib/python3.11/site-packages (from chromadb) (3.5.0)\n",
            "Requirement already satisfied: typing-extensions>=4.5.0 in /opt/homebrew/Caskroom/miniconda/base/envs/llms/lib/python3.11/site-packages (from chromadb) (4.8.0)\n",
            "Requirement already satisfied: onnxruntime>=1.14.1 in /opt/homebrew/Caskroom/miniconda/base/envs/llms/lib/python3.11/site-packages (from chromadb) (1.17.3)\n",
            "Requirement already satisfied: opentelemetry-api>=1.2.0 in /opt/homebrew/Caskroom/miniconda/base/envs/llms/lib/python3.11/site-packages (from chromadb) (1.24.0)\n",
            "Requirement already satisfied: opentelemetry-exporter-otlp-proto-grpc>=1.2.0 in /opt/homebrew/Caskroom/miniconda/base/envs/llms/lib/python3.11/site-packages (from chromadb) (1.24.0)\n",
            "Requirement already satisfied: opentelemetry-instrumentation-fastapi>=0.41b0 in /opt/homebrew/Caskroom/miniconda/base/envs/llms/lib/python3.11/site-packages (from chromadb) (0.45b0)\n",
            "Requirement already satisfied: opentelemetry-sdk>=1.2.0 in /opt/homebrew/Caskroom/miniconda/base/envs/llms/lib/python3.11/site-packages (from chromadb) (1.24.0)\n",
            "Requirement already satisfied: tokenizers>=0.13.2 in /opt/homebrew/Caskroom/miniconda/base/envs/llms/lib/python3.11/site-packages (from chromadb) (0.14.1)\n",
            "Requirement already satisfied: pypika>=0.48.9 in /opt/homebrew/Caskroom/miniconda/base/envs/llms/lib/python3.11/site-packages (from chromadb) (0.48.9)\n",
            "Requirement already satisfied: tqdm>=4.65.0 in /opt/homebrew/Caskroom/miniconda/base/envs/llms/lib/python3.11/site-packages (from chromadb) (4.66.1)\n",
            "Requirement already satisfied: overrides>=7.3.1 in /opt/homebrew/Caskroom/miniconda/base/envs/llms/lib/python3.11/site-packages (from chromadb) (7.7.0)\n",
            "Requirement already satisfied: importlib-resources in /opt/homebrew/Caskroom/miniconda/base/envs/llms/lib/python3.11/site-packages (from chromadb) (6.1.1)\n",
            "Requirement already satisfied: grpcio>=1.58.0 in /opt/homebrew/Caskroom/miniconda/base/envs/llms/lib/python3.11/site-packages (from chromadb) (1.62.2)\n",
            "Requirement already satisfied: bcrypt>=4.0.1 in /opt/homebrew/Caskroom/miniconda/base/envs/llms/lib/python3.11/site-packages (from chromadb) (4.1.2)\n",
            "Requirement already satisfied: typer>=0.9.0 in /opt/homebrew/Caskroom/miniconda/base/envs/llms/lib/python3.11/site-packages (from chromadb) (0.12.3)\n",
            "Requirement already satisfied: kubernetes>=28.1.0 in /opt/homebrew/Caskroom/miniconda/base/envs/llms/lib/python3.11/site-packages (from chromadb) (29.0.0)\n",
            "Requirement already satisfied: tenacity>=8.2.3 in /opt/homebrew/Caskroom/miniconda/base/envs/llms/lib/python3.11/site-packages (from chromadb) (8.2.3)\n",
            "Requirement already satisfied: PyYAML>=6.0.0 in /opt/homebrew/Caskroom/miniconda/base/envs/llms/lib/python3.11/site-packages (from chromadb) (6.0.1)\n",
            "Requirement already satisfied: mmh3>=4.0.1 in /opt/homebrew/Caskroom/miniconda/base/envs/llms/lib/python3.11/site-packages (from chromadb) (4.1.0)\n",
            "Requirement already satisfied: orjson>=3.9.12 in /opt/homebrew/Caskroom/miniconda/base/envs/llms/lib/python3.11/site-packages (from chromadb) (3.10.1)\n",
            "Requirement already satisfied: packaging>=19.1 in /opt/homebrew/Caskroom/miniconda/base/envs/llms/lib/python3.11/site-packages (from build>=1.0.3->chromadb) (23.2)\n",
            "Requirement already satisfied: pyproject_hooks in /opt/homebrew/Caskroom/miniconda/base/envs/llms/lib/python3.11/site-packages (from build>=1.0.3->chromadb) (1.0.0)\n",
            "Requirement already satisfied: starlette<0.38.0,>=0.37.2 in /opt/homebrew/Caskroom/miniconda/base/envs/llms/lib/python3.11/site-packages (from fastapi>=0.95.2->chromadb) (0.37.2)\n",
            "Requirement already satisfied: certifi>=14.05.14 in /opt/homebrew/Caskroom/miniconda/base/envs/llms/lib/python3.11/site-packages (from kubernetes>=28.1.0->chromadb) (2024.2.2)\n",
            "Requirement already satisfied: six>=1.9.0 in /opt/homebrew/Caskroom/miniconda/base/envs/llms/lib/python3.11/site-packages (from kubernetes>=28.1.0->chromadb) (1.16.0)\n",
            "Requirement already satisfied: python-dateutil>=2.5.3 in /opt/homebrew/Caskroom/miniconda/base/envs/llms/lib/python3.11/site-packages (from kubernetes>=28.1.0->chromadb) (2.8.2)\n",
            "Requirement already satisfied: google-auth>=1.0.1 in /opt/homebrew/Caskroom/miniconda/base/envs/llms/lib/python3.11/site-packages (from kubernetes>=28.1.0->chromadb) (2.29.0)\n",
            "Requirement already satisfied: websocket-client!=0.40.0,!=0.41.*,!=0.42.*,>=0.32.0 in /opt/homebrew/Caskroom/miniconda/base/envs/llms/lib/python3.11/site-packages (from kubernetes>=28.1.0->chromadb) (1.8.0)\n",
            "Requirement already satisfied: requests-oauthlib in /opt/homebrew/Caskroom/miniconda/base/envs/llms/lib/python3.11/site-packages (from kubernetes>=28.1.0->chromadb) (2.0.0)\n",
            "Requirement already satisfied: oauthlib>=3.2.2 in /opt/homebrew/Caskroom/miniconda/base/envs/llms/lib/python3.11/site-packages (from kubernetes>=28.1.0->chromadb) (3.2.2)\n",
            "Requirement already satisfied: urllib3>=1.24.2 in /opt/homebrew/Caskroom/miniconda/base/envs/llms/lib/python3.11/site-packages (from kubernetes>=28.1.0->chromadb) (2.0.5)\n",
            "Requirement already satisfied: coloredlogs in /opt/homebrew/Caskroom/miniconda/base/envs/llms/lib/python3.11/site-packages (from onnxruntime>=1.14.1->chromadb) (15.0.1)\n",
            "Requirement already satisfied: flatbuffers in /opt/homebrew/Caskroom/miniconda/base/envs/llms/lib/python3.11/site-packages (from onnxruntime>=1.14.1->chromadb) (24.3.25)\n",
            "Requirement already satisfied: protobuf in /opt/homebrew/Caskroom/miniconda/base/envs/llms/lib/python3.11/site-packages (from onnxruntime>=1.14.1->chromadb) (4.25.3)\n",
            "Requirement already satisfied: sympy in /opt/homebrew/Caskroom/miniconda/base/envs/llms/lib/python3.11/site-packages (from onnxruntime>=1.14.1->chromadb) (1.12)\n",
            "Requirement already satisfied: deprecated>=1.2.6 in /opt/homebrew/Caskroom/miniconda/base/envs/llms/lib/python3.11/site-packages (from opentelemetry-api>=1.2.0->chromadb) (1.2.14)\n",
            "Requirement already satisfied: importlib-metadata<=7.0,>=6.0 in /opt/homebrew/Caskroom/miniconda/base/envs/llms/lib/python3.11/site-packages (from opentelemetry-api>=1.2.0->chromadb) (6.8.0)\n",
            "Requirement already satisfied: googleapis-common-protos~=1.52 in /opt/homebrew/Caskroom/miniconda/base/envs/llms/lib/python3.11/site-packages (from opentelemetry-exporter-otlp-proto-grpc>=1.2.0->chromadb) (1.63.0)\n",
            "Requirement already satisfied: opentelemetry-exporter-otlp-proto-common==1.24.0 in /opt/homebrew/Caskroom/miniconda/base/envs/llms/lib/python3.11/site-packages (from opentelemetry-exporter-otlp-proto-grpc>=1.2.0->chromadb) (1.24.0)\n",
            "Requirement already satisfied: opentelemetry-proto==1.24.0 in /opt/homebrew/Caskroom/miniconda/base/envs/llms/lib/python3.11/site-packages (from opentelemetry-exporter-otlp-proto-grpc>=1.2.0->chromadb) (1.24.0)\n",
            "Requirement already satisfied: opentelemetry-instrumentation-asgi==0.45b0 in /opt/homebrew/Caskroom/miniconda/base/envs/llms/lib/python3.11/site-packages (from opentelemetry-instrumentation-fastapi>=0.41b0->chromadb) (0.45b0)\n",
            "Requirement already satisfied: opentelemetry-instrumentation==0.45b0 in /opt/homebrew/Caskroom/miniconda/base/envs/llms/lib/python3.11/site-packages (from opentelemetry-instrumentation-fastapi>=0.41b0->chromadb) (0.45b0)\n",
            "Requirement already satisfied: opentelemetry-semantic-conventions==0.45b0 in /opt/homebrew/Caskroom/miniconda/base/envs/llms/lib/python3.11/site-packages (from opentelemetry-instrumentation-fastapi>=0.41b0->chromadb) (0.45b0)\n",
            "Requirement already satisfied: opentelemetry-util-http==0.45b0 in /opt/homebrew/Caskroom/miniconda/base/envs/llms/lib/python3.11/site-packages (from opentelemetry-instrumentation-fastapi>=0.41b0->chromadb) (0.45b0)\n",
            "Requirement already satisfied: setuptools>=16.0 in /opt/homebrew/Caskroom/miniconda/base/envs/llms/lib/python3.11/site-packages (from opentelemetry-instrumentation==0.45b0->opentelemetry-instrumentation-fastapi>=0.41b0->chromadb) (68.2.2)\n",
            "Requirement already satisfied: wrapt<2.0.0,>=1.0.0 in /opt/homebrew/Caskroom/miniconda/base/envs/llms/lib/python3.11/site-packages (from opentelemetry-instrumentation==0.45b0->opentelemetry-instrumentation-fastapi>=0.41b0->chromadb) (1.16.0)\n",
            "Requirement already satisfied: asgiref~=3.0 in /opt/homebrew/Caskroom/miniconda/base/envs/llms/lib/python3.11/site-packages (from opentelemetry-instrumentation-asgi==0.45b0->opentelemetry-instrumentation-fastapi>=0.41b0->chromadb) (3.8.1)\n",
            "Requirement already satisfied: monotonic>=1.5 in /opt/homebrew/Caskroom/miniconda/base/envs/llms/lib/python3.11/site-packages (from posthog>=2.4.0->chromadb) (1.6)\n",
            "Requirement already satisfied: backoff>=1.10.0 in /opt/homebrew/Caskroom/miniconda/base/envs/llms/lib/python3.11/site-packages (from posthog>=2.4.0->chromadb) (2.2.1)\n",
            "Requirement already satisfied: annotated-types>=0.4.0 in /opt/homebrew/Caskroom/miniconda/base/envs/llms/lib/python3.11/site-packages (from pydantic>=1.9->chromadb) (0.6.0)\n",
            "Requirement already satisfied: pydantic-core==2.18.2 in /opt/homebrew/Caskroom/miniconda/base/envs/llms/lib/python3.11/site-packages (from pydantic>=1.9->chromadb) (2.18.2)\n",
            "Requirement already satisfied: charset-normalizer<4,>=2 in /opt/homebrew/Caskroom/miniconda/base/envs/llms/lib/python3.11/site-packages (from requests>=2.28->chromadb) (3.2.0)\n",
            "Requirement already satisfied: idna<4,>=2.5 in /opt/homebrew/Caskroom/miniconda/base/envs/llms/lib/python3.11/site-packages (from requests>=2.28->chromadb) (3.4)\n",
            "Requirement already satisfied: huggingface_hub<0.18,>=0.16.4 in /opt/homebrew/Caskroom/miniconda/base/envs/llms/lib/python3.11/site-packages (from tokenizers>=0.13.2->chromadb) (0.17.3)\n",
            "Requirement already satisfied: click>=8.0.0 in /opt/homebrew/Caskroom/miniconda/base/envs/llms/lib/python3.11/site-packages (from typer>=0.9.0->chromadb) (8.1.7)\n",
            "Requirement already satisfied: shellingham>=1.3.0 in /opt/homebrew/Caskroom/miniconda/base/envs/llms/lib/python3.11/site-packages (from typer>=0.9.0->chromadb) (1.5.4)\n",
            "Requirement already satisfied: rich>=10.11.0 in /opt/homebrew/Caskroom/miniconda/base/envs/llms/lib/python3.11/site-packages (from typer>=0.9.0->chromadb) (13.6.0)\n",
            "Requirement already satisfied: h11>=0.8 in /opt/homebrew/Caskroom/miniconda/base/envs/llms/lib/python3.11/site-packages (from uvicorn[standard]>=0.18.3->chromadb) (0.14.0)\n",
            "Requirement already satisfied: httptools>=0.5.0 in /opt/homebrew/Caskroom/miniconda/base/envs/llms/lib/python3.11/site-packages (from uvicorn[standard]>=0.18.3->chromadb) (0.6.1)\n",
            "Requirement already satisfied: python-dotenv>=0.13 in /opt/homebrew/Caskroom/miniconda/base/envs/llms/lib/python3.11/site-packages (from uvicorn[standard]>=0.18.3->chromadb) (1.0.1)\n",
            "Requirement already satisfied: uvloop!=0.15.0,!=0.15.1,>=0.14.0 in /opt/homebrew/Caskroom/miniconda/base/envs/llms/lib/python3.11/site-packages (from uvicorn[standard]>=0.18.3->chromadb) (0.19.0)\n",
            "Requirement already satisfied: watchfiles>=0.13 in /opt/homebrew/Caskroom/miniconda/base/envs/llms/lib/python3.11/site-packages (from uvicorn[standard]>=0.18.3->chromadb) (0.21.0)\n",
            "Requirement already satisfied: websockets>=10.4 in /opt/homebrew/Caskroom/miniconda/base/envs/llms/lib/python3.11/site-packages (from uvicorn[standard]>=0.18.3->chromadb) (12.0)\n",
            "Requirement already satisfied: cachetools<6.0,>=2.0.0 in /opt/homebrew/Caskroom/miniconda/base/envs/llms/lib/python3.11/site-packages (from google-auth>=1.0.1->kubernetes>=28.1.0->chromadb) (5.3.3)\n",
            "Requirement already satisfied: pyasn1-modules>=0.2.1 in /opt/homebrew/Caskroom/miniconda/base/envs/llms/lib/python3.11/site-packages (from google-auth>=1.0.1->kubernetes>=28.1.0->chromadb) (0.4.0)\n",
            "Requirement already satisfied: rsa<5,>=3.1.4 in /opt/homebrew/Caskroom/miniconda/base/envs/llms/lib/python3.11/site-packages (from google-auth>=1.0.1->kubernetes>=28.1.0->chromadb) (4.9)\n",
            "Requirement already satisfied: filelock in /opt/homebrew/Caskroom/miniconda/base/envs/llms/lib/python3.11/site-packages (from huggingface_hub<0.18,>=0.16.4->tokenizers>=0.13.2->chromadb) (3.13.0)\n",
            "Requirement already satisfied: fsspec in /opt/homebrew/Caskroom/miniconda/base/envs/llms/lib/python3.11/site-packages (from huggingface_hub<0.18,>=0.16.4->tokenizers>=0.13.2->chromadb) (2023.10.0)\n",
            "Requirement already satisfied: zipp>=0.5 in /opt/homebrew/Caskroom/miniconda/base/envs/llms/lib/python3.11/site-packages (from importlib-metadata<=7.0,>=6.0->opentelemetry-api>=1.2.0->chromadb) (3.17.0)\n",
            "Requirement already satisfied: markdown-it-py>=2.2.0 in /opt/homebrew/Caskroom/miniconda/base/envs/llms/lib/python3.11/site-packages (from rich>=10.11.0->typer>=0.9.0->chromadb) (3.0.0)\n",
            "Requirement already satisfied: pygments<3.0.0,>=2.13.0 in /opt/homebrew/Caskroom/miniconda/base/envs/llms/lib/python3.11/site-packages (from rich>=10.11.0->typer>=0.9.0->chromadb) (2.16.1)\n",
            "Requirement already satisfied: anyio<5,>=3.4.0 in /opt/homebrew/Caskroom/miniconda/base/envs/llms/lib/python3.11/site-packages (from starlette<0.38.0,>=0.37.2->fastapi>=0.95.2->chromadb) (4.3.0)\n",
            "Requirement already satisfied: humanfriendly>=9.1 in /opt/homebrew/Caskroom/miniconda/base/envs/llms/lib/python3.11/site-packages (from coloredlogs->onnxruntime>=1.14.1->chromadb) (10.0)\n",
            "Requirement already satisfied: mpmath>=0.19 in /opt/homebrew/Caskroom/miniconda/base/envs/llms/lib/python3.11/site-packages (from sympy->onnxruntime>=1.14.1->chromadb) (1.3.0)\n",
            "Requirement already satisfied: sniffio>=1.1 in /opt/homebrew/Caskroom/miniconda/base/envs/llms/lib/python3.11/site-packages (from anyio<5,>=3.4.0->starlette<0.38.0,>=0.37.2->fastapi>=0.95.2->chromadb) (1.3.1)\n",
            "Requirement already satisfied: mdurl~=0.1 in /opt/homebrew/Caskroom/miniconda/base/envs/llms/lib/python3.11/site-packages (from markdown-it-py>=2.2.0->rich>=10.11.0->typer>=0.9.0->chromadb) (0.1.2)\n",
            "Requirement already satisfied: pyasn1<0.7.0,>=0.4.6 in /opt/homebrew/Caskroom/miniconda/base/envs/llms/lib/python3.11/site-packages (from pyasn1-modules>=0.2.1->google-auth>=1.0.1->kubernetes>=28.1.0->chromadb) (0.6.0)\n",
            "\u001b[33mWARNING: There was an error checking the latest version of pip.\u001b[0m\u001b[33m\n",
            "\u001b[0m"
          ]
        }
      ],
      "source": [
        "# # For transformer models\n",
        "# !pip install -q accelerate\n",
        "# # !pip install -q bitsandbytes\n",
        "# !pip install -i https://pypi.org/simple/ bitsandbytes\n",
        "# # !pip install -q flash-attn --no-build-isolation\n",
        "\n",
        "# # For sentence similarity\n",
        "# !pip install sentence_transformers\n",
        "\n",
        "# # For web queries\n",
        "# !pip install googlesearch-python\n",
        "\n",
        "# # For Retrieval Augmentated Generation (RAG) since HF doesn't have great support for it\n",
        "# !pip install langchain\n",
        "# !pip install chromadb"
      ]
    },
    {
      "cell_type": "code",
      "execution_count": 1,
      "metadata": {},
      "outputs": [
        {
          "name": "stdout",
          "output_type": "stream",
          "text": [
            "Collecting anthropic\n",
            "  Downloading anthropic-0.25.7-py3-none-any.whl.metadata (18 kB)\n",
            "Requirement already satisfied: anyio<5,>=3.5.0 in /opt/homebrew/Caskroom/miniconda/base/envs/llms/lib/python3.11/site-packages (from anthropic) (4.3.0)\n",
            "Requirement already satisfied: distro<2,>=1.7.0 in /opt/homebrew/Caskroom/miniconda/base/envs/llms/lib/python3.11/site-packages (from anthropic) (1.9.0)\n",
            "Requirement already satisfied: httpx<1,>=0.23.0 in /opt/homebrew/Caskroom/miniconda/base/envs/llms/lib/python3.11/site-packages (from anthropic) (0.27.0)\n",
            "Requirement already satisfied: pydantic<3,>=1.9.0 in /opt/homebrew/Caskroom/miniconda/base/envs/llms/lib/python3.11/site-packages (from anthropic) (2.7.1)\n",
            "Requirement already satisfied: sniffio in /opt/homebrew/Caskroom/miniconda/base/envs/llms/lib/python3.11/site-packages (from anthropic) (1.3.1)\n",
            "Requirement already satisfied: tokenizers>=0.13.0 in /opt/homebrew/Caskroom/miniconda/base/envs/llms/lib/python3.11/site-packages (from anthropic) (0.14.1)\n",
            "Requirement already satisfied: typing-extensions<5,>=4.7 in /opt/homebrew/Caskroom/miniconda/base/envs/llms/lib/python3.11/site-packages (from anthropic) (4.8.0)\n",
            "Requirement already satisfied: idna>=2.8 in /opt/homebrew/Caskroom/miniconda/base/envs/llms/lib/python3.11/site-packages (from anyio<5,>=3.5.0->anthropic) (3.4)\n",
            "Requirement already satisfied: certifi in /opt/homebrew/Caskroom/miniconda/base/envs/llms/lib/python3.11/site-packages (from httpx<1,>=0.23.0->anthropic) (2024.2.2)\n",
            "Requirement already satisfied: httpcore==1.* in /opt/homebrew/Caskroom/miniconda/base/envs/llms/lib/python3.11/site-packages (from httpx<1,>=0.23.0->anthropic) (1.0.5)\n",
            "Requirement already satisfied: h11<0.15,>=0.13 in /opt/homebrew/Caskroom/miniconda/base/envs/llms/lib/python3.11/site-packages (from httpcore==1.*->httpx<1,>=0.23.0->anthropic) (0.14.0)\n",
            "Requirement already satisfied: annotated-types>=0.4.0 in /opt/homebrew/Caskroom/miniconda/base/envs/llms/lib/python3.11/site-packages (from pydantic<3,>=1.9.0->anthropic) (0.6.0)\n",
            "Requirement already satisfied: pydantic-core==2.18.2 in /opt/homebrew/Caskroom/miniconda/base/envs/llms/lib/python3.11/site-packages (from pydantic<3,>=1.9.0->anthropic) (2.18.2)\n",
            "Requirement already satisfied: huggingface_hub<0.18,>=0.16.4 in /opt/homebrew/Caskroom/miniconda/base/envs/llms/lib/python3.11/site-packages (from tokenizers>=0.13.0->anthropic) (0.17.3)\n",
            "Requirement already satisfied: filelock in /opt/homebrew/Caskroom/miniconda/base/envs/llms/lib/python3.11/site-packages (from huggingface_hub<0.18,>=0.16.4->tokenizers>=0.13.0->anthropic) (3.13.0)\n",
            "Requirement already satisfied: fsspec in /opt/homebrew/Caskroom/miniconda/base/envs/llms/lib/python3.11/site-packages (from huggingface_hub<0.18,>=0.16.4->tokenizers>=0.13.0->anthropic) (2023.10.0)\n",
            "Requirement already satisfied: requests in /opt/homebrew/Caskroom/miniconda/base/envs/llms/lib/python3.11/site-packages (from huggingface_hub<0.18,>=0.16.4->tokenizers>=0.13.0->anthropic) (2.31.0)\n",
            "Requirement already satisfied: tqdm>=4.42.1 in /opt/homebrew/Caskroom/miniconda/base/envs/llms/lib/python3.11/site-packages (from huggingface_hub<0.18,>=0.16.4->tokenizers>=0.13.0->anthropic) (4.66.1)\n",
            "Requirement already satisfied: pyyaml>=5.1 in /opt/homebrew/Caskroom/miniconda/base/envs/llms/lib/python3.11/site-packages (from huggingface_hub<0.18,>=0.16.4->tokenizers>=0.13.0->anthropic) (6.0.1)\n",
            "Requirement already satisfied: packaging>=20.9 in /opt/homebrew/Caskroom/miniconda/base/envs/llms/lib/python3.11/site-packages (from huggingface_hub<0.18,>=0.16.4->tokenizers>=0.13.0->anthropic) (23.2)\n",
            "Requirement already satisfied: charset-normalizer<4,>=2 in /opt/homebrew/Caskroom/miniconda/base/envs/llms/lib/python3.11/site-packages (from requests->huggingface_hub<0.18,>=0.16.4->tokenizers>=0.13.0->anthropic) (3.2.0)\n",
            "Requirement already satisfied: urllib3<3,>=1.21.1 in /opt/homebrew/Caskroom/miniconda/base/envs/llms/lib/python3.11/site-packages (from requests->huggingface_hub<0.18,>=0.16.4->tokenizers>=0.13.0->anthropic) (2.0.5)\n",
            "Downloading anthropic-0.25.7-py3-none-any.whl (870 kB)\n",
            "\u001b[2K   \u001b[90m━━━━━━━━━━━━━━━━━━━━━━━━━━━━━━━━━━━━━━━━\u001b[0m \u001b[32m870.8/870.8 kB\u001b[0m \u001b[31m19.4 MB/s\u001b[0m eta \u001b[36m0:00:00\u001b[0ma \u001b[36m0:00:01\u001b[0m\n",
            "\u001b[?25hInstalling collected packages: anthropic\n",
            "Successfully installed anthropic-0.25.7\n"
          ]
        }
      ],
      "source": [
        "# !pip install anthropic"
      ]
    },
    {
      "cell_type": "code",
      "execution_count": 18,
      "metadata": {
        "id": "xON-OssXfjFq"
      },
      "outputs": [],
      "source": [
        "import anthropic\n",
        "\n",
        "# if running locally\n",
        "import os\n",
        "import dotenv\n",
        "dotenv.load_dotenv()\n",
        "\n",
        "ANTHROPIC_API_KEY = os.getenv(\"ANTHROPIC_API_KEY\")\n",
        "\n",
        "# if running on colab\n",
        "# from google.colab import userdata\n",
        "# ANTHROPIC_API_KEY = userdata.get('ANTHROPIC_API_KEY')\n",
        "\n",
        "client = anthropic.Anthropic(\n",
        "    api_key=ANTHROPIC_API_KEY,\n",
        ")"
      ]
    },
    {
      "cell_type": "code",
      "execution_count": 110,
      "metadata": {
        "id": "efOMk3zSljAZ"
      },
      "outputs": [
        {
          "name": "stdout",
          "output_type": "stream",
          "text": [
            "statement: \"We know that President Biden didn’t just create this border crisis. He invited it with 94 executive actions in his first 100 days. When I took office, I took a different approach. I traveled to the Del Rio sector of Texas. That’s where I spoke to a woman who shared her story with me. She had been sex trafficked by the cartels starting at the age of 12. She told me not just that she was raped every day, but how many times a day she was raped. The cartels put her on a mattress in a shoe box of a room, and they sent men through that door over and over again for hours and hours on end. We wouldn’t be okay with this happening in a Third World country. This is the United States of America, and it is past time, in my opinion, that we start acting like it. President Biden’s border policies are a disgrace.\"\n",
            "atomic claims: ['President Biden took 94 executive actions related to immigration in his first 100 days.', 'The speaker traveled to the Del Rio sector of Texas while in office.', 'The speaker spoke to a woman who was sex trafficked by cartels starting at age 12.', 'The woman told the speaker that she was raped every day by multiple men sent by the cartels.', 'The cartels kept the woman in a small room and sent men to rape her repeatedly for hours.', \"The speaker believes such treatment would not be acceptable even in a 'Third World country'.\", \"The speaker believes President Biden's border policies are a 'disgrace'.\", 'The speaker believes it is time for the United States to act against the situation at the border.']\n"
          ]
        }
      ],
      "source": [
        "claim_atomization_system = \"\"\"You are a helpful assistant. Your task is to break down a set of statements given after <<<>>> into a minimal number of atomic claims.\n",
        "These atomic claims need to be comprehensible, coherent, and context-independent. Return your output as a single, one-dimensional list of strings in square brackets.\n",
        "Make sure each string is wrapped with double quotation marks (\") and any quotes within with single (').\n",
        "\"\"\"\n",
        "\n",
        "claim_atomization_template = \"\"\"\n",
        "Segmentation Criteria:\n",
        "1. The atomic claims should be context-independent, or should not rely on additional context to be understood.\n",
        "2. Each atomic claim should focus on a single idea or concept regarding the truthfulness and/or plausibility of the statement. \n",
        "3. Aim for clarity and coherence in the segmented atomic claims. \n",
        "4. If a statement cannot be broken down further, return the entire statement as one atomic claim.\n",
        "\n",
        "###\n",
        "Here are some examples:\n",
        "Statements: The Green New Deal proposed by Rep. Alexandria Ocasio-Cortez aims to achieve net-zero greenhouse gas emissions and create millions of green jobs.\n",
        "Atomic Claims: ['The Green New Deal was proposed by Rep. Alexandria Ocasio-Cortez.', 'The Green New Deal aims to achieve net-zero greenhouse gas emissions.', 'The Green New Deal aims to create millions of green jobs.']\n",
        "Statements: The Inflation Reduction Act, signed into law by President Biden in August 2022, is the largest investment in climate change mitigation in U.S. history.\n",
        "Atomic Claims: ['The Inflation Reduction Act was signed into law by President Biden in August 2022.', 'The Inflation Reduction Act is the largest investment in climate change mitigation in U.S. history.']\n",
        "Statements: President Trump's policies led to the highest inflation rate in over 40 years, resulting in economic hardship for millions of American families.\n",
        "Atomic Claims: [\"President Trump's policies led to the highest inflation rate in over 40 years.\", \"The high inflation rate caused by President Trump's policies resulted in economic hardship for millions of American families.\"]\n",
        "###\n",
        "\n",
        "You will only respond with the atomic claims in the format of a single, one-dimensional list of string objects in square brackets.\n",
        "Do not provide any explanations or notes.\n",
        "\n",
        "<<<\n",
        "Statements: {statements}\n",
        ">>>\n",
        "Atomic Claims: []\"\"\"\n",
        "\n",
        "def generate_atomic_claims(statements, num_examples=3):\n",
        "  \"\"\"\n",
        "  Generates atomic claims for the input statements.\n",
        "\n",
        "  Args:\n",
        "      claim (str): The input statements.\n",
        "      num_examples (int, optional): The number of few-shot examples to include in the prompt. Defaults to 3.\n",
        "\n",
        "  Returns:\n",
        "      str: The generated atomic claims.\n",
        "  \"\"\"\n",
        "  prompt = claim_atomization_template.format(statements=statements)\n",
        "\n",
        "  # claude output\n",
        "  message = client.messages.create(\n",
        "    model=\"claude-3-sonnet-20240229\",\n",
        "    max_tokens=1000,\n",
        "    temperature=0,\n",
        "    system=claim_atomization_system,\n",
        "    messages=[\n",
        "        {\n",
        "            \"role\": \"user\",\n",
        "            \"content\": [\n",
        "                {\n",
        "                    \"type\": \"text\",\n",
        "                    \"text\": prompt\n",
        "                }\n",
        "            ]\n",
        "        }\n",
        "    ]\n",
        "  )\n",
        "\n",
        "  # Decode the generated text\n",
        "  output_text = message.content[0].text\n",
        "\n",
        "  # Extract only the list of claims from the model's output\n",
        "  try:\n",
        "      # Assuming output format directly returns Python list\n",
        "      atomic_claims = eval(output_text.split('Atomic Claims:')[-1].strip())\n",
        "      # POST-PROCESSING ERROR HANDLING: If list contains lists, return a flattened list\n",
        "      if isinstance(atomic_claims[0], list):\n",
        "          atomic_claims = [item for sublist in atomic_claims for item in sublist]\n",
        "      return atomic_claims\n",
        "  except:\n",
        "      print(f\"Error parsing model output: {output_text}\")\n",
        "      return [\"Error parsing model output\"]\n",
        "\n",
        "# Example usage\n",
        "statements = df.statement[37]\n",
        "atomic_claims = generate_atomic_claims(statements)\n",
        "print(f'statement: {statements}')\n",
        "print(f'atomic claims: {atomic_claims}')"
      ]
    },
    {
      "cell_type": "code",
      "execution_count": 109,
      "metadata": {
        "id": "iqsh52A1tqOM"
      },
      "outputs": [
        {
          "name": "stdout",
          "output_type": "stream",
          "text": [
            "Claim: In New York, there are no barriers to law enforcement to work with the federal government on immigration laws.\n",
            "Questions: ['What are the laws or policies in New York regarding cooperation between state/local law enforcement and federal immigration authorities?', 'Are there any restrictions or limitations on New York law enforcement agencies assisting federal agencies in enforcing immigration laws?', \"How does New York's stance on immigration enforcement cooperation with the federal government compare to other states?\"]\n",
            "Claim: In New York, there are 100 crimes where migrants can be handed over.\n",
            "Questions: ['What is the number of crimes in New York where migrants can be handed over to immigration authorities?', 'What types of crimes in New York allow for the transfer of migrants to immigration authorities?', 'How does the policy of handing over migrants to immigration authorities for certain crimes in New York work?', 'What is the legal basis for handing over migrants to immigration authorities in New York for specific crimes?']\n"
          ]
        }
      ],
      "source": [
        "## Question Generation\n",
        "\n",
        "# Define prompt template\n",
        "question_generation_system = \"\"\"\n",
        "You are a helpful assistant. Let's break down the claim to questions step by step. Return your output as a single, one-dimensional list of strings in square brackets. \n",
        "\"\"\"\n",
        "question_generation_template = \"\"\"\n",
        "Let's break down the claim to questions step by step.\n",
        "Your task is to provide a set of unique, independent questions to search on the web to verify the claim given after <<<>>>.\n",
        "\n",
        "Question generation criteria:\n",
        "1. Each question should be related to the claim, context-independent, and be understood without access to the claim.\n",
        "2. Each question should be able to be fact-checked by a True/False.\n",
        "3. Be as specific and concise as possible. Try to minimize the number of questions.\n",
        "4. Include enough details (e.g., pronoun specification, pronoun disambiguation) to ensure that the claim can be verified.\n",
        "\n",
        "###\n",
        "Here are some examples:\n",
        "Claim: The high inflation rate caused by President Trump's policies resulted in economic hardship for millions of American families.\n",
        "Questions: [\"How did the high inflation rate under President Trump's policies affect American families?\", \"What economic challenges did millions of American families face due to the inflation rate under President Trump's policies?\", 'What are the consequences of economic hardship caused by inflation under President Trump?']\n",
        "Claim: President Trump's policies led to the highest inflation rate in over 40 years.\n",
        "Questions: [\"What impact did President Trump's policies have on the inflation rate?\", \"How does the inflation rate during President Trump's term compare to previous years?\", \"What is the significance of the inflation rate under President Trump's policies?\"]\n",
        "###\n",
        "\n",
        "You will only respond with the generated questions in the format of a single, one-dimensional list in square-brackets. Do not provide any explanations or notes.\n",
        "\n",
        "<<<\n",
        "Claim: {claim}\n",
        ">>>\n",
        "Questions: []\"\"\"\n",
        "\n",
        "def generate_questions(claim, num_examples=3):\n",
        "    \"\"\"\n",
        "    Generates questions to verify the factuality of the input claim.\n",
        "\n",
        "    Args:\n",
        "        claim (str): The input claim.\n",
        "        num_examples (int, optional): The number of few-shot examples to include in the prompt. Defaults to 3.\n",
        "\n",
        "    Returns:\n",
        "        str: The generated questions.\n",
        "    \"\"\"\n",
        "    prompt = question_generation_template.format(claim=claim)\n",
        "\n",
        "    # Print the entire prompt for debugging purposes\n",
        "    # print(prompt)\n",
        "\n",
        "    # claude output\n",
        "    message = client.messages.create(\n",
        "        model=\"claude-3-sonnet-20240229\",\n",
        "        max_tokens=1000,\n",
        "        temperature=0,\n",
        "        system=question_generation_system,\n",
        "        messages=[\n",
        "            {\n",
        "                \"role\": \"user\",\n",
        "                \"content\": [\n",
        "                    {\n",
        "                        \"type\": \"text\",\n",
        "                        \"text\": prompt\n",
        "                    }\n",
        "                ]\n",
        "            }\n",
        "        ]\n",
        "    )\n",
        "\n",
        "    # Decode the generated text\n",
        "    output_text = message.content[0].text\n",
        "\n",
        "    # Extract only the list of questions from the model's output\n",
        "    try:\n",
        "        # Assuming output format directly returns Python list\n",
        "        questions = eval(output_text.split('Questions:')[-1].strip())\n",
        "        return questions\n",
        "    except:\n",
        "        print(f\"Error parsing model output: {output_text}\")\n",
        "        return [\"Error parsing model output\"]\n",
        "\n",
        "# Example usage for question generation\n",
        "claim_question = dict()\n",
        "for i, claim in enumerate(atomic_claims):\n",
        "  questions = generate_questions(claim)\n",
        "  claim_question[claim] = questions\n",
        "  print(f\"Claim: {claim}\")\n",
        "  print(f\"Questions: {claim_question[claim]}\")"
      ]
    },
    {
      "cell_type": "code",
      "execution_count": 83,
      "metadata": {
        "id": "aCYr74RW3kul"
      },
      "outputs": [],
      "source": [
        "## Web Querying & Scraping\n",
        "import json\n",
        "import requests\n",
        "import pprint\n",
        "import re\n",
        "from bs4 import BeautifulSoup\n",
        "\n",
        "SOURCE_BLACKLIST = ['politifact.org', 'factcheck.org', 'Snopes.com']\n",
        "\n",
        "def extract_website_name(title):\n",
        "    \"\"\"Extracts the website name from a given title using regex\"\"\"\n",
        "    delimiters = [' \\| ', ' - ']\n",
        "    for delimiter in delimiters:\n",
        "        parts = re.split(delimiter, title)\n",
        "        if len(parts) > 1:\n",
        "            return parts[-1].strip()  # Return the last part of the split title\n",
        "    # If no delimiters are found, return the original title\n",
        "    return title.strip()\n",
        "\n",
        "def scrape_text_from_website(url):\n",
        "    \"\"\"Scrapes text and metadata from a given website URL.\"\"\"\n",
        "    try:\n",
        "        response = requests.get(url, timeout=5)\n",
        "        if response.status_code == 200:\n",
        "            soup = BeautifulSoup(response.content, 'html.parser')\n",
        "\n",
        "            # Remove script and style tags\n",
        "            for script in soup([\"script\", \"style\"]):\n",
        "                script.decompose()\n",
        "\n",
        "            # Extract all text from the website\n",
        "            text = soup.get_text()\n",
        "\n",
        "            # Clean up whitespace\n",
        "            text = re.sub(r'\\s+', ' ', text).strip()\n",
        "\n",
        "            return text\n",
        "        else:\n",
        "            # print(f\"Failed to retrieve content from the URL: {url}\")\n",
        "            return None\n",
        "    except Exception as e:\n",
        "        # print(f\"Error during website scraping: {e}\")\n",
        "        return None\n",
        "\n",
        "def fetch_search_results(question, scrape_website=True):\n",
        "    \"\"\"\n",
        "    Fetches search results for a given question using an API.\n",
        "\n",
        "    Args:\n",
        "        question (str): The question to search for.\n",
        "        scrape_website (bool, optional): Whether to scrape the website content. Defaults to False.\n",
        "\n",
        "    Returns:\n",
        "        list: A list of organic search results.\n",
        "    \"\"\"\n",
        "    api_key = os.environ.get(\"SERPER_API_KEY\")\n",
        "\n",
        "    headers = {\n",
        "        \"X-API-KEY\": api_key,\n",
        "        \"Content-Type\": \"application/json\",\n",
        "    }\n",
        "\n",
        "    payload = json.dumps({\"q\": question})\n",
        "    try:\n",
        "        response = requests.post(\"https://google.serper.dev/search\", headers=headers, data=payload)\n",
        "        result = json.loads(response.text)\n",
        "\n",
        "        # Extract the organic search results and transform them into our desired format\n",
        "        results = []\n",
        "        for item in result['organic']:\n",
        "            # ALSO while iterating through the results, remove any websites on our source blacklist\n",
        "            source = extract_website_name(item.get('link', ''))\n",
        "            if source in SOURCE_BLACKLIST: continue\n",
        "            website_text = scrape_text_from_website(item.get('link', '')) if scrape_website else item.get('snippet', '')\n",
        "            if website_text is None or website_text == '': # if we failed to scrape the website, use the snippet\n",
        "                website_text = item.get('snippet', '')\n",
        "            results.append({\n",
        "                \"title\": item.get('title', ''),\n",
        "                \"source\": source,\n",
        "                \"date_published\": item.get('date', ''),\n",
        "                \"relevant_excerpt\": item.get('snippet', ''),\n",
        "                \"text\": website_text,\n",
        "                \"search_position\": item.get('position', -1),\n",
        "                \"url\": item.get('link', ''),\n",
        "            })\n",
        "        return results\n",
        "\n",
        "    except Exception as e:\n",
        "        print(f\"Failed to fetch information: {e}\")\n",
        "        return []"
      ]
    },
    {
      "cell_type": "code",
      "execution_count": 33,
      "metadata": {
        "id": "Y0wLmC-73F5C"
      },
      "outputs": [],
      "source": [
        "## RAG Retriever\n",
        "from langchain.docstore.document import Document\n",
        "from langchain.vectorstores import Chroma\n",
        "from langchain.embeddings.huggingface import HuggingFaceEmbeddings\n",
        "from langchain.text_splitter import RecursiveCharacterTextSplitter\n",
        "import torch\n",
        "\n",
        "import copy\n",
        "\n",
        "# Initialize embedding model for retrieval (sentence similarity)\n",
        "BATCH_SIZE = 32\n",
        "device = 'cuda' if torch.cuda.is_available() else 'mps' if torch.backends.mps.is_available() else 'cpu'\n",
        "retriever_model_id='sentence-transformers/all-MiniLM-L6-v2'\n",
        "retriever_model = HuggingFaceEmbeddings(\n",
        "    model_name=retriever_model_id,\n",
        "    model_kwargs={'device': device},\n",
        "    encode_kwargs={'device': device, 'batch_size': BATCH_SIZE},\n",
        ")\n",
        "\n",
        "def retrieve_relevant_documents_using_rag(search_results, content_key, question, chunk_size=512, chunk_overlap=128, top_k=10):\n",
        "    \"\"\"\n",
        "    Takes in search results and a query question, processes and splits the documents,\n",
        "    and retrieves relevant documents using a RAG approach.\n",
        "\n",
        "    Args:\n",
        "        search_results (list of dict): A list of dictionaries containing web-scraped data.\n",
        "        question (str): The query question for retrieving relevant documents.\n",
        "        chunk_size (int): The maximum size of the text chunks.\n",
        "        chunk_overlap (int): The overlap between consecutive text chunks.\n",
        "        content_key (str): The key in the dictionary containing the text content.\n",
        "        top_k (int): The number of relevant documents to retrieve.\n",
        "\n",
        "    Returns:\n",
        "        list: A list of relevant document chunks.\n",
        "    \"\"\"\n",
        "    # Create LangChain documents from search results\n",
        "    documents = []\n",
        "    for result in search_results:\n",
        "        page_content = result.pop(content_key, None)  # Extract the text content, remaining keys are metadata\n",
        "        if page_content is not None:\n",
        "            documents.append(Document(page_content=page_content, metadata=result))\n",
        "\n",
        "    # Split documents into smaller chunks (if needed, based on document size)\n",
        "    text_splitter = RecursiveCharacterTextSplitter(\n",
        "        chunk_size=chunk_size,\n",
        "        chunk_overlap=chunk_overlap,\n",
        "    )\n",
        "    split_documents = text_splitter.split_documents(documents)\n",
        "\n",
        "    # Initialize ChromaDB vector store to index the document chunks\n",
        "    db = Chroma.from_documents(\n",
        "        documents=split_documents,\n",
        "        embedding=retriever_model,\n",
        "    )\n",
        "\n",
        "    # Retrieve the most relevant chunks for the given question\n",
        "    relevant_docs = db.max_marginal_relevance_search(question, k=top_k)\n",
        "\n",
        "    return relevant_docs"
      ]
    },
    {
      "cell_type": "code",
      "execution_count": 34,
      "metadata": {
        "id": "6gOyIez85oP4"
      },
      "outputs": [],
      "source": [
        "## RAG-based Question Answering\n",
        "\n",
        "# Define prompt template\n",
        "answer_synthesis_system = \"\"\"\n",
        "You are a helpful assistant. Answer the question and start your message with \"Answer:\"\n",
        "\"\"\"\n",
        "\n",
        "answer_synthesis_template = \"\"\"\n",
        "Let's think step by step. Your task is to synthesize the documents (along with their source metadata) provided below to answer the question given after <<<>>>.\n",
        "\n",
        "Answer criteria:\n",
        "1  Only use the documents below to answer the question.\n",
        "2. Cite the relevant documents as JSON (including the source URL) after your answer starting with \"Sources:\"\n",
        "\n",
        "If you cannot answer the question given the relevant documents, just say that you don't have enough information to answer the question. Do not make up an answer or sources.\n",
        "\n",
        "Here are the relevant documents:\n",
        "{documents}\n",
        "\n",
        "<<<\n",
        "Question: {question}\n",
        ">>>\n",
        "Answer: \"\"\"\n",
        "\n",
        "def synthesize_answer(relevant_docs, question, return_sources=True):\n",
        "    \"\"\"\n",
        "    Synthesizes an answer to a given question using the relevant documents.\n",
        "\n",
        "    Args:\n",
        "        relevant_docs (list of dict): A list of relevant document chunks.\n",
        "        question (str): The question to answer.\n",
        "\n",
        "    Returns:\n",
        "        str: The synthesized answer.\n",
        "    \"\"\"\n",
        "    # Format the relevant documents for the prompt\n",
        "    documents_text = \"\"\n",
        "    for doc in relevant_docs:\n",
        "        documents_text += f\"Title: {doc.metadata.get('source_title', '')}\\n\"\n",
        "        documents_text += f\"URL: {doc.metadata.get('url', '')}\\n\"\n",
        "        documents_text += f\"Text: {doc.page_content.strip()}\\n\\n\"\n",
        "        documents_text += f\"Date Published: {doc.metadata.get('date_published', '')}\\n\"\n",
        "\n",
        "    # Fill in the prompt template with the relevant documents and the question\n",
        "    prompt = answer_synthesis_template.format(documents=documents_text, question=question)\n",
        "    prompt = prompt.replace('\\n\\n', '\\n')\n",
        "\n",
        "    # Print the entire prompt for debugging purposes\n",
        "    # print(prompt)\n",
        "    # print('-'*20)\n",
        "\n",
        "    # claude output\n",
        "    message = client.messages.create(\n",
        "        model=\"claude-3-sonnet-20240229\",\n",
        "        max_tokens=1000,\n",
        "        temperature=0,\n",
        "        system=answer_synthesis_system,\n",
        "        messages=[\n",
        "            {\n",
        "                \"role\": \"user\",\n",
        "                \"content\": [\n",
        "                    {\n",
        "                        \"type\": \"text\",\n",
        "                        \"text\": prompt\n",
        "                    }\n",
        "                ]\n",
        "            }\n",
        "        ]\n",
        "    )\n",
        "\n",
        "    # Decode the generated text\n",
        "    output_text = message.content[0].text\n",
        "    \n",
        "    # Extract only the answer from the model's output\n",
        "    try:\n",
        "        answer = output_text.split('Answer:')[-1].split('Sources:')[0].strip()\n",
        "        sources = output_text.split('Sources:')[-1].strip()\n",
        "        if return_sources: return answer, sources\n",
        "        return answer\n",
        "    except:\n",
        "        print(f\"Error parsing model output: {output_text}\")\n",
        "        return \"Error parsing model output\""
      ]
    },
    {
      "cell_type": "code",
      "execution_count": 35,
      "metadata": {
        "id": "X_bLNrBT6NaR"
      },
      "outputs": [],
      "source": [
        "## Claim Classification\n",
        "\n",
        "# Define prompt template for reasoning and classification\n",
        "# 1. -- from CRITIC\n",
        "claim_classification_system = \"\"\"\n",
        "You are a logical reasoning assistant. In your response, return only one word after \"Verdict:\" and return an explanation after \"Reasoning:\".\n",
        "\"\"\"\n",
        "\n",
        "claim_classification_template = \"\"\"\n",
        "Given the original claim, a set of questions to help verify the claim, and their answers, reason step-by-step to come to a verdict on whether the claim is true or false. Think step-by-step about your reasoning process.\n",
        "Return the verdict after \"Verdict:\" and provide a clear explanation after \"Reasoning:\"\n",
        "For the verdict, only classify the claim as \"True\", \"False\", or \"Unverifiable.\"\n",
        "\n",
        "Reasoning Criteria:\n",
        "1. Reason the claim over both plausibility and truthfulness.\n",
        "2. Make sure to only reference to the question and answer pairs for your explanations.\n",
        "\n",
        "Claim: {claim}\n",
        "\n",
        "{questions_and_answers}\n",
        "\n",
        "Verdict: (True/False/Unverifiable)\n",
        "\n",
        "Reasoning: \"\"\"\n",
        "\n",
        "def classify_claim(claim, questions, answers, return_reasoning=True):\n",
        "    \"\"\"\n",
        "    Uses a chain-of-thought approach to classify the original claim as true or false based on the answers to generated questions.\n",
        "\n",
        "    Args:\n",
        "        claim (str): The original claim.\n",
        "        questions (list): List of questions related to the claim.\n",
        "        answers (list): List of answers corresponding to the questions.\n",
        "\n",
        "    Returns:\n",
        "        str: The conclusion whether the claim is true or false with reasoning.\n",
        "    \"\"\"\n",
        "    # Format the questions and answers into a single string\n",
        "    questions_and_answers = \"\"\n",
        "    for question, answer in zip(questions, answers):\n",
        "        questions_and_answers += f\"Question: {question}\\nAnswer: {answer}\\n\\n\"\n",
        "\n",
        "    # Fill in the prompt template with the claim and formatted questions and answers\n",
        "    prompt = claim_classification_template.format(claim=claim, questions_and_answers=questions_and_answers)\n",
        "\n",
        "    # Print the entire prompt for debugging purposes\n",
        "    # print(prompt)\n",
        "\n",
        "    # claude output\n",
        "    message = client.messages.create(\n",
        "        model=\"claude-3-sonnet-20240229\",\n",
        "        max_tokens=1000,\n",
        "        temperature=0,\n",
        "        system=answer_synthesis_system,\n",
        "        messages=[\n",
        "            {\n",
        "                \"role\": \"user\",\n",
        "                \"content\": [\n",
        "                    {\n",
        "                        \"type\": \"text\",\n",
        "                        \"text\": prompt\n",
        "                    }\n",
        "                ]\n",
        "            }\n",
        "        ]\n",
        "    )\n",
        "\n",
        "    # Decode the generated text\n",
        "    output_text = message.content[0].text\n",
        "\n",
        "    # Extract the verdict and reasoning separately from the model's output\n",
        "    try:\n",
        "        verdict = output_text.split('Verdict:')[-1].split('Reasoning:')[0].strip()\n",
        "        reasoning = output_text.split('Reasoning:')[-1].strip()\n",
        "        if return_reasoning: return verdict, reasoning\n",
        "        return verdict\n",
        "    except:\n",
        "        raise ValueError(f\"Error parsing model output: {output_text}\")\n",
        "\n",
        "    return output_text, verdict"
      ]
    },
    {
      "cell_type": "code",
      "execution_count": 76,
      "metadata": {
        "id": "tlX892CznuzR"
      },
      "outputs": [],
      "source": [
        "from collections import Counter\n",
        "import numpy as np\n",
        "def generate_fact_score(verdicts):\n",
        "    label = None\n",
        "    perc_unverified = 0\n",
        "    v_cleaned = verdicts\n",
        "    if 'Unverifiable' in verdicts:\n",
        "        v_cleaned = verdicts[:]\n",
        "        v_cleaned.remove('Unverifiable')\n",
        "        perc_unverified = Counter(verdicts)['Unverifiable'] / len(verdicts)\n",
        "    perc_true = Counter(verdicts)['True'] / len(verdicts)\n",
        "    perc_false = Counter(verdicts)['False'] / len(verdicts)\n",
        "    perc = [perc_true, perc_false, perc_unverified]\n",
        "    winner = np.argwhere(perc == np.amax(perc))\n",
        "    # print(perc, winner)\n",
        "\n",
        "    if len(winner) == 3: # three-way tie\n",
        "        label = \"Unverifiable\"\n",
        "\n",
        "    elif len(winner) == 2: # two-way tie\n",
        "        if 0 in winner and 1 in winner: # half true\n",
        "            label = 'Half True'\n",
        "        elif 0 in winner and 2 in winner: # true & unverifable\n",
        "            label = \"Unverifiable\"\n",
        "        elif 1 in winner and 2 in winner: # false & unverifable\n",
        "            label = \"Unverifiable\"\n",
        "\n",
        "    elif len(winner) == 1:\n",
        "        if 0 in winner:\n",
        "            if perc_true == 1: # all true\n",
        "                label = \"True\"\n",
        "            elif Counter(v_cleaned)['True'] / len(v_cleaned) > 0.5: # mostly true\n",
        "                label = \"Mostly True\"\n",
        "            else:\n",
        "                label = 'Unverifiable'\n",
        "        elif 1 in winner:\n",
        "            if perc_false == 1: # all false\n",
        "                label = \"Pants on Fire\"\n",
        "            elif Counter(v_cleaned)['False'] / len(v_cleaned) > 0.5: # mostly false\n",
        "                label = \"Mostly False\"\n",
        "            else:\n",
        "                label = 'Unverifiable'\n",
        "        elif 2 in winner:\n",
        "            label = 'Unverifiable'\n",
        "    return label"
      ]
    },
    {
      "cell_type": "code",
      "execution_count": 113,
      "metadata": {
        "id": "PGQWeZyfCnC8"
      },
      "outputs": [],
      "source": [
        "def verify_statement_claude(statement):\n",
        "    atomic_claims = generate_atomic_claims(statement,0)\n",
        "    print(len(atomic_claims))\n",
        "    print(atomic_claims)\n",
        "    output_dict = []\n",
        "    verdicts = []\n",
        "    reasonings = []\n",
        "    for i, claim in enumerate(atomic_claims):\n",
        "        claim_output = {}\n",
        "        claim_output['claim'] = claim\n",
        "        questions = generate_questions(claim,0)\n",
        "        claim_output['qa-pairs'] = {}\n",
        "        claim_output['qa-pairs']['questions'] = questions\n",
        "        answers = []\n",
        "        sources = []\n",
        "        for j, question in enumerate(questions):\n",
        "            search_results = fetch_search_results(question)\n",
        "            relevant_docs = retrieve_relevant_documents_using_rag(search_results, 'relevant_excerpt', question)\n",
        "            answer, source = synthesize_answer(relevant_docs, question)\n",
        "            # output[f'claim_{i}']['questions'][f'answer_{j}'] = question\n",
        "            answers.append(answer)\n",
        "            sources.append(source)\n",
        "        claim_output['qa-pairs']['answers'] = answers\n",
        "        claim_output['qa-pairs']['sources'] = sources\n",
        "        verdict, reasoning = classify_claim(claim, questions, answers)\n",
        "        claim_output['verdict'] = verdict\n",
        "        claim_output['reasoning'] = reasoning\n",
        "        verdicts.append(verdict)\n",
        "        reasonings.append((claim, reasoning))\n",
        "        output_dict.append(claim_output)\n",
        "    reasoning = '\\n'.join([\"Claim: \" + item[0] + \"\\nReasoning: \" + item[1] + \"\\n\" for item in reasonings])\n",
        "    return verdicts, output_dict, generate_fact_score(verdicts), reasoning"
      ]
    },
    {
      "cell_type": "code",
      "execution_count": 149,
      "metadata": {},
      "outputs": [],
      "source": [
        "statement_verification_system = \"\"\"\n",
        "You are a fact-checking, logical-reasoning assistant. In your response, return only the label after \"Verdict:\" and return an explanation after \"Reasoning:\".\n",
        "\"\"\"\n",
        "\n",
        "statement_verification_template = \"\"\"\n",
        "Let's think step-by-step. Given a statement, verify whether the statement is factual by classify it to one of the five labels given (True/Mostly True/Half True/Mostly False/False/Unverifiable). \n",
        "Explain your reasoning in a logical manner and cite evidence wherever possible.\n",
        "\n",
        "Reasoning Criteria:\n",
        "1. Rate the statement over both plausibility and truthfulness.\n",
        "2. If not enough information is provided, always err on the side of caution instead of blind guessing.\n",
        "\n",
        "Statement: {statement}\n",
        "\n",
        "Format your message in the exact format below.\n",
        "Verdict: (True/Mostly True/Half True/Mostly False/False/Unverifiable)\n",
        "\n",
        "Reasoning:\n",
        "\"\"\"\n",
        "\n",
        "def verify_statement_claude_statement_only(statement):\n",
        "    # Fill in the prompt template with the relevant documents and the question\n",
        "    prompt = statement_verification_template.format(statement=statement)\n",
        "\n",
        "    # claude output\n",
        "    message = client.messages.create(\n",
        "        model=\"claude-3-sonnet-20240229\",\n",
        "        max_tokens=1000,\n",
        "        temperature=0,\n",
        "        system=statement_verification_system,\n",
        "        messages=[\n",
        "            {\n",
        "                \"role\": \"user\",\n",
        "                \"content\": [\n",
        "                    {\n",
        "                        \"type\": \"text\",\n",
        "                        \"text\": prompt\n",
        "                    }\n",
        "                ]\n",
        "            }\n",
        "        ]\n",
        "    )\n",
        "    \n",
        "    # Decode the generated text\n",
        "    output_text = message.content[0].text\n",
        "\n",
        "    try:\n",
        "        verdict = output_text.split('Verdict:')[-1].split('Reasoning:')[0].strip()\n",
        "        reasoning = output_text.split('Reasoning:')[-1].strip()\n",
        "        return verdict, reasoning\n",
        "    except:\n",
        "        raise ValueError(f\"Error parsing model output: {output_text}\")\n",
        "    "
      ]
    },
    {
      "cell_type": "code",
      "execution_count": 38,
      "metadata": {
        "id": "A8yjCIO97JEx"
      },
      "outputs": [],
      "source": [
        "import pandas as pd\n",
        "# modify base_dir\n",
        "base_dir = '/Users/sunnyfang/Library/CloudStorage/GoogleDrive-yf2610@barnard.edu/My Drive/courses/AY 23-24/24 SP/COMS-W3997 LLM Foundations & Ethics/LLM Project/LLM-FactChecker/data'\n",
        "filename = '[FINAL] Pilot - Pilot Claims.csv'\n",
        "full_path = os.path.join(base_dir, filename)\n",
        "df = pd.read_csv(full_path)"
      ]
    },
    {
      "cell_type": "code",
      "execution_count": 39,
      "metadata": {
        "id": "Gxdtk_1q72SN"
      },
      "outputs": [],
      "source": [
        "df['statement'] = df['statement'].astype(str)"
      ]
    },
    {
      "cell_type": "code",
      "execution_count": 45,
      "metadata": {},
      "outputs": [
        {
          "data": {
            "text/plain": [
              "0     “The National Guard in the HISTORY of its life...\n",
              "1     \"On Jan. 6, 2021, U.S. Capitol 'protestors car...\n",
              "2         \"Not even one rocket (from Iran) hit Israel.\"\n",
              "3     \"326,000 migrants were flown to Florida with t...\n",
              "4     \"Crime is down in Venezuela by 67% because the...\n",
              "5     \"In New York, there are no barriers to law enf...\n",
              "6     \"Speaking of semiconductor industry jobs, \"Kno...\n",
              "7     \"Starting in 2025 \"no matter what your total b...\n",
              "8     “Tens of thousands of auto jobs were lost nati...\n",
              "9     \"The current Congress is “the least productive...\n",
              "10    \"Video shows “New York Governor Kathy Hochul b...\n",
              "11    \"We’ve had 12 elections in 24 years in Wiscons...\n",
              "12    After a 2022 law, “The vast majority of colleg...\n",
              "13    \"Insulin for Medicare beneficiaries \"was costi...\n",
              "14    “Support for Roe is higher today in America th...\n",
              "15    \"The 2022 CHIPS and Science Act “attracted $64...\n",
              "16              “It is a fact that Obama created ISIS.”\n",
              "17    \"Millions of Arizonans will soon live under an...\n",
              "18    \"In Michigan, radical, left Democrat governor ...\n",
              "19    \"[Rep. Adam Schiff] won’t tell you that he jus...\n",
              "20    \"I have to say, there are a lot of things that...\n",
              "21    \"Pharmaceutical medicine has its place, but no...\n",
              "22    \"Former U.S. President Donald Trump stated tha...\n",
              "23    \"Billionaire investor and philanthropist, Geor...\n",
              "24    \"President Donald Trump \"just told TIME Magazi...\n",
              "25    \"Joe Biden graduated 76th academically in a cl...\n",
              "26    \"Only two presidents in American history left ...\n",
              "27    \"The top donor to a major super PAC supporting...\n",
              "28    \"Now, if I don’t get elected, it’s going to be...\n",
              "29    \"U.S. President Joe Biden is the first preside...\n",
              "30    \"In February 2024, Nikki Haley lost the Nevada...\n",
              "31    \"U.S. President Joe Biden is the only presiden...\n",
              "32    \"Former U.S. President Donald Trump is the fir...\n",
              "33    \"Former U.S. President Donald Trump's margin o...\n",
              "34    \"U.S. Republican 2024 presidential candidate V...\n",
              "35    \"Have you had to cancel or rethink any upcomin...\n",
              "36    \"Unlike the Democrats, who are KILLING SOCIAL ...\n",
              "37    \"We know that President Biden didn’t just crea...\n",
              "38    \"You remember they [Iran] fired. They hit one ...\n",
              "39    \"Look, folks, you know how many billionaires w...\n",
              "40    \"We had the best unemployment rates ever. And ...\n",
              "41    \"House Republicans took numerous votes that wo...\n",
              "42    \"We didn’t sell any land to the Chinese. But, ...\n",
              "43    \"The climate change agenda is a hoax … The rea...\n",
              "44    \"How are we supposed to get our girls used to ...\n",
              "45    \"China’s eyes and ears — dangerously close, to...\n",
              "46    \"Hundreds of people on our terrorist watch lis...\n",
              "47    \"This trial that I have now, that’s a Biden tr...\n",
              "48    \"President Biden is the first candidate in his...\n",
              "49    Dollar Tree, Walgreens, Macy’s, Foot Locker, G...\n",
              "Name: statement, dtype: object"
            ]
          },
          "execution_count": 45,
          "metadata": {},
          "output_type": "execute_result"
        }
      ],
      "source": [
        "df['statement'][:50]"
      ]
    },
    {
      "cell_type": "code",
      "execution_count": 150,
      "metadata": {},
      "outputs": [
        {
          "data": {
            "application/vnd.jupyter.widget-view+json": {
              "model_id": "8facedc150c246e08169c0e9f17f02c3",
              "version_major": 2,
              "version_minor": 0
            },
            "text/plain": [
              "0it [00:00, ?it/s]"
            ]
          },
          "metadata": {},
          "output_type": "display_data"
        }
      ],
      "source": [
        "from tqdm.auto import tqdm\n",
        "statement_only = []\n",
        "for index, row in tqdm(df[:50].iterrows()):\n",
        "    statement = row['statement']\n",
        "    statement_only.append(verify_statement_claude_statement_only(statement))"
      ]
    },
    {
      "cell_type": "code",
      "execution_count": 151,
      "metadata": {},
      "outputs": [],
      "source": [
        "claude_statement_only = pd.DataFrame(data = {\n",
        "    \"verdicts\": [x[0] for x in statement_only],\n",
        "    \"reasonings\": [x[1] for x in statement_only]})"
      ]
    },
    {
      "cell_type": "code",
      "execution_count": 152,
      "metadata": {},
      "outputs": [
        {
          "data": {
            "text/html": [
              "<div>\n",
              "<style scoped>\n",
              "    .dataframe tbody tr th:only-of-type {\n",
              "        vertical-align: middle;\n",
              "    }\n",
              "\n",
              "    .dataframe tbody tr th {\n",
              "        vertical-align: top;\n",
              "    }\n",
              "\n",
              "    .dataframe thead th {\n",
              "        text-align: right;\n",
              "    }\n",
              "</style>\n",
              "<table border=\"1\" class=\"dataframe\">\n",
              "  <thead>\n",
              "    <tr style=\"text-align: right;\">\n",
              "      <th></th>\n",
              "      <th>verdicts</th>\n",
              "      <th>reasonings</th>\n",
              "    </tr>\n",
              "  </thead>\n",
              "  <tbody>\n",
              "    <tr>\n",
              "      <th>0</th>\n",
              "      <td>False</td>\n",
              "      <td>The statement \"The National Guard in the HISTO...</td>\n",
              "    </tr>\n",
              "    <tr>\n",
              "      <th>1</th>\n",
              "      <td>False</td>\n",
              "      <td>The statement \"On Jan. 6, 2021, U.S. Capitol '...</td>\n",
              "    </tr>\n",
              "    <tr>\n",
              "      <th>2</th>\n",
              "      <td>Unverifiable</td>\n",
              "      <td>The statement \"Not even one rocket (from Iran)...</td>\n",
              "    </tr>\n",
              "    <tr>\n",
              "      <th>3</th>\n",
              "      <td>False</td>\n",
              "      <td>The statement that \"326,000 migrants were flow...</td>\n",
              "    </tr>\n",
              "    <tr>\n",
              "      <th>4</th>\n",
              "      <td>False</td>\n",
              "      <td>The statement \"Crime is down in Venezuela by 6...</td>\n",
              "    </tr>\n",
              "    <tr>\n",
              "      <th>5</th>\n",
              "      <td>Mostly False</td>\n",
              "      <td>The statement \"In New York, there are no barri...</td>\n",
              "    </tr>\n",
              "    <tr>\n",
              "      <th>6</th>\n",
              "      <td>Mostly False</td>\n",
              "      <td>1. The statement claims that the average salar...</td>\n",
              "    </tr>\n",
              "    <tr>\n",
              "      <th>7</th>\n",
              "      <td>Mostly True</td>\n",
              "      <td>The statement appears to be referring to the c...</td>\n",
              "    </tr>\n",
              "    <tr>\n",
              "      <th>8</th>\n",
              "      <td>Unverifiable</td>\n",
              "      <td>The statement makes two claims: 1) \"Tens of th...</td>\n",
              "    </tr>\n",
              "    <tr>\n",
              "      <th>9</th>\n",
              "      <td>Unverifiable</td>\n",
              "      <td>The statement \"The current Congress is 'the le...</td>\n",
              "    </tr>\n",
              "    <tr>\n",
              "      <th>10</th>\n",
              "      <td>Unverifiable</td>\n",
              "      <td>Based on the information provided in the state...</td>\n",
              "    </tr>\n",
              "    <tr>\n",
              "      <th>11</th>\n",
              "      <td>Unverifiable</td>\n",
              "      <td>The statement \"We've had 12 elections in 24 ye...</td>\n",
              "    </tr>\n",
              "    <tr>\n",
              "      <th>12</th>\n",
              "      <td>Unverifiable</td>\n",
              "      <td>The statement \"The vast majority of colleges i...</td>\n",
              "    </tr>\n",
              "    <tr>\n",
              "      <th>13</th>\n",
              "      <td>Mostly True</td>\n",
              "      <td>The statement appears to be mostly true based ...</td>\n",
              "    </tr>\n",
              "    <tr>\n",
              "      <th>14</th>\n",
              "      <td>Mostly False</td>\n",
              "      <td>The statement \"Support for Roe is higher today...</td>\n",
              "    </tr>\n",
              "    <tr>\n",
              "      <th>15</th>\n",
              "      <td>False</td>\n",
              "      <td>The statement that the 2022 CHIPS and Science ...</td>\n",
              "    </tr>\n",
              "    <tr>\n",
              "      <th>16</th>\n",
              "      <td>False</td>\n",
              "      <td>The statement \"It is a fact that Obama created...</td>\n",
              "    </tr>\n",
              "    <tr>\n",
              "      <th>17</th>\n",
              "      <td>Mostly True</td>\n",
              "      <td>The statement appears to be referring to the r...</td>\n",
              "    </tr>\n",
              "    <tr>\n",
              "      <th>18</th>\n",
              "      <td>False</td>\n",
              "      <td>The statement made by the speaker contains mul...</td>\n",
              "    </tr>\n",
              "    <tr>\n",
              "      <th>19</th>\n",
              "      <td>Mostly False</td>\n",
              "      <td>The statement made by the speaker contains som...</td>\n",
              "    </tr>\n",
              "    <tr>\n",
              "      <th>20</th>\n",
              "      <td>Mostly True</td>\n",
              "      <td>The statement refers to an incident reported b...</td>\n",
              "    </tr>\n",
              "    <tr>\n",
              "      <th>21</th>\n",
              "      <td>Mostly False</td>\n",
              "      <td>1. The statement makes a valid point that ther...</td>\n",
              "    </tr>\n",
              "    <tr>\n",
              "      <th>22</th>\n",
              "      <td>Mostly True</td>\n",
              "      <td>The statement that former U.S. President Donal...</td>\n",
              "    </tr>\n",
              "    <tr>\n",
              "      <th>23</th>\n",
              "      <td>Mostly False</td>\n",
              "      <td>The statement that billionaire George Soros wa...</td>\n",
              "    </tr>\n",
              "    <tr>\n",
              "      <th>24</th>\n",
              "      <td>False</td>\n",
              "      <td>After searching for credible sources, I could ...</td>\n",
              "    </tr>\n",
              "    <tr>\n",
              "      <th>25</th>\n",
              "      <td>True</td>\n",
              "      <td>Based on the information available, the statem...</td>\n",
              "    </tr>\n",
              "    <tr>\n",
              "      <th>26</th>\n",
              "      <td>Mostly False</td>\n",
              "      <td>The statement claims that only two presidents ...</td>\n",
              "    </tr>\n",
              "    <tr>\n",
              "      <th>27</th>\n",
              "      <td>Unverifiable</td>\n",
              "      <td>The statement does not provide enough informat...</td>\n",
              "    </tr>\n",
              "    <tr>\n",
              "      <th>28</th>\n",
              "      <td>Unverifiable</td>\n",
              "      <td>The statement \"Now, if I don't get elected, it...</td>\n",
              "    </tr>\n",
              "    <tr>\n",
              "      <th>29</th>\n",
              "      <td>Mostly False</td>\n",
              "      <td>The statement that \"U.S. President Joe Biden i...</td>\n",
              "    </tr>\n",
              "    <tr>\n",
              "      <th>30</th>\n",
              "      <td>Unverifiable</td>\n",
              "      <td>The statement \"In February 2024, Nikki Haley l...</td>\n",
              "    </tr>\n",
              "    <tr>\n",
              "      <th>31</th>\n",
              "      <td>False</td>\n",
              "      <td>The statement \"U.S. President Joe Biden is the...</td>\n",
              "    </tr>\n",
              "    <tr>\n",
              "      <th>32</th>\n",
              "      <td>True</td>\n",
              "      <td>After researching this statement, it appears t...</td>\n",
              "    </tr>\n",
              "    <tr>\n",
              "      <th>33</th>\n",
              "      <td>Unverifiable</td>\n",
              "      <td>The statement \"Former U.S. President Donald Tr...</td>\n",
              "    </tr>\n",
              "    <tr>\n",
              "      <th>34</th>\n",
              "      <td>Unverifiable</td>\n",
              "      <td>The statement \"U.S. Republican 2024 presidenti...</td>\n",
              "    </tr>\n",
              "    <tr>\n",
              "      <th>35</th>\n",
              "      <td>Mostly False</td>\n",
              "      <td>The statement appears to be a combination of a...</td>\n",
              "    </tr>\n",
              "    <tr>\n",
              "      <th>36</th>\n",
              "      <td>False</td>\n",
              "      <td>The statement made by the former president con...</td>\n",
              "    </tr>\n",
              "    <tr>\n",
              "      <th>37</th>\n",
              "      <td>Mostly False</td>\n",
              "      <td>The statement makes several claims, some of wh...</td>\n",
              "    </tr>\n",
              "    <tr>\n",
              "      <th>38</th>\n",
              "      <td>Unverifiable</td>\n",
              "      <td>The statement made by the speaker is ambiguous...</td>\n",
              "    </tr>\n",
              "    <tr>\n",
              "      <th>39</th>\n",
              "      <td>Mostly False</td>\n",
              "      <td>The statement made by the speaker contains som...</td>\n",
              "    </tr>\n",
              "    <tr>\n",
              "      <th>40</th>\n",
              "      <td>Mostly False</td>\n",
              "      <td>The statement \"We had the best unemployment ra...</td>\n",
              "    </tr>\n",
              "    <tr>\n",
              "      <th>41</th>\n",
              "      <td>Mostly True</td>\n",
              "      <td>The statement appears to be mostly true based ...</td>\n",
              "    </tr>\n",
              "    <tr>\n",
              "      <th>42</th>\n",
              "      <td>Unverifiable</td>\n",
              "      <td>The statement \"We didn't sell any land to the ...</td>\n",
              "    </tr>\n",
              "    <tr>\n",
              "      <th>43</th>\n",
              "      <td>False</td>\n",
              "      <td>The statement \"The climate change agenda is a ...</td>\n",
              "    </tr>\n",
              "    <tr>\n",
              "      <th>44</th>\n",
              "      <td>Unverifiable</td>\n",
              "      <td>The statement makes two separate claims withou...</td>\n",
              "    </tr>\n",
              "    <tr>\n",
              "      <th>45</th>\n",
              "      <td>Unverifiable</td>\n",
              "      <td>The statement \"China's eyes and ears — dangero...</td>\n",
              "    </tr>\n",
              "    <tr>\n",
              "      <th>46</th>\n",
              "      <td>Unverifiable</td>\n",
              "      <td>The statement \"Hundreds of people on our terro...</td>\n",
              "    </tr>\n",
              "    <tr>\n",
              "      <th>47</th>\n",
              "      <td>False</td>\n",
              "      <td>The statement \"This trial that I have now, tha...</td>\n",
              "    </tr>\n",
              "    <tr>\n",
              "      <th>48</th>\n",
              "      <td>Mostly False</td>\n",
              "      <td>The statement that \"President Biden is the fir...</td>\n",
              "    </tr>\n",
              "    <tr>\n",
              "      <th>49</th>\n",
              "      <td>Mostly True</td>\n",
              "      <td>The statement claims that several major retail...</td>\n",
              "    </tr>\n",
              "  </tbody>\n",
              "</table>\n",
              "</div>"
            ],
            "text/plain": [
              "        verdicts                                         reasonings\n",
              "0          False  The statement \"The National Guard in the HISTO...\n",
              "1          False  The statement \"On Jan. 6, 2021, U.S. Capitol '...\n",
              "2   Unverifiable  The statement \"Not even one rocket (from Iran)...\n",
              "3          False  The statement that \"326,000 migrants were flow...\n",
              "4          False  The statement \"Crime is down in Venezuela by 6...\n",
              "5   Mostly False  The statement \"In New York, there are no barri...\n",
              "6   Mostly False  1. The statement claims that the average salar...\n",
              "7    Mostly True  The statement appears to be referring to the c...\n",
              "8   Unverifiable  The statement makes two claims: 1) \"Tens of th...\n",
              "9   Unverifiable  The statement \"The current Congress is 'the le...\n",
              "10  Unverifiable  Based on the information provided in the state...\n",
              "11  Unverifiable  The statement \"We've had 12 elections in 24 ye...\n",
              "12  Unverifiable  The statement \"The vast majority of colleges i...\n",
              "13   Mostly True  The statement appears to be mostly true based ...\n",
              "14  Mostly False  The statement \"Support for Roe is higher today...\n",
              "15         False  The statement that the 2022 CHIPS and Science ...\n",
              "16         False  The statement \"It is a fact that Obama created...\n",
              "17   Mostly True  The statement appears to be referring to the r...\n",
              "18         False  The statement made by the speaker contains mul...\n",
              "19  Mostly False  The statement made by the speaker contains som...\n",
              "20   Mostly True  The statement refers to an incident reported b...\n",
              "21  Mostly False  1. The statement makes a valid point that ther...\n",
              "22   Mostly True  The statement that former U.S. President Donal...\n",
              "23  Mostly False  The statement that billionaire George Soros wa...\n",
              "24         False  After searching for credible sources, I could ...\n",
              "25          True  Based on the information available, the statem...\n",
              "26  Mostly False  The statement claims that only two presidents ...\n",
              "27  Unverifiable  The statement does not provide enough informat...\n",
              "28  Unverifiable  The statement \"Now, if I don't get elected, it...\n",
              "29  Mostly False  The statement that \"U.S. President Joe Biden i...\n",
              "30  Unverifiable  The statement \"In February 2024, Nikki Haley l...\n",
              "31         False  The statement \"U.S. President Joe Biden is the...\n",
              "32          True  After researching this statement, it appears t...\n",
              "33  Unverifiable  The statement \"Former U.S. President Donald Tr...\n",
              "34  Unverifiable  The statement \"U.S. Republican 2024 presidenti...\n",
              "35  Mostly False  The statement appears to be a combination of a...\n",
              "36         False  The statement made by the former president con...\n",
              "37  Mostly False  The statement makes several claims, some of wh...\n",
              "38  Unverifiable  The statement made by the speaker is ambiguous...\n",
              "39  Mostly False  The statement made by the speaker contains som...\n",
              "40  Mostly False  The statement \"We had the best unemployment ra...\n",
              "41   Mostly True  The statement appears to be mostly true based ...\n",
              "42  Unverifiable  The statement \"We didn't sell any land to the ...\n",
              "43         False  The statement \"The climate change agenda is a ...\n",
              "44  Unverifiable  The statement makes two separate claims withou...\n",
              "45  Unverifiable  The statement \"China's eyes and ears — dangero...\n",
              "46  Unverifiable  The statement \"Hundreds of people on our terro...\n",
              "47         False  The statement \"This trial that I have now, tha...\n",
              "48  Mostly False  The statement that \"President Biden is the fir...\n",
              "49   Mostly True  The statement claims that several major retail..."
            ]
          },
          "execution_count": 152,
          "metadata": {},
          "output_type": "execute_result"
        }
      ],
      "source": [
        "claude_statement_only"
      ]
    },
    {
      "cell_type": "code",
      "execution_count": 154,
      "metadata": {},
      "outputs": [],
      "source": [
        "# modify base_dir\n",
        "base_dir = '/Users/sunnyfang/Library/CloudStorage/GoogleDrive-yf2610@barnard.edu/My Drive/courses/AY 23-24/24 SP/COMS-W3997 LLM Foundations & Ethics/LLM Project/'\n",
        "filename = 'final-claude-3-sonnet-baseline.xlsx'\n",
        "full_path = os.path.join(base_dir, filename)\n",
        "claude_statement_only.to_excel(full_path)\n",
        "\n",
        "filename = 'claude_baseline.csv'\n",
        "full_path = os.path.join(base_dir, filename)\n",
        "claude_statement_only.to_csv(full_path)"
      ]
    },
    {
      "cell_type": "code",
      "execution_count": 41,
      "metadata": {
        "colab": {
          "base_uri": "https://localhost:8080/",
          "height": 1000
        },
        "id": "9_keiIR2qIya",
        "outputId": "139bd4a4-a591-4bf5-fb9c-98d147197315"
      },
      "outputs": [
        {
          "data": {
            "application/vnd.jupyter.widget-view+json": {
              "model_id": "3e90475fdae54beab7fa6e9d54e82e0c",
              "version_major": 2,
              "version_minor": 0
            },
            "text/plain": [
              "0it [00:00, ?it/s]"
            ]
          },
          "metadata": {},
          "output_type": "display_data"
        },
        {
          "name": "stdout",
          "output_type": "stream",
          "text": [
            "2\n",
            "What is the role of the National Guard in responding to disasters?\n",
            "Failed to retrieve content from the URL: https://www.jstor.org/stable/40924733\n",
            "Failed to retrieve content from the URL: https://sakeraviation.com/the-role-of-the-air-national-guard-when-natural-disasters-strike/\n",
            "Under what circumstances is the National Guard deployed after a disaster?\n"
          ]
        },
        {
          "name": "stderr",
          "output_type": "stream",
          "text": [
            "Some characters could not be decoded, and were replaced with REPLACEMENT CHARACTER.\n"
          ]
        },
        {
          "name": "stdout",
          "output_type": "stream",
          "text": [
            "Failed to retrieve content from the URL: https://www.jstor.org/stable/40924733\n"
          ]
        },
        {
          "name": "stderr",
          "output_type": "stream",
          "text": [
            "Some characters could not be decoded, and were replaced with REPLACEMENT CHARACTER.\n"
          ]
        },
        {
          "name": "stdout",
          "output_type": "stream",
          "text": [
            "How does the National Guard assist in disaster relief efforts?\n",
            "Failed to retrieve content from the URL: https://www.jstor.org/stable/40924733\n"
          ]
        },
        {
          "name": "stderr",
          "output_type": "stream",
          "text": [
            "Some characters could not be decoded, and were replaced with REPLACEMENT CHARACTER.\n"
          ]
        },
        {
          "name": "stdout",
          "output_type": "stream",
          "text": [
            "Failed to retrieve content from the URL: https://sakeraviation.com/the-role-of-the-air-national-guard-when-natural-disasters-strike/\n",
            "What are the typical duties and responsibilities of the National Guard when called in after a disaster occurs?\n"
          ]
        },
        {
          "name": "stderr",
          "output_type": "stream",
          "text": [
            "Some characters could not be decoded, and were replaced with REPLACEMENT CHARACTER.\n",
            "Some characters could not be decoded, and were replaced with REPLACEMENT CHARACTER.\n",
            "Some characters could not be decoded, and were replaced with REPLACEMENT CHARACTER.\n"
          ]
        },
        {
          "name": "stdout",
          "output_type": "stream",
          "text": [
            "When is the National Guard typically deployed?\n",
            "Failed to retrieve content from the URL: https://www.army.nationalguard.mil/About-Us/Army-Guard-Mission/\n",
            "What are the circumstances under which the National Guard is called in?\n"
          ]
        },
        {
          "name": "stderr",
          "output_type": "stream",
          "text": [
            "Some characters could not be decoded, and were replaced with REPLACEMENT CHARACTER.\n"
          ]
        },
        {
          "name": "stdout",
          "output_type": "stream",
          "text": [
            "Does the National Guard respond only after a disaster has occurred or can they be deployed in anticipation of potential disasters?\n"
          ]
        },
        {
          "name": "stderr",
          "output_type": "stream",
          "text": [
            "Some characters could not be decoded, and were replaced with REPLACEMENT CHARACTER.\n",
            "Some characters could not be decoded, and were replaced with REPLACEMENT CHARACTER.\n"
          ]
        }
      ],
      "source": [
        "fact_check_samples = []\n",
        "for index, row in tqdm(df[:1].iterrows()):\n",
        "    statement = row['statement']\n",
        "    fact_check_samples.append(verify_statement_claude(statement))"
      ]
    },
    {
      "cell_type": "code",
      "execution_count": 46,
      "metadata": {},
      "outputs": [
        {
          "data": {
            "application/vnd.jupyter.widget-view+json": {
              "model_id": "aff27aecccbd45e49607ee38398344c2",
              "version_major": 2,
              "version_minor": 0
            },
            "text/plain": [
              "0it [00:00, ?it/s]"
            ]
          },
          "metadata": {},
          "output_type": "display_data"
        },
        {
          "name": "stdout",
          "output_type": "stream",
          "text": [
            "1\n",
            "Were any weapons carried by the individuals who entered the U.S. Capitol on January 6, 2021?\n",
            "Error during website scraping: HTTPSConnectionPool(host='www.washingtonpost.com', port=443): Read timed out. (read timeout=5)\n",
            "Failed to retrieve content from the URL: https://www.poynter.org/fact-checking/2024/january-6-capitol-no-weapons-firearms-guns-evidence/\n",
            "Failed to retrieve content from the URL: https://www.everytown.org/were-guns-present-at-the-january-6th-capitol-insurrection/\n",
            "Failed to retrieve content from the URL: https://www.newsweek.com/fact-check-were-there-armed-protesters-capitol-january-6-1715326\n",
            "What types of weapons, if any, were carried by the individuals who entered the U.S. Capitol on January 6, 2021?\n",
            "Error during website scraping: HTTPSConnectionPool(host='www.washingtonpost.com', port=443): Read timed out. (read timeout=5)\n",
            "Failed to retrieve content from the URL: https://everytownresearch.org/report/armed-extremism-us-capitol/\n",
            "Were the individuals who entered the U.S. Capitol on January 6, 2021 armed or unarmed?\n",
            "Error during website scraping: HTTPSConnectionPool(host='www.washingtonpost.com', port=443): Read timed out. (read timeout=5)\n",
            "Did the individuals who entered the U.S. Capitol on January 6, 2021 possess any firearms, blades, or other weapons?\n",
            "Failed to retrieve content from the URL: https://crsreports.congress.gov/product/pdf/LSB/LSB10564\n",
            "Error during website scraping: HTTPSConnectionPool(host='www.washingtonpost.com', port=443): Read timed out. (read timeout=5)\n",
            "1\n",
            "Did any rockets fired from Iran hit Israel?\n",
            "Failed to retrieve content from the URL: https://www.reuters.com/world/middle-east/iran-launches-drone-attack-israel-expected-unfold-over-hours-2024-04-13/\n",
            "What was the impact of rockets fired by Iran towards Israel?\n",
            "Failed to retrieve content from the URL: https://www.reuters.com/world/middle-east/iran-launches-drone-attack-israel-expected-unfold-over-hours-2024-04-13/\n",
            "Failed to retrieve content from the URL: https://www.rand.org/pubs/commentary/2024/04/the-iran-israel-war-is-just-getting-started.html\n",
            "Were there any successful rocket strikes by Iran on Israeli territory?\n",
            "Failed to retrieve content from the URL: https://www.reuters.com/world/middle-east/israeli-missiles-hit-site-iran-abc-news-reports-2024-04-19/\n",
            "Failed to retrieve content from the URL: https://www.chathamhouse.org/2024/04/irans-attack-israel-was-not-failure-many-claim-it-has-ended-israels-isolation\n",
            "2\n",
            "How many migrants were transported to Florida using taxpayer funds?\n",
            "Failed to retrieve content from the URL: https://www.axios.com/2023/11/25/migrant-buses-immigrants-spend-taxpayer-millions\n",
            "Failed to retrieve content from the URL: https://www.wfla.com/news/florida/cost-of-florida-taxpayer-funded-migrant-flights-still-a-mystery/\n",
            "Failed to retrieve content from the URL: https://immigrationforum.org/article/explainer-governors-transporting-migrants-to-other-states/\n",
            "What was the cost to taxpayers for transporting migrants to Florida?\n",
            "Failed to retrieve content from the URL: https://www.wfla.com/news/florida/cost-of-florida-taxpayer-funded-migrant-flights-still-a-mystery/\n",
            "Failed to retrieve content from the URL: https://www.axios.com/2023/11/25/migrant-buses-immigrants-spend-taxpayer-millions\n",
            "Error during website scraping: HTTPSConnectionPool(host='www.miamiherald.com', port=443): Read timed out. (read timeout=5)\n",
            "Failed to retrieve content from the URL: https://cis.org/Oped/DeSantis-right-about-cost-illegal-immigration\n",
            "Error during website scraping: HTTPSConnectionPool(host='www.miamiherald.com', port=443): Read timed out. (read timeout=5)\n"
          ]
        },
        {
          "name": "stderr",
          "output_type": "stream",
          "text": [
            "Some characters could not be decoded, and were replaced with REPLACEMENT CHARACTER.\n"
          ]
        },
        {
          "name": "stdout",
          "output_type": "stream",
          "text": [
            "Were migrants flown or transported by other means to Florida using public funds?\n",
            "Failed to retrieve content from the URL: https://www.migrationpolicy.org/article/migrant-asylum-seeker-busing\n",
            "Error during website scraping: HTTPSConnectionPool(host='www.washingtonpost.com', port=443): Read timed out. (read timeout=5)\n",
            "What was the purpose of transporting migrants to Florida using taxpayer dollars?\n",
            "Failed to retrieve content from the URL: https://www.axios.com/2023/11/25/migrant-buses-immigrants-spend-taxpayer-millions\n",
            "Failed to retrieve content from the URL: https://www.newsweek.com/fact-check-did-ron-desantis-flying-migrants-martha-vineyard-cost-12m-1743291\n",
            "What is President Joe Biden's secret migrant flight program?\n",
            "Error during website scraping: HTTPSConnectionPool(host='www.usnews.com', port=443): Read timed out. (read timeout=5)\n",
            "Failed to retrieve content from the URL: https://cis.org/Bensman/Secret-Finally-Revealed-Americans-Can-Know-US-Cities-Receiving-Hundreds-Thousands\n",
            "What evidence exists for the existence of a secret migrant flight program under President Biden?\n",
            "Failed to retrieve content from the URL: https://cis.org/Bensman/Fact-Checking-Fact-Check-CIS-Reporting-Stands\n",
            "What are the details and scope of the alleged secret migrant flight program?\n",
            "Failed to retrieve content from the URL: https://cis.org/Bensman/Government-Admission-Biden-Parole-Flights-Create-Security-Vulnerabilities-US-Airports\n",
            "Failed to retrieve content from the URL: https://www.americanoversight.org/new-florida-migrant-flight-records-reveal-careful-language-updates-following-trafficking-allegations\n",
            "Failed to retrieve content from the URL: https://cis.org/Bensman/Lawmakers-Cite-CIS-Demanding-End-Secretive-Immigrant-Flights\n",
            "Failed to retrieve content from the URL: https://uk.news.yahoo.com/high-profile-accounts-spread-baseless-201225917.html\n",
            "How does the secret migrant flight program operate according to the claim?\n",
            "Failed to retrieve content from the URL: https://cis.org/Bensman/Government-Admission-Biden-Parole-Flights-Create-Security-Vulnerabilities-US-Airports\n",
            "Failed to retrieve content from the URL: https://thehill.com/homenews/ap/ap-u-s-news/ap-fact-focus-biden-falsely-accused-of-secret-flights-for-hundreds-of-thousands-of-immigrants/\n",
            "Failed to retrieve content from the URL: https://www.nytimes.com/2022/06/24/us/ghost-flights-migrant-children.html\n",
            "What is the source and credibility of the information about President Biden's secret migrant flight program?\n",
            "Failed to retrieve content from the URL: https://cis.org/Bensman/Florida-Gateway-Data-Shows-Most-Migrant-Flights-Landing-Gov-DeSantiss-Sunshine-State\n",
            "Failed to retrieve content from the URL: https://www.migrationpolicy.org/article/biden-three-immigration-record\n",
            "2\n",
            "What is the current crime rate in Venezuela?\n",
            "Failed to retrieve content from the URL: https://www.macrotrends.net/global-metrics/countries/VEN/venezuela/crime-rate-statistics\n",
            "Failed to retrieve content from the URL: https://gitnux.org/venezuela-crime-rate/\n",
            "How does the current crime rate in Venezuela compare to previous years or periods?\n",
            "Failed to retrieve content from the URL: https://www.ncbi.nlm.nih.gov/pmc/articles/PMC6857745/\n",
            "Failed to retrieve content from the URL: https://observatoriodeviolencia.org.ve/news/annual-report-violence-2023/\n"
          ]
        },
        {
          "name": "stderr",
          "output_type": "stream",
          "text": [
            "Some characters could not be decoded, and were replaced with REPLACEMENT CHARACTER.\n"
          ]
        },
        {
          "name": "stdout",
          "output_type": "stream",
          "text": [
            "Failed to retrieve content from the URL: https://www.macrotrends.net/global-metrics/countries/VEN/venezuela/crime-rate-statistics\n"
          ]
        },
        {
          "name": "stderr",
          "output_type": "stream",
          "text": [
            "Some characters could not be decoded, and were replaced with REPLACEMENT CHARACTER.\n"
          ]
        },
        {
          "name": "stdout",
          "output_type": "stream",
          "text": [
            "What factors or policies contributed to the reported 67% decrease in crime in Venezuela?\n"
          ]
        },
        {
          "name": "stderr",
          "output_type": "stream",
          "text": [
            "Some characters could not be decoded, and were replaced with REPLACEMENT CHARACTER.\n",
            "Some characters could not be decoded, and were replaced with REPLACEMENT CHARACTER.\n",
            "Some characters could not be decoded, and were replaced with REPLACEMENT CHARACTER.\n",
            "Some characters could not be decoded, and were replaced with REPLACEMENT CHARACTER.\n"
          ]
        },
        {
          "name": "stdout",
          "output_type": "stream",
          "text": [
            "Failed to retrieve content from the URL: https://www.state.gov/reports/2021-country-reports-on-human-rights-practices/venezuela/\n",
            "Over what time period did the 67% decrease in crime in Venezuela occur?\n",
            "Failed to retrieve content from the URL: https://www.ncbi.nlm.nih.gov/pmc/articles/PMC6857745/\n"
          ]
        },
        {
          "name": "stderr",
          "output_type": "stream",
          "text": [
            "Some characters could not be decoded, and were replaced with REPLACEMENT CHARACTER.\n",
            "Some characters could not be decoded, and were replaced with REPLACEMENT CHARACTER.\n",
            "Some characters could not be decoded, and were replaced with REPLACEMENT CHARACTER.\n"
          ]
        },
        {
          "name": "stdout",
          "output_type": "stream",
          "text": [
            "What types of crimes experienced a 67% decrease in Venezuela?\n",
            "Failed to retrieve content from the URL: https://www.ncbi.nlm.nih.gov/pmc/articles/PMC6857745/\n",
            "Failed to retrieve content from the URL: https://carnegieendowment.org/2024/04/10/pivotal-states-venezuela-problem-event-8272\n"
          ]
        },
        {
          "name": "stderr",
          "output_type": "stream",
          "text": [
            "Some characters could not be decoded, and were replaced with REPLACEMENT CHARACTER.\n"
          ]
        },
        {
          "name": "stdout",
          "output_type": "stream",
          "text": [
            "Is Venezuela sending gangs and criminals to the United States?\n",
            "Failed to retrieve content from the URL: https://cis.org/Arthur/Venezuela-Sending-Violent-Criminals-United-States\n"
          ]
        },
        {
          "name": "stderr",
          "output_type": "stream",
          "text": [
            "Some characters could not be decoded, and were replaced with REPLACEMENT CHARACTER.\n"
          ]
        },
        {
          "name": "stdout",
          "output_type": "stream",
          "text": [
            "Failed to retrieve content from the URL: https://www.ktsm.com/news/fbi-agent-others-warn-of-venezuelan-gang-entering-into-us/\n",
            "Failed to retrieve content from the URL: https://www.state.gov/reports/2022-country-reports-on-human-rights-practices/venezuela/\n",
            "What evidence exists of Venezuela depositing gangs and criminals into the United States?\n",
            "Failed to retrieve content from the URL: https://cis.org/Arthur/Venezuela-Sending-Violent-Criminals-United-States\n",
            "Failed to retrieve content from the URL: https://www.ktsm.com/news/fbi-agent-others-warn-of-venezuelan-gang-entering-into-us/\n"
          ]
        },
        {
          "name": "stderr",
          "output_type": "stream",
          "text": [
            "Some characters could not be decoded, and were replaced with REPLACEMENT CHARACTER.\n"
          ]
        },
        {
          "name": "stdout",
          "output_type": "stream",
          "text": [
            "How are gangs and criminals from Venezuela allegedly being transported to the United States?\n",
            "Failed to retrieve content from the URL: https://www.ktsm.com/news/fbi-agent-others-warn-of-venezuelan-gang-entering-into-us/\n",
            "Failed to retrieve content from the URL: https://cis.org/Arthur/Venezuela-Sending-Violent-Criminals-United-States\n",
            "Failed to retrieve content from the URL: https://www.gmtoday.com/news/national/crime-concerns-grow-as-members-of-a-violent-venezuelan-gang-arrive-in-american-cities/article_1b8c456a-f680-11ee-af2e-4707bda946fe.html\n",
            "Error during website scraping: HTTPSConnectionPool(host='www.miamiherald.com', port=443): Read timed out. (read timeout=5)\n",
            "What is the scale or extent of Venezuela allegedly sending gangs and criminals to the United States?\n",
            "Failed to retrieve content from the URL: https://cis.org/Arthur/Venezuela-Sending-Violent-Criminals-United-States\n"
          ]
        }
      ],
      "source": [
        "for index, row in tqdm(df[1:5].iterrows()):\n",
        "    statement = row['statement']\n",
        "    fact_check_samples.append(verify_statement_claude(statement))"
      ]
    },
    {
      "cell_type": "code",
      "execution_count": 56,
      "metadata": {},
      "outputs": [
        {
          "data": {
            "application/vnd.jupyter.widget-view+json": {
              "model_id": "c10f90f0bcd24861a06d0969090d7710",
              "version_major": 2,
              "version_minor": 0
            },
            "text/plain": [
              "0it [00:00, ?it/s]"
            ]
          },
          "metadata": {},
          "output_type": "display_data"
        },
        {
          "name": "stdout",
          "output_type": "stream",
          "text": [
            "2\n",
            "What are the laws or policies in New York regarding cooperation between state/local law enforcement and federal immigration authorities?\n"
          ]
        },
        {
          "name": "stderr",
          "output_type": "stream",
          "text": [
            "Some characters could not be decoded, and were replaced with REPLACEMENT CHARACTER.\n",
            "Some characters could not be decoded, and were replaced with REPLACEMENT CHARACTER.\n"
          ]
        },
        {
          "name": "stdout",
          "output_type": "stream",
          "text": [
            "Are there any restrictions or limitations on New York law enforcement agencies assisting federal agencies in enforcing immigration laws?\n"
          ]
        },
        {
          "name": "stderr",
          "output_type": "stream",
          "text": [
            "Some characters could not be decoded, and were replaced with REPLACEMENT CHARACTER.\n"
          ]
        },
        {
          "name": "stdout",
          "output_type": "stream",
          "text": [
            "Failed to retrieve content from the URL: http://www.markwynn.com/trafficking/enforcing-immigration-law-the-role-of-state-tribal-and-local-le-2004.pdf\n",
            "How does New York's stance on immigration enforcement cooperation with the federal government compare to other states?\n",
            "Failed to retrieve content from the URL: https://www.migrationpolicy.org/article/cities-struggle-migrant-arrivals-new-york\n",
            "Failed to retrieve content from the URL: https://www.findlaw.com/immigration/immigration-laws-and-resources/federal-vs-state-immigration-laws.html\n",
            "Failed to retrieve content from the URL: https://www.cbpp.org/blog/more-states-adopting-inclusive-policies-for-immigrants\n",
            "Error during website scraping: HTTPSConnectionPool(host='www.cga.ct.gov', port=443): Max retries exceeded with url: /2007/rpt/2007-R-0621.htm (Caused by SSLError(SSLCertVerificationError(1, '[SSL: CERTIFICATE_VERIFY_FAILED] certificate verify failed: unable to get local issuer certificate (_ssl.c:1006)')))\n",
            "What is the number of crimes in New York where migrants can be handed over to immigration authorities?\n",
            "Failed to retrieve content from the URL: https://www.nytimes.com/2024/02/15/nyregion/migrants-crime-nyc.html\n",
            "What types of crimes in New York allow for the transfer of migrants to immigration authorities?\n",
            "Failed to retrieve content from the URL: https://www.nytimes.com/2024/02/15/nyregion/migrants-crime-nyc.html\n",
            "Failed to retrieve content from the URL: https://www.politico.com/news/2024/02/27/adams-sanctuary-city-laws-new-york-00143705\n",
            "How does the policy of handing over migrants to immigration authorities for certain crimes in New York work?\n",
            "Failed to retrieve content from the URL: https://www.nytimes.com/2024/02/27/nyregion/adams-deport-migrants-crime.html\n",
            "Failed to retrieve content from the URL: https://www.nytimes.com/2024/02/15/nyregion/migrants-crime-nyc.html\n",
            "What is the legal basis for handing over migrants to immigration authorities in New York for specific crimes?\n"
          ]
        },
        {
          "name": "stderr",
          "output_type": "stream",
          "text": [
            "Some characters could not be decoded, and were replaced with REPLACEMENT CHARACTER.\n",
            "Some characters could not be decoded, and were replaced with REPLACEMENT CHARACTER.\n"
          ]
        },
        {
          "name": "stdout",
          "output_type": "stream",
          "text": [
            "Failed to retrieve content from the URL: https://www.un.org/en/development/desa/population/migration/generalassembly/docs/globalcompact/A_RES_71_1.pdf\n",
            "2\n",
            "What is the average salary in the semiconductor industry?\n",
            "Failed to retrieve content from the URL: https://www.ziprecruiter.com/Salaries/Semiconductor-Industry-Salary\n",
            "Failed to retrieve content from the URL: https://www.indeed.com/career/semiconductor-engineer/salaries\n",
            "Failed to retrieve content from the URL: https://www.payscale.com/research/US/Industry=Semiconductor_Manufacturing/Salary\n",
            "Failed to retrieve content from the URL: https://www.glassdoor.com/Salaries/semiconductor-engineer-salary-SRCH_KO0,22.htm\n",
            "Failed to retrieve content from the URL: https://www.ziprecruiter.com/Salaries/Semiconductor-Salary\n",
            "Failed to retrieve content from the URL: https://www.semiconductors.org/chipping-in-sia-jobs-report/\n",
            "How does the $110,000 figure compare to the average salary in other industries?\n",
            "Failed to retrieve content from the URL: https://finance.yahoo.com/news/underpaid-compared-people-state-090100113.html\n",
            "Error during website scraping: HTTPSConnectionPool(host='money.usnews.com', port=443): Read timed out. (read timeout=5)\n",
            "Failed to retrieve content from the URL: https://www.ziprecruiter.com/Salaries/Semiconductor-Industry-Salary\n",
            "What factors contribute to the high average salary in the semiconductor industry?\n",
            "Failed to retrieve content from the URL: https://www.ziprecruiter.com/Salaries/Semiconductor-Industry-Salary\n",
            "Failed to retrieve content from the URL: https://www.wtwco.com/en-th/insights/2022/07/semiconductor-industry-will-continue-to-lead-the-pay-trend-in-2022-across-asia-pacific\n",
            "Failed to retrieve content from the URL: https://medium.com/@suresh.vaja/unlocking-lucrative-careers-top-high-paying-jobs-in-the-semiconductor-industry-c73c0a0b4131\n",
            "Failed to retrieve content from the URL: https://trupathsearch.com/best-paying-jobs-in-semiconductors/\n",
            "Failed to retrieve content from the URL: https://www.semiconductors.org/wp-content/uploads/2021/05/SIA-Impact_May2021-FINAL-May-19-2021_2.pdf\n",
            "Is the $110,000 figure an accurate representation of the typical salary in the semiconductor industry?\n",
            "Failed to retrieve content from the URL: https://www.ziprecruiter.com/Salaries/Semiconductor-Industry-Salary\n",
            "Failed to retrieve content from the URL: https://www.semiconductors.org/wp-content/uploads/2021/05/SIA-Impact_May2021-FINAL-May-19-2021_2.pdf\n",
            "Failed to retrieve content from the URL: https://www.glassdoor.com/Salaries/semiconductor-test-engineer-salary-SRCH_KO0,27.htm\n",
            "Failed to retrieve content from the URL: https://www.computerscience.org/careers/computer-engineering/computer-engineer/career-outlook-and-salary/\n",
            "What qualifications are required for jobs in the semiconductor industry?\n",
            "Failed to retrieve content from the URL: https://www.indeed.com/career-advice/finding-a-job/how-to-get-job-in-semiconductor-industry\n",
            "Failed to retrieve content from the URL: https://insightglobal.com/blog/get-hired-chips-semiconductors/\n",
            "Failed to retrieve content from the URL: https://www.indeed.com/career-advice/finding-a-job/how-to-become-semiconductor-engineer\n",
            "Is a college degree necessary for employment in the semiconductor industry?\n",
            "Failed to retrieve content from the URL: https://www.ziprecruiter.com/e/What-Are-the-Qualifications-to-Get-a-Semiconductor-Job\n",
            "What is the significance of not needing a college degree for semiconductor industry jobs?\n",
            "2\n",
            "What changes are being made to Medicare Part D prescription drug costs starting in 2025?\n",
            "Failed to retrieve content from the URL: https://www.panfoundation.org/everything-you-need-to-know-about-medicare-reforms/\n",
            "Will Medicare Part D users have an annual out-of-pocket maximum for prescription drug costs after 2025?\n",
            "Failed to retrieve content from the URL: https://www.panfoundation.org/everything-you-need-to-know-about-medicare-reforms/\n",
            "What is the maximum amount Medicare Part D users will pay for prescription drugs each year starting in 2025?\n"
          ]
        },
        {
          "name": "stderr",
          "output_type": "stream",
          "text": [
            "Some characters could not be decoded, and were replaced with REPLACEMENT CHARACTER.\n"
          ]
        },
        {
          "name": "stdout",
          "output_type": "stream",
          "text": [
            "Failed to retrieve content from the URL: https://www.panfoundation.org/everything-you-need-to-know-about-medicare-reforms/\n",
            "What is the typical cost range for certain cancer drugs per year?\n",
            "Failed to retrieve content from the URL: https://www.thelancet.com/journals/lanonc/article/PIIS1470-2045(22)00705-7/fulltext\n",
            "Failed to retrieve content from the URL: https://www.ncbi.nlm.nih.gov/pmc/articles/PMC8998346/\n",
            "Failed to retrieve content from the URL: https://jamanetwork.com/journals/jamanetworkopen/fullarticle/2812734\n",
            "Failed to retrieve content from the URL: https://www.ncbi.nlm.nih.gov/pmc/articles/PMC3538397/\n",
            "Failed to retrieve content from the URL: https://www.reuters.com/business/healthcare-pharmaceuticals/new-us-cancer-drug-prices-rise-53-five-years-report-2022-11-02/\n",
            "How much do some cancer treatments cost annually?\n"
          ]
        },
        {
          "name": "stderr",
          "output_type": "stream",
          "text": [
            "Some characters could not be decoded, and were replaced with REPLACEMENT CHARACTER.\n"
          ]
        },
        {
          "name": "stdout",
          "output_type": "stream",
          "text": [
            "Failed to retrieve content from the URL: https://www.aacr.org/about-the-aacr/newsroom/news-releases/cancer-care-costs-in-the-united-states-are-projected-to-exceed-245-billion-by-2030/\n",
            "What are the annual expenses associated with specific cancer medications?\n",
            "Failed to retrieve content from the URL: https://www.ncbi.nlm.nih.gov/pmc/articles/PMC9213200/\n"
          ]
        },
        {
          "name": "stderr",
          "output_type": "stream",
          "text": [
            "Some characters could not be decoded, and were replaced with REPLACEMENT CHARACTER.\n"
          ]
        },
        {
          "name": "stdout",
          "output_type": "stream",
          "text": [
            "Failed to retrieve content from the URL: https://jamanetwork.com/journals/jamanetworkopen/fullarticle/2812734\n",
            "Failed to retrieve content from the URL: https://www.aacr.org/about-the-aacr/newsroom/news-releases/cancer-care-costs-in-the-united-states-are-projected-to-exceed-245-billion-by-2030/\n",
            "2\n",
            "How many auto jobs were lost in the United States during Trump's presidency?\n",
            "Failed to retrieve content from the URL: https://climatepower.us/news/fact-check-auto-jobs-declined-during-trump-administration/\n",
            "Failed to retrieve content from the URL: https://www.houstonchronicle.com/politics/texas/politifact/article/fact-check-trump-auto-industry-18411684.php\n",
            "Failed to retrieve content from the URL: https://www.barrons.com/news/a-look-at-donald-trump-s-record-on-auto-jobs-01603334705\n",
            "What was the trend in auto industry employment during Trump's term?\n",
            "Failed to retrieve content from the URL: https://www.barrons.com/news/a-look-at-donald-trump-s-record-on-auto-jobs-01603334705\n",
            "Failed to retrieve content from the URL: https://www.houstonchronicle.com/politics/texas/politifact/article/fact-check-trump-auto-industry-18411684.php\n",
            "Did the auto industry experience significant job losses nationwide under the Trump administration?\n",
            "Failed to retrieve content from the URL: https://climatepower.us/news/fact-check-auto-jobs-declined-during-trump-administration/\n",
            "Failed to retrieve content from the URL: https://www.houstonchronicle.com/politics/texas/politifact/article/fact-check-trump-auto-industry-18411684.php\n",
            "Failed to retrieve content from the URL: https://thehill.com/homenews/administration/4302625-biden-bashes-trump-auto-industry-record-uaw/\n",
            "Error during website scraping: HTTPSConnectionPool(host='www.washingtonpost.com', port=443): Read timed out. (read timeout=5)\n",
            "What factors contributed to the loss of auto jobs during Trump's presidency?\n",
            "Failed to retrieve content from the URL: https://www.houstonchronicle.com/politics/texas/politifact/article/fact-check-trump-auto-industry-18411684.php\n",
            "Failed to retrieve content from the URL: https://climatepower.us/news/fact-check-auto-jobs-declined-during-trump-administration/\n",
            "How many auto jobs were created during Biden's presidency?\n"
          ]
        },
        {
          "name": "stderr",
          "output_type": "stream",
          "text": [
            "Some characters could not be decoded, and were replaced with REPLACEMENT CHARACTER.\n"
          ]
        },
        {
          "name": "stdout",
          "output_type": "stream",
          "text": [
            "Failed to retrieve content from the URL: https://www.politico.com/news/2024/01/19/biden-manufacturing-factory-jobs-00136473\n",
            "What is the source and time period for the claim that over 250,000 auto jobs were created during Biden's presidency?\n",
            "Failed to retrieve content from the URL: https://www.americanprogress.org/article/bidens-jobs-boom-how-policies-boosted-the-labor-market-recovery-in-2021/\n",
            "What policies or factors contributed to the creation of auto jobs during Biden's presidency?\n",
            "Failed to retrieve content from the URL: https://www.americanprogress.org/article/bidens-jobs-boom-how-policies-boosted-the-labor-market-recovery-in-2021/\n",
            "Failed to retrieve content from the URL: https://www.nytimes.com/2021/01/27/climate/biden-climate-executive-orders.html\n",
            "Failed to retrieve content from the URL: https://www.energy.gov/articles/biden-harris-administration-announces-155-billion-support-strong-and-just-transition\n",
            "How does the number of auto jobs created during Biden's presidency compare to previous administrations?\n",
            "Error during website scraping: HTTPSConnectionPool(host='www.washingtonpost.com', port=443): Read timed out. (read timeout=5)\n",
            "Failed to retrieve content from the URL: https://www.americanprogress.org/article/bidens-jobs-boom-how-policies-boosted-the-labor-market-recovery-in-2021/\n",
            "1\n",
            "What is the productivity level of the current Congress compared to previous Congresses?\n",
            "Failed to retrieve content from the URL: https://www.axios.com/2023/12/19/118-congress-bills-least-unproductive-chart\n",
            "How does the legislative output of the current Congress compare to past Congresses?\n",
            "Failed to retrieve content from the URL: https://www.congress.gov/legislative-process\n"
          ]
        },
        {
          "name": "stderr",
          "output_type": "stream",
          "text": [
            "Some characters could not be decoded, and were replaced with REPLACEMENT CHARACTER.\n"
          ]
        },
        {
          "name": "stdout",
          "output_type": "stream",
          "text": [
            "What factors contribute to the perceived lack of productivity in the current Congress?\n",
            "Failed to retrieve content from the URL: https://theconversation.com/is-this-the-least-productive-congress-ever-yes-but-its-not-just-because-theyre-lazy-225539\n"
          ]
        },
        {
          "name": "stderr",
          "output_type": "stream",
          "text": [
            "Some characters could not be decoded, and were replaced with REPLACEMENT CHARACTER.\n"
          ]
        },
        {
          "name": "stdout",
          "output_type": "stream",
          "text": [
            "Failed to retrieve content from the URL: https://www.congressfoundation.org/storage/documents/CMF_Pubs/life-in-congress-job-satisfaction-engagement.pdf\n",
            "Failed to retrieve content from the URL: https://www.bls.gov/opub/mlr/2021/article/the-us-productivity-slowdown-the-economy-wide-and-industry-level-analysis.htm\n"
          ]
        },
        {
          "name": "stderr",
          "output_type": "stream",
          "text": [
            "Some characters could not be decoded, and were replaced with REPLACEMENT CHARACTER.\n"
          ]
        },
        {
          "name": "stdout",
          "output_type": "stream",
          "text": [
            "What metrics are used to measure the productivity of Congress?\n",
            "Failed to retrieve content from the URL: https://www.jstor.org/stable/2110060\n"
          ]
        },
        {
          "name": "stderr",
          "output_type": "stream",
          "text": [
            "Some characters could not be decoded, and were replaced with REPLACEMENT CHARACTER.\n"
          ]
        },
        {
          "name": "stdout",
          "output_type": "stream",
          "text": [
            "How does the current Congress's productivity level impact governance and policymaking?\n",
            "Failed to retrieve content from the URL: https://bipartisanpolicy.org/wp-content/uploads/2019/03/BPC-Economy-Congress-and-Evidence-Based-Policymaking.pdf\n"
          ]
        },
        {
          "name": "stderr",
          "output_type": "stream",
          "text": [
            "Some characters could not be decoded, and were replaced with REPLACEMENT CHARACTER.\n"
          ]
        },
        {
          "name": "stdout",
          "output_type": "stream",
          "text": [
            "Failed to retrieve content from the URL: https://crsreports.congress.gov/product/pdf/IF/IF10557\n",
            "Failed to retrieve content from the URL: https://www.jstor.org/stable/45132494\n"
          ]
        },
        {
          "name": "stderr",
          "output_type": "stream",
          "text": [
            "Some characters could not be decoded, and were replaced with REPLACEMENT CHARACTER.\n"
          ]
        },
        {
          "name": "stdout",
          "output_type": "stream",
          "text": [
            "Failed to retrieve content from the URL: https://platforms.aei.org/the-governance-of-american-innovation-restoring-congresss-role/\n"
          ]
        }
      ],
      "source": [
        "for index, row in tqdm(df[5:10].iterrows()):\n",
        "    statement = row['statement']\n",
        "    fact_check_samples.append(verify_statement_claude(statement))"
      ]
    },
    {
      "cell_type": "code",
      "execution_count": 60,
      "metadata": {},
      "outputs": [
        {
          "data": {
            "application/vnd.jupyter.widget-view+json": {
              "model_id": "4f8984a937b84b32b3f8ad738fac0b1e",
              "version_major": 2,
              "version_minor": 0
            },
            "text/plain": [
              "0it [00:00, ?it/s]"
            ]
          },
          "metadata": {},
          "output_type": "display_data"
        },
        {
          "name": "stdout",
          "output_type": "stream",
          "text": [
            "1\n",
            "Did a video capture New York Governor Kathy Hochul being denied entry into the wake for slain NYPD officer Jonathan Diller?\n",
            "Failed to retrieve content from the URL: https://www.newsweek.com/kathy-hochul-video-jonathan-diller-nypd-wake-1885248\n",
            "Failed to retrieve content from the URL: https://www.politico.com/news/2024/03/30/hochul-wake-nypd-diller-00149839\n",
            "What was the reason given for denying Governor Kathy Hochul entry into the wake for Officer Jonathan Diller?\n",
            "Failed to retrieve content from the URL: https://www.politico.com/news/2024/03/30/hochul-wake-nypd-diller-00149839\n",
            "Failed to retrieve content from the URL: https://www.newsweek.com/kathy-hochul-video-jonathan-diller-nypd-wake-1885248\n",
            "Was Governor Kathy Hochul ultimately allowed to attend the wake for Officer Jonathan Diller?\n",
            "Failed to retrieve content from the URL: https://pix11.com/news/local-news/gov-hochul-confronted-while-leaving-wake-for-nypd-officer/\n",
            "How did Governor Kathy Hochul respond to being denied entry into the wake for Officer Jonathan Diller?\n",
            "Failed to retrieve content from the URL: https://www.newsweek.com/kathy-hochul-video-jonathan-diller-nypd-wake-1885248\n",
            "Failed to retrieve content from the URL: https://pix11.com/news/local-news/gov-hochul-confronted-while-leaving-wake-for-nypd-officer/\n",
            "1\n",
            "How many elections have been held in Wisconsin over the past 24 years?\n"
          ]
        },
        {
          "name": "stderr",
          "output_type": "stream",
          "text": [
            "Some characters could not be decoded, and were replaced with REPLACEMENT CHARACTER.\n"
          ]
        },
        {
          "name": "stdout",
          "output_type": "stream",
          "text": [
            "How many of those elections in Wisconsin were decided by a margin of less than 30,000 votes?\n",
            "Failed to retrieve content from the URL: https://abcnews.go.com/Politics/wireStory/democrats-hope-biden-boost-ballot-races-wisconsins-new-108691070\n",
            "Error during website scraping: HTTPSConnectionPool(host='www.washingtonpost.com', port=443): Read timed out. (read timeout=5)\n",
            "What is the significance of elections being decided by a small margin of votes in Wisconsin?\n",
            "What factors contribute to close election results in Wisconsin?\n",
            "Error during website scraping: HTTPSConnectionPool(host='www.washingtonpost.com', port=443): Read timed out. (read timeout=5)\n",
            "Failed to retrieve content from the URL: https://www.nytimes.com/2020/04/07/us/politics/wisconsin-primary-election.html\n",
            "Error during website scraping: HTTPSConnectionPool(host='www.usnews.com', port=443): Read timed out. (read timeout=5)\n",
            "1\n",
            "What is the impact of the 2022 law on the availability of on-campus poll sites in New York State colleges?\n"
          ]
        },
        {
          "name": "stderr",
          "output_type": "stream",
          "text": [
            "Some characters could not be decoded, and were replaced with REPLACEMENT CHARACTER.\n"
          ]
        },
        {
          "name": "stdout",
          "output_type": "stream",
          "text": [
            "Failed to retrieve content from the URL: https://www.timesunion.com/opinion/article/commentary-new-york-mandated-on-campus-voting-18691817.php\n",
            "Failed to retrieve content from the URL: https://www.democracydocket.com/news-alerts/bard-college-calls-out-lack-of-polling-sites-on-new-york-college-campuses/\n",
            "Failed to retrieve content from the URL: https://elections.ny.gov/system/files/documents/2023/10/2023-new-york-state-election-law-update.pdf\n",
            "How many colleges in New York State currently have on-campus poll sites after the 2022 law?\n"
          ]
        },
        {
          "name": "stderr",
          "output_type": "stream",
          "text": [
            "Some characters could not be decoded, and were replaced with REPLACEMENT CHARACTER.\n"
          ]
        },
        {
          "name": "stdout",
          "output_type": "stream",
          "text": [
            "Failed to retrieve content from the URL: https://www.democracydocket.com/news-alerts/bard-college-calls-out-lack-of-polling-sites-on-new-york-college-campuses/\n",
            "Failed to retrieve content from the URL: https://www.timesunion.com/opinion/article/commentary-new-york-mandated-on-campus-voting-18691817.php\n",
            "What percentage of colleges in New York State do not have on-campus poll sites following the 2022 law?\n"
          ]
        },
        {
          "name": "stderr",
          "output_type": "stream",
          "text": [
            "Some characters could not be decoded, and were replaced with REPLACEMENT CHARACTER.\n"
          ]
        },
        {
          "name": "stdout",
          "output_type": "stream",
          "text": [
            "Failed to retrieve content from the URL: https://www.timesunion.com/opinion/article/commentary-new-york-mandated-on-campus-voting-18691817.php\n",
            "Failed to retrieve content from the URL: https://www.democracydocket.com/news-alerts/bard-college-calls-out-lack-of-polling-sites-on-new-york-college-campuses/\n",
            "What are the potential consequences of the lack of on-campus poll sites for college students in New York State?\n"
          ]
        },
        {
          "name": "stderr",
          "output_type": "stream",
          "text": [
            "Some characters could not be decoded, and were replaced with REPLACEMENT CHARACTER.\n"
          ]
        },
        {
          "name": "stdout",
          "output_type": "stream",
          "text": [
            "Failed to retrieve content from the URL: https://www.timesunion.com/opinion/article/commentary-new-york-mandated-on-campus-voting-18691817.php\n",
            "Failed to retrieve content from the URL: https://www.democracydocket.com/news-alerts/bard-college-calls-out-lack-of-polling-sites-on-new-york-college-campuses/\n",
            "Failed to retrieve content from the URL: https://www.findlaw.com/voting/how-do-i-protect-my-right-to-vote-/voter-suppression-and-college-students.html\n",
            "Failed to retrieve content from the URL: https://www.nytimes.com/2020/10/20/us/politics/college-students-voting-location.html\n",
            "2\n",
            "What was the average monthly cost of insulin for Medicare beneficiaries?\n"
          ]
        },
        {
          "name": "stderr",
          "output_type": "stream",
          "text": [
            "Some characters could not be decoded, and were replaced with REPLACEMENT CHARACTER.\n"
          ]
        },
        {
          "name": "stdout",
          "output_type": "stream",
          "text": [
            "Failed to retrieve content from the URL: https://www.ncbi.nlm.nih.gov/pmc/articles/PMC7646207/\n",
            "How did the cost of insulin impact Medicare beneficiaries financially?\n",
            "Failed to retrieve content from the URL: https://www.ncbi.nlm.nih.gov/pmc/articles/PMC7646207/\n",
            "Failed to retrieve content from the URL: https://www.ncbi.nlm.nih.gov/pmc/articles/PMC9862367/\n",
            "Failed to retrieve content from the URL: https://jamanetwork.com/journals/jamanetworkopen/fullarticle/2800403\n",
            "What factors contributed to the high cost of insulin for Medicare beneficiaries?\n",
            "Failed to retrieve content from the URL: https://www.ncbi.nlm.nih.gov/pmc/articles/PMC7646207/\n",
            "Failed to retrieve content from the URL: https://www.ncbi.nlm.nih.gov/pmc/articles/PMC8597930/\n"
          ]
        },
        {
          "name": "stderr",
          "output_type": "stream",
          "text": [
            "Some characters could not be decoded, and were replaced with REPLACEMENT CHARACTER.\n"
          ]
        },
        {
          "name": "stdout",
          "output_type": "stream",
          "text": [
            "Failed to retrieve content from the URL: https://diabetesjournals.org/care/article/43/10/2396/35830/Factors-Contributing-to-the-Rising-National-Cost\n"
          ]
        },
        {
          "name": "stderr",
          "output_type": "stream",
          "text": [
            "Some characters could not be decoded, and were replaced with REPLACEMENT CHARACTER.\n"
          ]
        },
        {
          "name": "stdout",
          "output_type": "stream",
          "text": [
            "What is the current cost of insulin for Medicare beneficiaries?\n"
          ]
        },
        {
          "name": "stderr",
          "output_type": "stream",
          "text": [
            "Some characters could not be decoded, and were replaced with REPLACEMENT CHARACTER.\n",
            "Some characters could not be decoded, and were replaced with REPLACEMENT CHARACTER.\n"
          ]
        },
        {
          "name": "stdout",
          "output_type": "stream",
          "text": [
            "Failed to retrieve content from the URL: https://www.humana.com/medicare/medicare-resources/does-medicare-cover-insulin\n",
            "How does the $35 monthly cost of insulin for Medicare beneficiaries compare to previous costs?\n"
          ]
        },
        {
          "name": "stderr",
          "output_type": "stream",
          "text": [
            "Some characters could not be decoded, and were replaced with REPLACEMENT CHARACTER.\n"
          ]
        },
        {
          "name": "stdout",
          "output_type": "stream",
          "text": [
            "What policy or program has led to the $35 monthly cost of insulin for Medicare beneficiaries?\n"
          ]
        },
        {
          "name": "stderr",
          "output_type": "stream",
          "text": [
            "Some characters could not be decoded, and were replaced with REPLACEMENT CHARACTER.\n"
          ]
        },
        {
          "name": "stdout",
          "output_type": "stream",
          "text": [
            "How does the $35 monthly cost of insulin impact Medicare beneficiaries financially?\n",
            "Failed to retrieve content from the URL: https://www.ncbi.nlm.nih.gov/pmc/articles/PMC9862367/\n",
            "Failed to retrieve content from the URL: https://www.ncbi.nlm.nih.gov/pmc/articles/PMC7646207/\n",
            "1\n",
            "What is the current level of support for Roe v. Wade in America?\n",
            "Failed to retrieve content from the URL: https://www.axios.com/2023/07/12/most-americans-support-abortion-poll\n",
            "Failed to retrieve content from the URL: https://www.americanprogress.org/article/a-year-after-the-supreme-court-overturned-roe-v-wade-trends-in-state-abortion-laws-have-emerged/\n",
            "How does the current support for Roe v. Wade compare to historical levels?\n",
            "Failed to retrieve content from the URL: https://www.americanprogress.org/article/a-year-after-the-supreme-court-overturned-roe-v-wade-trends-in-state-abortion-laws-have-emerged/\n",
            "Failed to retrieve content from the URL: https://www.reuters.com/world/us/how-abortion-became-divisive-issue-us-politics-2022-06-24/\n",
            "What factors contribute to the changing levels of support for Roe v. Wade over time?\n",
            "Error during website scraping: HTTPSConnectionPool(host='www.washingtonpost.com', port=443): Read timed out. (read timeout=5)\n",
            "Failed to retrieve content from the URL: https://www.americanprogress.org/article/a-year-after-the-supreme-court-overturned-roe-v-wade-trends-in-state-abortion-laws-have-emerged/\n"
          ]
        },
        {
          "name": "stderr",
          "output_type": "stream",
          "text": [
            "Some characters could not be decoded, and were replaced with REPLACEMENT CHARACTER.\n",
            "Some characters could not be decoded, and were replaced with REPLACEMENT CHARACTER.\n"
          ]
        },
        {
          "name": "stdout",
          "output_type": "stream",
          "text": [
            "Failed to retrieve content from the URL: https://reproductiverights.org/roe-v-wade/\n",
            "How is public opinion on Roe v. Wade measured and tracked?\n",
            "Error during website scraping: HTTPSConnectionPool(host='www.washingtonpost.com', port=443): Read timed out. (read timeout=5)\n",
            "Failed to retrieve content from the URL: https://www.ncbi.nlm.nih.gov/pmc/articles/PMC9777967/\n",
            "Failed to retrieve content from the URL: https://www.nytimes.com/2023/06/23/us/roe-v-wade-abortion-views.html\n"
          ]
        }
      ],
      "source": [
        "for index, row in tqdm(df[10:15].iterrows()):\n",
        "    statement = row['statement']\n",
        "    fact_check_samples.append(verify_statement_claude(statement))"
      ]
    },
    {
      "cell_type": "code",
      "execution_count": 72,
      "metadata": {},
      "outputs": [
        {
          "data": {
            "application/vnd.jupyter.widget-view+json": {
              "model_id": "3ee54cd7872e44dd9d09390de81f489d",
              "version_major": 2,
              "version_minor": 0
            },
            "text/plain": [
              "0it [00:00, ?it/s]"
            ]
          },
          "metadata": {},
          "output_type": "display_data"
        },
        {
          "name": "stdout",
          "output_type": "stream",
          "text": [
            "1\n",
            "What is the impact of the 2022 law on the availability of on-campus poll sites in New York State colleges?\n"
          ]
        },
        {
          "name": "stderr",
          "output_type": "stream",
          "text": [
            "Some characters could not be decoded, and were replaced with REPLACEMENT CHARACTER.\n"
          ]
        },
        {
          "name": "stdout",
          "output_type": "stream",
          "text": [
            "Failed to retrieve content from the URL: https://www.timesunion.com/opinion/article/commentary-new-york-mandated-on-campus-voting-18691817.php\n",
            "Failed to retrieve content from the URL: https://www.democracydocket.com/news-alerts/bard-college-calls-out-lack-of-polling-sites-on-new-york-college-campuses/\n",
            "Failed to retrieve content from the URL: https://elections.ny.gov/system/files/documents/2023/10/2023-new-york-state-election-law-update.pdf\n",
            "How many colleges in New York State currently have on-campus poll sites after the 2022 law?\n"
          ]
        },
        {
          "name": "stderr",
          "output_type": "stream",
          "text": [
            "Some characters could not be decoded, and were replaced with REPLACEMENT CHARACTER.\n"
          ]
        },
        {
          "name": "stdout",
          "output_type": "stream",
          "text": [
            "Failed to retrieve content from the URL: https://www.democracydocket.com/news-alerts/bard-college-calls-out-lack-of-polling-sites-on-new-york-college-campuses/\n",
            "Failed to retrieve content from the URL: https://www.timesunion.com/opinion/article/commentary-new-york-mandated-on-campus-voting-18691817.php\n",
            "What percentage of colleges in New York State do not have on-campus poll sites following the 2022 law?\n"
          ]
        },
        {
          "name": "stderr",
          "output_type": "stream",
          "text": [
            "Some characters could not be decoded, and were replaced with REPLACEMENT CHARACTER.\n"
          ]
        },
        {
          "name": "stdout",
          "output_type": "stream",
          "text": [
            "Failed to retrieve content from the URL: https://www.timesunion.com/opinion/article/commentary-new-york-mandated-on-campus-voting-18691817.php\n",
            "Failed to retrieve content from the URL: https://www.democracydocket.com/news-alerts/bard-college-calls-out-lack-of-polling-sites-on-new-york-college-campuses/\n"
          ]
        },
        {
          "name": "stderr",
          "output_type": "stream",
          "text": [
            "Some characters could not be decoded, and were replaced with REPLACEMENT CHARACTER.\n"
          ]
        },
        {
          "name": "stdout",
          "output_type": "stream",
          "text": [
            "What are the potential consequences of the lack of on-campus poll sites for college students in New York State?\n"
          ]
        },
        {
          "name": "stderr",
          "output_type": "stream",
          "text": [
            "Some characters could not be decoded, and were replaced with REPLACEMENT CHARACTER.\n"
          ]
        },
        {
          "name": "stdout",
          "output_type": "stream",
          "text": [
            "Failed to retrieve content from the URL: https://www.timesunion.com/opinion/article/commentary-new-york-mandated-on-campus-voting-18691817.php\n",
            "Failed to retrieve content from the URL: https://www.democracydocket.com/news-alerts/bard-college-calls-out-lack-of-polling-sites-on-new-york-college-campuses/\n",
            "Failed to retrieve content from the URL: https://www.findlaw.com/voting/how-do-i-protect-my-right-to-vote-/voter-suppression-and-college-students.html\n",
            "Failed to retrieve content from the URL: https://www.nytimes.com/2020/10/20/us/politics/college-students-voting-location.html\n"
          ]
        }
      ],
      "source": [
        "for index, row in tqdm(df[12:13].iterrows()):\n",
        "    statement = row['statement']\n",
        "    fact_check_samples[12] = verify_statement_claude(statement)"
      ]
    },
    {
      "cell_type": "code",
      "execution_count": 75,
      "metadata": {},
      "outputs": [
        {
          "data": {
            "application/vnd.jupyter.widget-view+json": {
              "model_id": "58ccda99d7b140bb9a95c4bb3341aa71",
              "version_major": 2,
              "version_minor": 0
            },
            "text/plain": [
              "0it [00:00, ?it/s]"
            ]
          },
          "metadata": {},
          "output_type": "display_data"
        },
        {
          "name": "stdout",
          "output_type": "stream",
          "text": [
            "1\n",
            "What is the total amount of private investment attracted by the 2022 CHIPS and Science Act?\n",
            "Failed to retrieve content from the URL: https://www.semiconductors.org/the-chips-act-has-already-sparked-200-billion-in-private-investments-for-u-s-semiconductor-production/\n",
            "Failed to retrieve content from the URL: https://www.congress.gov/bill/117th-congress/house-bill/4346\n",
            "Failed to retrieve content from the URL: https://www.state.gov/the-u-s-department-of-state-international-technology-security-and-innovation-fund/\n",
            "How much private investment was generated as a result of the 2022 CHIPS and Science Act?\n",
            "Failed to retrieve content from the URL: https://www.semiconductors.org/the-chips-act-has-already-sparked-200-billion-in-private-investments-for-u-s-semiconductor-production/\n",
            "Failed to retrieve content from the URL: https://www.vanhollen.senate.gov/download/chips-and-science-act-of-2022-summary&download=1\n",
            "What is the significance of the $640 billion in private investment attracted by the 2022 CHIPS and Science Act?\n",
            "Failed to retrieve content from the URL: https://www.semiconductors.org/the-chips-act-has-already-sparked-200-billion-in-private-investments-for-u-s-semiconductor-production/\n",
            "Failed to retrieve content from the URL: https://twitter.com/PolitiFact/status/1763733679191314635\n",
            "1\n",
            "Was ISIS created during Obama's presidency?\n",
            "Failed to retrieve content from the URL: https://www.politico.com/story/2016/08/trump-obama-clinton-founded-isis-226893\n",
            "Error during website scraping: HTTPSConnectionPool(host='www.washingtonpost.com', port=443): Read timed out. (read timeout=5)\n",
            "What was the role of the Obama administration in the formation of ISIS?\n",
            "Failed to retrieve content from the URL: https://www.politico.com/story/2016/08/trump-obama-clinton-founded-isis-226893\n",
            "Error during website scraping: HTTPSConnectionPool(host='www.washingtonpost.com', port=443): Read timed out. (read timeout=5)\n",
            "Is there evidence linking Obama's policies to the rise of ISIS?\n",
            "Failed to retrieve content from the URL: https://www.tandfonline.com/doi/full/10.1080/00396338.2017.1325595\n",
            "How did the actions or inactions of the Obama administration contribute to the emergence of ISIS?\n",
            "Failed to retrieve content from the URL: https://www.thecairoreview.com/essays/obamas-tarnished-legacy-in-the-middle-east/\n",
            "Failed to retrieve content from the URL: https://www.tandfonline.com/doi/full/10.1080/00396338.2017.1325595\n",
            "Failed to retrieve content from the URL: https://arabcenterdc.org/resource/the-obama-doctrine-from-a-middle-east-perspective-orientalism-inaction-contradiction-and-lack-of-accountability/\n",
            "3\n",
            "What is the current abortion law in Arizona?\n",
            "What changes are being proposed to Arizona's abortion laws?\n",
            "Failed to retrieve content from the URL: https://www.nytimes.com/article/arizona-abortion-ban.html\n",
            "Failed to retrieve content from the URL: https://www.nytimes.com/2024/05/01/us/arizona-senate-house-abortion-ruling.html\n",
            "How many people in Arizona would be affected by stricter abortion laws?\n",
            "Failed to retrieve content from the URL: https://www.nytimes.com/2024/05/01/us/arizona-senate-house-abortion-ruling.html\n",
            "Error during website scraping: HTTPSConnectionPool(host='www.washingtonpost.com', port=443): Read timed out. (read timeout=5)\n",
            "What are the potential consequences of more restrictive abortion laws in Arizona?\n",
            "Failed to retrieve content from the URL: https://www.nytimes.com/article/arizona-abortion-ban.html\n",
            "What is considered an 'extreme' or 'dangerous' abortion ban?\n",
            "Failed to retrieve content from the URL: https://www.americanprogress.org/article/abortion-bans-will-result-in-more-women-dying/\n",
            "Error during website scraping: HTTPSConnectionPool(host='www.usnews.com', port=443): Read timed out. (read timeout=5)\n",
            "Does the abortion ban make exceptions for cases where the woman's health is at risk?\n",
            "Failed to retrieve content from the URL: https://www.americanprogress.org/article/abortion-bans-will-result-in-more-women-dying/\n",
            "Failed to retrieve content from the URL: https://www.ohchr.org/en/press-releases/2023/06/united-states-abortion-bans-put-millions-women-and-girls-risk-un-experts-say\n",
            "What are the potential health risks to women due to the abortion ban?\n",
            "Error during website scraping: HTTPSConnectionPool(host='www.washingtonpost.com', port=443): Read timed out. (read timeout=5)\n",
            "Failed to retrieve content from the URL: https://www.americanprogress.org/article/state-abortion-bans-will-harm-women-and-families-economic-security-across-the-us/\n",
            "Failed to retrieve content from the URL: https://www.clinicaladvisor.com/home/topics/ob-gyn-information-center/abortion-ban-womens-health-roe-v-wade/\n",
            "How does the abortion ban impact women's access to healthcare in situations where their health is compromised?\n",
            "Failed to retrieve content from the URL: https://www.ncbi.nlm.nih.gov/pmc/articles/PMC10196497/\n"
          ]
        },
        {
          "name": "stderr",
          "output_type": "stream",
          "text": [
            "Some characters could not be decoded, and were replaced with REPLACEMENT CHARACTER.\n"
          ]
        },
        {
          "name": "stdout",
          "output_type": "stream",
          "text": [
            "Failed to retrieve content from the URL: https://www.ncbi.nlm.nih.gov/pmc/articles/PMC9836943/\n",
            "Failed to retrieve content from the URL: https://jamanetwork.com/journals/jamanetworkopen/fullarticle/2814017\n",
            "Failed to retrieve content from the URL: https://www.americanprogress.org/article/abortion-bans-will-result-in-more-women-dying/\n",
            "What safeguards or provisions are in place in the abortion ban to protect women's health?\n",
            "Failed to retrieve content from the URL: https://www.congress.gov/bill/117th-congress/house-bill/3755/text\n",
            "Failed to retrieve content from the URL: https://reproductiverights.org/the-womens-health-protection-act-federal-legislation-to-protect-the-right-to-access-abortion-care/\n",
            "Failed to retrieve content from the URL: https://www.congress.gov/bill/118th-congress/senate-bill/701\n",
            "Failed to retrieve content from the URL: https://actforwomen.org/whpa-faqs/\n",
            "What are the exceptions or provisions for cases of rape or incest in the abortion ban?\n",
            "Failed to retrieve content from the URL: https://reproductiverights.org/maps/worlds-abortion-laws/law-and-policy-guide-rape-and-incest-exceptions/\n",
            "Failed to retrieve content from the URL: https://www.nytimes.com/2022/06/09/health/abortion-bans-rape-incest.html\n",
            "Failed to retrieve content from the URL: https://www.poynter.org/fact-checking/2022/post-roe-v-wade-state-bans-no-exceptions-rape-incest/\n",
            "Failed to retrieve content from the URL: https://www.ncbi.nlm.nih.gov/pmc/articles/PMC10158537/\n",
            "How does the abortion ban address situations where the pregnancy results from rape or incest?\n",
            "Failed to retrieve content from the URL: https://reproductiverights.org/maps/worlds-abortion-laws/law-and-policy-guide-rape-and-incest-exceptions/\n",
            "Failed to retrieve content from the URL: https://www.ncbi.nlm.nih.gov/pmc/articles/PMC10158537/\n",
            "Does the abortion ban allow for termination of pregnancy in cases of rape or incest?\n",
            "Failed to retrieve content from the URL: https://reproductiverights.org/maps/worlds-abortion-laws/law-and-policy-guide-rape-and-incest-exceptions/\n",
            "Failed to retrieve content from the URL: https://www.nytimes.com/2022/06/09/health/abortion-bans-rape-incest.html\n",
            "5\n",
            "Is Governor Gretchen Whitmer of Michigan providing a monthly payment of $500 to individuals who host illegal immigrants in their homes?\n",
            "Failed to retrieve content from the URL: https://www.themidwesterner.news/2024/03/gretchen-whitmer-offers-michigan-residents-500-a-month-to-house-migrants/\n",
            "Failed to retrieve content from the URL: https://www.themidwesterner.news/2024/02/gretchen-whitmer-looking-for-michigan-residents-to-house-migrants/\n",
            "What is the policy or program in Michigan that offers financial incentives for housing illegal immigrants?\n",
            "Failed to retrieve content from the URL: https://www.michigan.gov/mdhhs/assistance-programs/cash/refugee/refugee-assistance-services\n",
            "Failed to retrieve content from the URL: https://www.themidwesterner.news/2024/03/gretchen-whitmer-offers-michigan-residents-500-a-month-to-house-migrants/\n",
            "Are there any government initiatives in Michigan that provide monetary compensation to residents for accommodating undocumented immigrants?\n",
            "Failed to retrieve content from the URL: https://www.michigan.gov/mdhhs/assistance-programs/cash/refugee/refugee-assistance-services\n",
            "Error during website scraping: HTTPSConnectionPool(host='www.washingtonpost.com', port=443): Read timed out. (read timeout=5)\n",
            "Failed to retrieve content from the URL: https://www.state.gov/refugee-admissions/reception-and-placement/\n",
            "Failed to retrieve content from the URL: https://www.ncbi.nlm.nih.gov/pmc/articles/PMC7274400/\n",
            "What is the name of the program being referred to?\n",
            "Failed to retrieve content from the URL: https://quizlet.com/379474211/developmental-psy-section-34-flash-cards/\n",
            "Failed to retrieve content from the URL: https://quizlet.com/176165455/esp-407-final-flash-cards/\n"
          ]
        },
        {
          "name": "stderr",
          "output_type": "stream",
          "text": [
            "Some characters could not be decoded, and were replaced with REPLACEMENT CHARACTER.\n"
          ]
        },
        {
          "name": "stdout",
          "output_type": "stream",
          "text": [
            "Failed to retrieve content from the URL: https://www.congress.gov/help/legislative-glossary\n",
            "Is the program specifically designed to provide rental assistance?\n",
            "Failed to retrieve content from the URL: https://www.michigan.gov/mshda/rental/welcomerenters\n",
            "Failed to retrieve content from the URL: https://mi211.org/housing-assistance\n",
            "Failed to retrieve content from the URL: https://www.cbpp.org/research/policy-basics-federal-rental-assistance\n",
            "Error during website scraping: HTTPSConnectionPool(host='home.treasury.gov', port=443): Read timed out. (read timeout=5)\n",
            "Failed to retrieve content from the URL: https://www.hudexchange.info/programs/home/topics/tbra/\n",
            "Is the program targeted towards newcomers or recent immigrants?\n"
          ]
        },
        {
          "name": "stderr",
          "output_type": "stream",
          "text": [
            "Some characters could not be decoded, and were replaced with REPLACEMENT CHARACTER.\n",
            "Some characters could not be decoded, and were replaced with REPLACEMENT CHARACTER.\n",
            "Some characters could not be decoded, and were replaced with REPLACEMENT CHARACTER.\n"
          ]
        },
        {
          "name": "stdout",
          "output_type": "stream",
          "text": [
            "Failed to retrieve content from the URL: https://www.migrationpolicy.org/research/building-new-american-community-newcomer-integration-and-inclusion-experiences-non\n",
            "Failed to retrieve content from the URL: https://www.researchgate.net/publication/249682225_Newcomer_ProgramsAn_Educational_Alternative_for_Secondary_Immigrant_Students\n",
            "Is the program funded by federal taxpayer dollars?\n",
            "Failed to retrieve content from the URL: https://www.cbpp.org/research/policy-basics-where-do-our-federal-tax-dollars-go\n",
            "Failed to retrieve content from the URL: https://www.cbpp.org/sites/default/files/atoms/files/4-14-08tax.pdf\n",
            "Failed to retrieve content from the URL: https://bipartisanpolicy.org/blog/do-you-know-where-your-tax-dollars-go-tr/\n",
            "Was the funding for the program distributed by President Joe Biden?\n",
            "Error during website scraping: HTTPSConnectionPool(host='home.treasury.gov', port=443): Read timed out. (read timeout=5)\n",
            "What is the source of funding for the program?\n",
            "What role did President Joe Biden play in the distribution of funds for the program?\n",
            "Error during website scraping: HTTPSConnectionPool(host='home.treasury.gov', port=443): Read timed out. (read timeout=5)\n",
            "What evidence supports the claim that some illegal immigrants are coming from jails?\n",
            "Error during website scraping: HTTPSConnectionPool(host='www.washingtonpost.com', port=443): Read timed out. (read timeout=5)\n",
            "Failed to retrieve content from the URL: https://www.nytimes.com/2023/12/24/us/politics/trump-immigration-fact-check.html\n",
            "Failed to retrieve content from the URL: https://www.ncbi.nlm.nih.gov/pmc/articles/PMC7348446/\n",
            "Failed to retrieve content from the URL: https://cis.org/Report/Immigration-and-Crime\n",
            "Failed to retrieve content from the URL: https://www.pnas.org/doi/full/10.1073/pnas.2014704117\n"
          ]
        },
        {
          "name": "stderr",
          "output_type": "stream",
          "text": [
            "Some characters could not be decoded, and were replaced with REPLACEMENT CHARACTER.\n"
          ]
        },
        {
          "name": "stdout",
          "output_type": "stream",
          "text": [
            "What evidence supports the claim that some illegal immigrants are coming from mental institutions?\n",
            "Failed to retrieve content from the URL: https://www.nytimes.com/2023/12/24/us/politics/trump-immigration-fact-check.html\n",
            "Failed to retrieve content from the URL: https://www.ncbi.nlm.nih.gov/pmc/articles/PMC5122453/\n",
            "Error during website scraping: HTTPSConnectionPool(host='www.washingtonpost.com', port=443): Read timed out. (read timeout=5)\n",
            "Failed to retrieve content from the URL: https://www.jstor.org/stable/44148643\n",
            "Failed to retrieve content from the URL: https://www.ncbi.nlm.nih.gov/pmc/articles/PMC4074451/\n",
            "Failed to retrieve content from the URL: https://www.nytimes.com/2024/03/02/us/politics/trump-immigration-voter-fraud.html\n",
            "Failed to retrieve content from the URL: https://www.psychiatry.org/psychiatrists/diversity/education/stress-and-trauma/undocumented-immigrants\n",
            "What evidence supports the claim that some illegal immigrants are terrorists?\n",
            "Failed to retrieve content from the URL: https://www.ncbi.nlm.nih.gov/pmc/articles/PMC7926034/\n",
            "Failed to retrieve content from the URL: https://www.sciencedirect.com/science/article/abs/pii/S0049089X20301101\n",
            "Failed to retrieve content from the URL: https://www.ncbi.nlm.nih.gov/pmc/articles/PMC3407978/\n",
            "What is the source of the information about the backgrounds of some illegal immigrants?\n",
            "Failed to retrieve content from the URL: https://www.migrationpolicy.org/data/unauthorized-immigrant-population/state/US\n",
            "Failed to retrieve content from the URL: https://www.migrationpolicy.org/research/unauthorized-immigrants-united-states-stable-numbers-changing-origins\n",
            "How are the terms 'illegal immigrants', 'jails', 'mental institutions', and 'terrorists' defined in the context of this claim?\n",
            "Failed to retrieve content from the URL: https://www.nytimes.com/2023/12/24/us/politics/trump-immigration-fact-check.html\n"
          ]
        },
        {
          "name": "stderr",
          "output_type": "stream",
          "text": [
            "Some characters could not be decoded, and were replaced with REPLACEMENT CHARACTER.\n"
          ]
        },
        {
          "name": "stdout",
          "output_type": "stream",
          "text": [
            "Error during website scraping: HTTPSConnectionPool(host='www.washingtonpost.com', port=443): Read timed out. (read timeout=5)\n",
            "Failed to retrieve content from the URL: https://www.ncbi.nlm.nih.gov/pmc/articles/PMC7348446/\n"
          ]
        },
        {
          "name": "stderr",
          "output_type": "stream",
          "text": [
            "Some characters could not be decoded, and were replaced with REPLACEMENT CHARACTER.\n",
            "Some characters could not be decoded, and were replaced with REPLACEMENT CHARACTER.\n",
            "Some characters could not be decoded, and were replaced with REPLACEMENT CHARACTER.\n"
          ]
        },
        {
          "name": "stdout",
          "output_type": "stream",
          "text": [
            "Does the statement use the phrase 'foreign armies' to describe illegal immigrants?\n"
          ]
        },
        {
          "name": "stderr",
          "output_type": "stream",
          "text": [
            "Some characters could not be decoded, and were replaced with REPLACEMENT CHARACTER.\n"
          ]
        },
        {
          "name": "stdout",
          "output_type": "stream",
          "text": [
            "Error during website scraping: HTTPSConnectionPool(host='www.washingtonpost.com', port=443): Read timed out. (read timeout=5)\n",
            "What language or terminology is used in the statement to refer to illegal immigrants?\n",
            "Failed to retrieve content from the URL: https://medium.com/immigration-in-america/the-language-of-illegal-immigration-1178594f0930\n",
            "Error during website scraping: HTTPSConnectionPool(host='www.vera.org', port=443): Max retries exceeded with url: /news/no-person-is-illegal-the-language-we-use-for-immigration-matters (Caused by SSLError(SSLCertVerificationError(1, '[SSL: CERTIFICATE_VERIFY_FAILED] certificate verify failed: unable to get local issuer certificate (_ssl.c:1006)')))\n",
            "Failed to retrieve content from the URL: https://www.unhcr.org/cy/wp-content/uploads/sites/41/2018/09/TerminologyLeaflet_EN_PICUM.pdf\n",
            "Does the statement portray illegal immigrants in a militaristic or hostile manner?\n",
            "Error during website scraping: HTTPSConnectionPool(host='www.washingtonpost.com', port=443): Read timed out. (read timeout=5)\n",
            "Error during website scraping: HTTPSConnectionPool(host='www.washingtonpost.com', port=443): Read timed out. (read timeout=5)\n",
            "Failed to retrieve content from the URL: https://www.ncbi.nlm.nih.gov/pmc/articles/PMC3407978/\n"
          ]
        },
        {
          "name": "stderr",
          "output_type": "stream",
          "text": [
            "Some characters could not be decoded, and were replaced with REPLACEMENT CHARACTER.\n"
          ]
        },
        {
          "name": "stdout",
          "output_type": "stream",
          "text": [
            "2\n",
            "Did Rep. Adam Schiff vote to allocate $100 billion in funding for foreign countries?\n",
            "Failed to retrieve content from the URL: https://www.politico.com/live-updates/2023/12/06/congress/senate-gop-blocks-foreign-aid-ukraine-border-00130387\n",
            "Failed to retrieve content from the URL: https://www.congress.gov/member/adam-schiff/S001150?q=%7B%22status%22%3A%22House+amendment+offered%22%7D\n",
            "Failed to retrieve content from the URL: https://www.congress.gov/bill/117th-congress/house-bill/2617\n",
            "Failed to retrieve content from the URL: https://www.opensecrets.org/members-of-congress/adam-schiff/summary?cid=N00009585\n",
            "What specific legislation or budget proposal involved Rep. Adam Schiff voting to send $100 billion to foreign countries?\n",
            "Error during website scraping: HTTPSConnectionPool(host='www.washingtonpost.com', port=443): Read timed out. (read timeout=5)\n",
            "Failed to retrieve content from the URL: https://www.congress.gov/bill/118th-congress/senate-bill/2226\n",
            "Failed to retrieve content from the URL: https://www.congress.gov/bill/118th-congress/house-bill/4366\n",
            "Failed to retrieve content from the URL: https://www.politico.com/live-updates/2023/12/06/congress/senate-gop-blocks-foreign-aid-ukraine-border-00130387\n",
            "Error during website scraping: HTTPSConnectionPool(host='ballotpedia.org', port=443): Read timed out. (read timeout=5)\n",
            "What was the purpose and breakdown of the $100 billion in foreign aid that Rep. Adam Schiff allegedly voted for?\n",
            "Failed to retrieve content from the URL: https://www.politico.com/live-updates/2023/12/06/congress/senate-gop-blocks-foreign-aid-ukraine-border-00130387\n"
          ]
        },
        {
          "name": "stderr",
          "output_type": "stream",
          "text": [
            "Some characters could not be decoded, and were replaced with REPLACEMENT CHARACTER.\n"
          ]
        },
        {
          "name": "stdout",
          "output_type": "stream",
          "text": [
            "What is the current national debt of the United States?\n",
            "Failed to retrieve content from the URL: https://www.usdebtclock.org/\n",
            "How does the $35 trillion figure compare to the national debt figures from previous years?\n",
            "What factors have contributed to the accumulation of the $35 trillion national debt?\n",
            "Failed to retrieve content from the URL: https://www.americanprogress.org/article/tax-cuts-are-primarily-responsible-for-the-increasing-debt-ratio/\n",
            "Failed to retrieve content from the URL: https://www.thepolicycircle.org/brief/fiscal-responsibility/\n",
            "What are the potential consequences of a high national debt for the United States?\n",
            "Failed to retrieve content from the URL: https://carnegieendowment.org/chinafinancialmarkets/86397\n"
          ]
        }
      ],
      "source": [
        "for index, row in tqdm(df[15:20].iterrows()):\n",
        "    statement = row['statement']\n",
        "    fact_check_samples.append(verify_statement_claude(statement))"
      ]
    },
    {
      "cell_type": "code",
      "execution_count": 82,
      "metadata": {},
      "outputs": [
        {
          "data": {
            "application/vnd.jupyter.widget-view+json": {
              "model_id": "cb681b281c884f158f6f2b8b2e40fba5",
              "version_major": 2,
              "version_minor": 0
            },
            "text/plain": [
              "0it [00:00, ?it/s]"
            ]
          },
          "metadata": {},
          "output_type": "display_data"
        },
        {
          "name": "stdout",
          "output_type": "stream",
          "text": [
            "3\n",
            "Error during website scraping: HTTPSConnectionPool(host='www.washingtonpost.com', port=443): Read timed out. (read timeout=5)\n",
            "Error during website scraping: HTTPSConnectionPool(host='www.washingtonpost.com', port=443): Read timed out. (read timeout=5)\n",
            "Failed to retrieve content from the URL: https://thehill.com/homenews/media/4494066-abc-news-president-trump-black-people-racist/\n",
            "Error during website scraping: HTTPSConnectionPool(host='www.washingtonpost.com', port=443): Read timed out. (read timeout=5)\n",
            "Error during website scraping: HTTPSConnectionPool(host='www.washingtonpost.com', port=443): Read timed out. (read timeout=5)\n",
            "Failed to retrieve content from the URL: https://gen.medium.com/trump-keeps-saying-racist-things-heres-the-ever-growing-list-of-examples-21774f6749a4\n",
            "Failed to retrieve content from the URL: https://www.reuters.com/world/us/bloodbath-vermin-animals-trumps-rhetoric-trail-2024-03-22/\n",
            "Error during website scraping: HTTPSConnectionPool(host='www.washingtonpost.com', port=443): Read timed out. (read timeout=5)\n",
            "Failed to retrieve content from the URL: https://www.france24.com/en/20200904-trump-passed-on-visit-to-wwi-cemetery-near-paris-called-us-war-dead-losers-media-report-says\n",
            "Error during website scraping: HTTPSConnectionPool(host='www.washingtonpost.com', port=443): Read timed out. (read timeout=5)\n",
            "Failed to retrieve content from the URL: https://www.reuters.com/article/idUSKCN1NF0NU/\n",
            "Failed to retrieve content from the URL: https://thehill.com/homenews/administration/515062-trump-called-american-war-dead-in-french-cemetery-losers-report/\n",
            "Failed to retrieve content from the URL: https://www.france24.com/en/20200904-trump-passed-on-visit-to-wwi-cemetery-near-paris-called-us-war-dead-losers-media-report-says\n",
            "Error during website scraping: HTTPSConnectionPool(host='www.washingtonpost.com', port=443): Read timed out. (read timeout=5)\n",
            "Failed to retrieve content from the URL: https://www.reuters.com/article/idUSKCN1NF0NU/\n",
            "Failed to retrieve content from the URL: https://thehill.com/homenews/administration/515062-trump-called-american-war-dead-in-french-cemetery-losers-report/\n",
            "Failed to retrieve content from the URL: https://www.france24.com/en/20200904-trump-passed-on-visit-to-wwi-cemetery-near-paris-called-us-war-dead-losers-media-report-says\n",
            "Error during website scraping: HTTPSConnectionPool(host='www.washingtonpost.com', port=443): Read timed out. (read timeout=5)\n",
            "Failed to retrieve content from the URL: https://www.politico.com/story/2018/11/13/trump-paris-cemetery-visit-985744\n",
            "Failed to retrieve content from the URL: https://www.axios.com/2023/10/02/trump-troops-fallen-soldiers-john-kelly\n",
            "Error during website scraping: HTTPSConnectionPool(host='www.washingtonpost.com', port=443): Read timed out. (read timeout=5)\n",
            "Failed to retrieve content from the URL: https://www.nytimes.com/2020/09/04/us/politics/trump-veterans-losers.html\n",
            "Error during website scraping: HTTPSConnectionPool(host='www.washingtonpost.com', port=443): Read timed out. (read timeout=5)\n",
            "Failed to retrieve content from the URL: https://www.axios.com/2023/10/02/trump-troops-fallen-soldiers-john-kelly\n",
            "Error during website scraping: HTTPSConnectionPool(host='www.washingtonpost.com', port=443): Read timed out. (read timeout=5)\n",
            "Failed to retrieve content from the URL: https://www.nytimes.com/2020/09/04/us/politics/trump-veterans-losers.html\n",
            "Failed to retrieve content from the URL: https://www.axios.com/2023/10/02/trump-troops-fallen-soldiers-john-kelly\n",
            "Error during website scraping: HTTPSConnectionPool(host='www.washingtonpost.com', port=443): Read timed out. (read timeout=5)\n",
            "Error during website scraping: HTTPSConnectionPool(host='www.washingtonpost.com', port=443): Read timed out. (read timeout=5)\n",
            "6\n",
            "Failed to retrieve content from the URL: https://www.sciencedirect.com/topics/medicine-and-dentistry/pharmaceutical-medicine\n",
            "Failed to retrieve content from the URL: https://www.ncbi.nlm.nih.gov/pmc/articles/PMC3819958/\n",
            "Failed to retrieve content from the URL: https://www.ncbi.nlm.nih.gov/pmc/articles/PMC9503326/\n"
          ]
        },
        {
          "name": "stderr",
          "output_type": "stream",
          "text": [
            "Some characters could not be decoded, and were replaced with REPLACEMENT CHARACTER.\n"
          ]
        },
        {
          "name": "stdout",
          "output_type": "stream",
          "text": [
            "Failed to retrieve content from the URL: https://www.sciencedirect.com/science/article/pii/S1198743X15301348\n",
            "Failed to retrieve content from the URL: https://www.ncbi.nlm.nih.gov/pmc/articles/PMC4735229/\n",
            "Failed to retrieve content from the URL: https://www.ncbi.nlm.nih.gov/pmc/articles/PMC5055265/\n",
            "Error during website scraping: HTTPSConnectionPool(host='www.tga.gov.au', port=443): Read timed out. (read timeout=5)\n",
            "Failed to retrieve content from the URL: https://www.sciencedirect.com/topics/medicine-and-dentistry/pharmaceutical-care\n",
            "Failed to retrieve content from the URL: https://www.oecd.org/health/pharmaceuticals.htm\n",
            "Failed to retrieve content from the URL: https://onlinelibrary.wiley.com/doi/pdf/10.1016/S1526-9523(02)00323-9\n",
            "Failed to retrieve content from the URL: https://onlinelibrary.wiley.com/doi/full/10.1016/S1526-9523(02)00323-9\n",
            "Failed to retrieve content from the URL: https://www.unicef.org/parenting/health/parents-frequently-asked-questions-vaccines\n",
            "Error during website scraping: HTTPSConnectionPool(host='kidshealth.org', port=443): Max retries exceeded with url: /en/parents/fact-myth-immunizations.html (Caused by SSLError(SSLError(1, '[SSL: UNSAFE_LEGACY_RENEGOTIATION_DISABLED] unsafe legacy renegotiation disabled (_ssl.c:1006)')))\n",
            "Failed to retrieve content from the URL: https://www.ncbi.nlm.nih.gov/pmc/articles/PMC7090020/\n",
            "Failed to retrieve content from the URL: https://www.sciencedirect.com/science/article/pii/S0264410X24001270\n",
            "Failed to retrieve content from the URL: https://jamanetwork.com/journals/jama/fullarticle/2673970\n"
          ]
        },
        {
          "name": "stderr",
          "output_type": "stream",
          "text": [
            "Some characters could not be decoded, and were replaced with REPLACEMENT CHARACTER.\n"
          ]
        },
        {
          "name": "stdout",
          "output_type": "stream",
          "text": [
            "Failed to retrieve content from the URL: https://www.nejm.org/doi/full/10.1056/NEJMoa2110475\n",
            "Failed to retrieve content from the URL: https://www.ncbi.nlm.nih.gov/pmc/articles/PMC6494431/\n",
            "Failed to retrieve content from the URL: https://jamanetwork.com/journals/jama/fullarticle/2673970\n"
          ]
        },
        {
          "name": "stderr",
          "output_type": "stream",
          "text": [
            "Some characters could not be decoded, and were replaced with REPLACEMENT CHARACTER.\n"
          ]
        },
        {
          "name": "stdout",
          "output_type": "stream",
          "text": [
            "Failed to retrieve content from the URL: https://journals.sagepub.com/doi/10.1177/2050312120925344\n",
            "Failed to retrieve content from the URL: https://www.sciencedirect.com/science/article/pii/S0264410X24001270\n",
            "Failed to retrieve content from the URL: https://www.nejm.org/doi/full/10.1056/NEJMoa2116298\n",
            "Failed to retrieve content from the URL: https://www.ncbi.nlm.nih.gov/pmc/articles/PMC7712358/\n",
            "Failed to retrieve content from the URL: https://www.ncbi.nlm.nih.gov/pmc/articles/PMC6919211/\n"
          ]
        },
        {
          "name": "stderr",
          "output_type": "stream",
          "text": [
            "Some characters could not be decoded, and were replaced with REPLACEMENT CHARACTER.\n"
          ]
        },
        {
          "name": "stdout",
          "output_type": "stream",
          "text": [
            "Failed to retrieve content from the URL: https://www.ncbi.nlm.nih.gov/pmc/articles/PMC9906285/\n",
            "Failed to retrieve content from the URL: https://www.nytimes.com/2024/04/22/well/live/medication-prescription-drug-use.html\n",
            "Failed to retrieve content from the URL: https://jamanetwork.com/journals/jamanetworkopen/fullarticle/2809967\n"
          ]
        },
        {
          "name": "stderr",
          "output_type": "stream",
          "text": [
            "Some characters could not be decoded, and were replaced with REPLACEMENT CHARACTER.\n"
          ]
        },
        {
          "name": "stdout",
          "output_type": "stream",
          "text": [
            "Failed to retrieve content from the URL: https://www.ncbi.nlm.nih.gov/pmc/articles/PMC8147434/\n",
            "Failed to retrieve content from the URL: https://www.ncbi.nlm.nih.gov/pmc/articles/PMC3538391/\n",
            "Failed to retrieve content from the URL: https://www.nia.nih.gov/news/dangers-polypharmacy-and-case-deprescribing-older-adults\n",
            "Failed to retrieve content from the URL: https://www.webmd.com/healthy-aging/medication-overload\n",
            "Error during website scraping: HTTPSConnectionPool(host='www.washingtonpost.com', port=443): Read timed out. (read timeout=5)\n",
            "Failed to retrieve content from the URL: https://www.ncbi.nlm.nih.gov/pmc/articles/PMC7712358/\n",
            "Error during website scraping: HTTPSConnectionPool(host='kidshealth.org', port=443): Max retries exceeded with url: /en/parents/fact-myth-immunizations.html (Caused by SSLError(SSLError(1, '[SSL: UNSAFE_LEGACY_RENEGOTIATION_DISABLED] unsafe legacy renegotiation disabled (_ssl.c:1006)')))\n",
            "Failed to retrieve content from the URL: https://www.ncbi.nlm.nih.gov/pmc/articles/PMC6919211/\n",
            "Failed to retrieve content from the URL: https://www.ncbi.nlm.nih.gov/pmc/articles/PMC7371956/\n",
            "Failed to retrieve content from the URL: https://academic.oup.com/cid/article/37/3/407/437242\n",
            "Failed to retrieve content from the URL: https://www.nia.nih.gov/news/dangers-polypharmacy-and-case-deprescribing-older-adults\n",
            "Failed to retrieve content from the URL: https://jamanetwork.com/journals/jama/fullarticle/2673970\n",
            "Failed to retrieve content from the URL: https://www.sciencedirect.com/topics/nursing-and-health-professions/polypharmacy\n",
            "Failed to retrieve content from the URL: https://www.ncbi.nlm.nih.gov/pmc/articles/PMC6223814/\n",
            "Failed to retrieve content from the URL: https://www.scientificamerican.com/article/the-real-reasons-autism-rates-are-up-in-the-u-s/\n",
            "Failed to retrieve content from the URL: https://www.scientificamerican.com/article/the-real-reasons-autism-rates-are-up-in-the-u-s/\n",
            "Failed to retrieve content from the URL: https://www.ncbi.nlm.nih.gov/pmc/articles/PMC4520794/\n",
            "Failed to retrieve content from the URL: https://www.scientificamerican.com/article/the-real-reasons-autism-rates-are-up-in-the-u-s/\n",
            "Failed to retrieve content from the URL: https://www.ncbi.nlm.nih.gov/pmc/articles/PMC4520794/\n"
          ]
        },
        {
          "name": "stderr",
          "output_type": "stream",
          "text": [
            "Some characters could not be decoded, and were replaced with REPLACEMENT CHARACTER.\n",
            "Some characters could not be decoded, and were replaced with REPLACEMENT CHARACTER.\n"
          ]
        },
        {
          "name": "stdout",
          "output_type": "stream",
          "text": [
            "Failed to retrieve content from the URL: https://www.ncbi.nlm.nih.gov/pmc/articles/PMC7557477/\n",
            "Failed to retrieve content from the URL: https://www.autismparentingmagazine.com/autism-statistics/\n",
            "Failed to retrieve content from the URL: https://www.hopebridge.com/blog/prevalence-of-autism-1-in-36-children/\n",
            "Failed to retrieve content from the URL: https://www.ncbi.nlm.nih.gov/pmc/articles/PMC9128411/\n",
            "Failed to retrieve content from the URL: https://www.ncbi.nlm.nih.gov/pmc/articles/PMC4071143/\n",
            "Failed to retrieve content from the URL: https://www.ncbi.nlm.nih.gov/pmc/articles/PMC7557477/\n",
            "Failed to retrieve content from the URL: https://www.scientificamerican.com/article/autism-clusters-californiahighly-educated-parents/\n"
          ]
        },
        {
          "name": "stderr",
          "output_type": "stream",
          "text": [
            "Some characters could not be decoded, and were replaced with REPLACEMENT CHARACTER.\n"
          ]
        },
        {
          "name": "stdout",
          "output_type": "stream",
          "text": [
            "Failed to retrieve content from the URL: https://www.pnas.org/doi/10.1073/pnas.2015762117\n"
          ]
        },
        {
          "name": "stderr",
          "output_type": "stream",
          "text": [
            "Some characters could not be decoded, and were replaced with REPLACEMENT CHARACTER.\n"
          ]
        },
        {
          "name": "stdout",
          "output_type": "stream",
          "text": [
            "Failed to retrieve content from the URL: https://www.sciencedaily.com/releases/2010/01/100105112117.htm\n"
          ]
        },
        {
          "name": "stderr",
          "output_type": "stream",
          "text": [
            "Some characters could not be decoded, and were replaced with REPLACEMENT CHARACTER.\n"
          ]
        },
        {
          "name": "stdout",
          "output_type": "stream",
          "text": [
            "Failed to retrieve content from the URL: https://www.pnas.org/doi/full/10.1073/pnas.2015762117\n",
            "2\n",
            "Error during website scraping: HTTPSConnectionPool(host='www.washingtonpost.com', port=443): Read timed out. (read timeout=5)\n",
            "Failed to retrieve content from the URL: https://www.nytimes.com/2016/07/21/us/politics/donald-trump-issues.html\n",
            "Failed to retrieve content from the URL: https://www.politico.com/news/2024/02/14/trump-nato-allies-00141590\n",
            "Error during website scraping: HTTPSConnectionPool(host='www.washingtonpost.com', port=443): Read timed out. (read timeout=5)\n",
            "Failed to retrieve content from the URL: https://www.nytimes.com/2024/02/10/us/politics/trump-nato-russia.html\n",
            "Error during website scraping: HTTPSConnectionPool(host='www.usnews.com', port=443): Read timed out. (read timeout=5)\n",
            "Failed to retrieve content from the URL: https://www.reuters.com/world/what-did-trump-say-about-nato-funding-what-is-article-5-2024-02-12/\n",
            "Failed to retrieve content from the URL: https://thehill.com/homenews/senate/4463649-trumps-nato-threats-split-gop/\n",
            "Failed to retrieve content from the URL: https://www.jstor.org/stable/45289836\n",
            "Failed to retrieve content from the URL: https://espas.secure.europarl.europa.eu/orbis/system/files/generated/document/en/NATO_and_Trump_web_0623.pdf\n",
            "Error during website scraping: HTTPSConnectionPool(host='www.washingtonpost.com', port=443): Read timed out. (read timeout=5)\n",
            "Failed to retrieve content from the URL: https://www.reuters.com/world/what-did-trump-say-about-nato-funding-what-is-article-5-2024-02-12/\n"
          ]
        },
        {
          "name": "stderr",
          "output_type": "stream",
          "text": [
            "Some characters could not be decoded, and were replaced with REPLACEMENT CHARACTER.\n"
          ]
        },
        {
          "name": "stdout",
          "output_type": "stream",
          "text": [
            "Failed to retrieve content from the URL: https://www.jstor.org/stable/48732276\n"
          ]
        },
        {
          "name": "stderr",
          "output_type": "stream",
          "text": [
            "Some characters could not be decoded, and were replaced with REPLACEMENT CHARACTER.\n"
          ]
        },
        {
          "name": "stdout",
          "output_type": "stream",
          "text": [
            "Failed to retrieve content from the URL: https://theconversation.com/what-a-second-trump-presidency-might-mean-for-the-rest-of-the-world-227641\n",
            "Error during website scraping: HTTPSConnectionPool(host='www.washingtonpost.com', port=443): Read timed out. (read timeout=5)\n",
            "Failed to retrieve content from the URL: https://www.nytimes.com/2016/07/21/us/politics/donald-trump-issues.html\n",
            "Error during website scraping: HTTPSConnectionPool(host='www.washingtonpost.com', port=443): Read timed out. (read timeout=5)\n",
            "Failed to retrieve content from the URL: https://www.reuters.com/world/us/trump-comments-russia-nato-appalling-unhinged-white-house-spokesperson-2024-02-11/\n",
            "Error during website scraping: HTTPSConnectionPool(host='www.washingtonpost.com', port=443): Read timed out. (read timeout=5)\n",
            "1\n",
            "Failed to retrieve content from the URL: https://thehill.com/homenews/house/4640096-johnson-george-soros-campus-protests/\n",
            "Error during website scraping: HTTPSConnectionPool(host='www.washingtonpost.com', port=443): Read timed out. (read timeout=5)\n",
            "Failed to retrieve content from the URL: https://www.jns.org/who-is-paying-for-the-american-campus-protests/\n",
            "Error during website scraping: HTTPSConnectionPool(host='www.washingtonpost.com', port=443): Read timed out. (read timeout=5)\n",
            "Failed to retrieve content from the URL: https://thehill.com/homenews/house/4640096-johnson-george-soros-campus-protests/\n",
            "Failed to retrieve content from the URL: https://www.reuters.com/article/idUSKBN23P2X7/\n",
            "Error during website scraping: HTTPSConnectionPool(host='www.washingtonpost.com', port=443): Read timed out. (read timeout=5)\n",
            "Failed to retrieve content from the URL: https://www.jns.org/who-is-paying-for-the-american-campus-protests/\n",
            "Failed to retrieve content from the URL: https://www.kxan.com/hill-politics/democrats-knock-johnson-for-suggesting-george-soros-behind-campus-protests/\n",
            "Failed to retrieve content from the URL: https://thehill.com/homenews/house/4640096-johnson-george-soros-campus-protests/\n",
            "2\n",
            "Failed to retrieve content from the URL: https://www.axios.com/2024/04/30/donald-trump-time-magazine-interview-news\n",
            "Error during website scraping: HTTPSConnectionPool(host='www.washingtonpost.com', port=443): Read timed out. (read timeout=5)\n",
            "Error during website scraping: HTTPSConnectionPool(host='www.washingtonpost.com', port=443): Read timed out. (read timeout=5)\n",
            "Error during website scraping: HTTPSConnectionPool(host='www.washingtonpost.com', port=443): Read timed out. (read timeout=5)\n",
            "Error during website scraping: HTTPSConnectionPool(host='www.washingtonpost.com', port=443): Read timed out. (read timeout=5)\n",
            "Error during website scraping: HTTPSConnectionPool(host='www.washingtonpost.com', port=443): Read timed out. (read timeout=5)\n",
            "Error during website scraping: HTTPSConnectionPool(host='www.washingtonpost.com', port=443): Read timed out. (read timeout=5)\n",
            "Error during website scraping: HTTPSConnectionPool(host='www.washingtonpost.com', port=443): Read timed out. (read timeout=5)\n",
            "Failed to retrieve content from the URL: https://www.americanprogress.org/article/women-paid-price-trumps-regulatory-agenda/\n",
            "Failed to retrieve content from the URL: https://civilrights.org/trump-rollbacks/\n",
            "Failed to retrieve content from the URL: https://www.nytimes.com/2017/10/06/us/politics/trump-contraception-birth-control.html\n",
            "Error during website scraping: HTTPSConnectionPool(host='www.washingtonpost.com', port=443): Read timed out. (read timeout=5)\n"
          ]
        }
      ],
      "source": [
        "for index, row in tqdm(df[20:25].iterrows()):\n",
        "    statement = row['statement']\n",
        "    fact_check_samples.append(verify_statement_claude(statement))"
      ]
    },
    {
      "cell_type": "code",
      "execution_count": 86,
      "metadata": {},
      "outputs": [
        {
          "data": {
            "application/vnd.jupyter.widget-view+json": {
              "model_id": "e7e0e11b82ce4d0aa1899db25eba29d0",
              "version_major": 2,
              "version_minor": 0
            },
            "text/plain": [
              "0it [00:00, ?it/s]"
            ]
          },
          "metadata": {},
          "output_type": "display_data"
        },
        {
          "name": "stdout",
          "output_type": "stream",
          "text": [
            "2\n"
          ]
        }
      ],
      "source": [
        "for index, row in tqdm(df[24:25].iterrows()):\n",
        "    statement = row['statement']\n",
        "    fact_check_samples[24] = verify_statement_claude(statement)"
      ]
    },
    {
      "cell_type": "code",
      "execution_count": 90,
      "metadata": {},
      "outputs": [
        {
          "data": {
            "application/vnd.jupyter.widget-view+json": {
              "model_id": "96eaa9a27ace454fad33626b44dc96fd",
              "version_major": 2,
              "version_minor": 0
            },
            "text/plain": [
              "0it [00:00, ?it/s]"
            ]
          },
          "metadata": {},
          "output_type": "display_data"
        },
        {
          "name": "stdout",
          "output_type": "stream",
          "text": [
            "25\n",
            "1\n"
          ]
        },
        {
          "name": "stderr",
          "output_type": "stream",
          "text": [
            "Some characters could not be decoded, and were replaced with REPLACEMENT CHARACTER.\n",
            "Some characters could not be decoded, and were replaced with REPLACEMENT CHARACTER.\n",
            "Some characters could not be decoded, and were replaced with REPLACEMENT CHARACTER.\n"
          ]
        },
        {
          "name": "stdout",
          "output_type": "stream",
          "text": [
            "26\n",
            "2\n"
          ]
        },
        {
          "name": "stderr",
          "output_type": "stream",
          "text": [
            "Some characters could not be decoded, and were replaced with REPLACEMENT CHARACTER.\n"
          ]
        },
        {
          "name": "stdout",
          "output_type": "stream",
          "text": [
            "27\n",
            "1\n",
            "28\n",
            "2\n"
          ]
        },
        {
          "name": "stderr",
          "output_type": "stream",
          "text": [
            "Some characters could not be decoded, and were replaced with REPLACEMENT CHARACTER.\n",
            "Some characters could not be decoded, and were replaced with REPLACEMENT CHARACTER.\n",
            "Some characters could not be decoded, and were replaced with REPLACEMENT CHARACTER.\n",
            "Some characters could not be decoded, and were replaced with REPLACEMENT CHARACTER.\n",
            "Some characters could not be decoded, and were replaced with REPLACEMENT CHARACTER.\n",
            "Some characters could not be decoded, and were replaced with REPLACEMENT CHARACTER.\n"
          ]
        },
        {
          "name": "stdout",
          "output_type": "stream",
          "text": [
            "29\n",
            "1\n"
          ]
        }
      ],
      "source": [
        "for index, row in tqdm(df[25:30].iterrows()):\n",
        "    print(index)\n",
        "    statement = row['statement']\n",
        "    fact_check_samples.append(verify_statement_claude(statement))"
      ]
    },
    {
      "cell_type": "code",
      "execution_count": 94,
      "metadata": {},
      "outputs": [
        {
          "data": {
            "application/vnd.jupyter.widget-view+json": {
              "model_id": "087d340d2e024747872385b0967a9558",
              "version_major": 2,
              "version_minor": 0
            },
            "text/plain": [
              "0it [00:00, ?it/s]"
            ]
          },
          "metadata": {},
          "output_type": "display_data"
        },
        {
          "name": "stdout",
          "output_type": "stream",
          "text": [
            "2\n",
            "done with row 30! \n",
            "1\n",
            "done with row 31! \n",
            "1\n"
          ]
        },
        {
          "name": "stderr",
          "output_type": "stream",
          "text": [
            "Some characters could not be decoded, and were replaced with REPLACEMENT CHARACTER.\n",
            "Some characters could not be decoded, and were replaced with REPLACEMENT CHARACTER.\n"
          ]
        },
        {
          "name": "stdout",
          "output_type": "stream",
          "text": [
            "done with row 32! \n",
            "2\n",
            "done with row 33! \n",
            "1\n",
            "done with row 34! \n"
          ]
        }
      ],
      "source": [
        "for index, row in tqdm(df[30:35].iterrows()):\n",
        "    statement = row['statement']\n",
        "    fact_check_samples.append(verify_statement_claude(statement))\n",
        "    print(f\"done with row {index}! \")"
      ]
    },
    {
      "cell_type": "code",
      "execution_count": 95,
      "metadata": {},
      "outputs": [
        {
          "data": {
            "application/vnd.jupyter.widget-view+json": {
              "model_id": "d334e409a32d4a7cada23b11f0672ad2",
              "version_major": 2,
              "version_minor": 0
            },
            "text/plain": [
              "0it [00:00, ?it/s]"
            ]
          },
          "metadata": {},
          "output_type": "display_data"
        },
        {
          "name": "stdout",
          "output_type": "stream",
          "text": [
            "3\n"
          ]
        },
        {
          "name": "stderr",
          "output_type": "stream",
          "text": [
            "Some characters could not be decoded, and were replaced with REPLACEMENT CHARACTER.\n",
            "Some characters could not be decoded, and were replaced with REPLACEMENT CHARACTER.\n",
            "Some characters could not be decoded, and were replaced with REPLACEMENT CHARACTER.\n",
            "Some characters could not be decoded, and were replaced with REPLACEMENT CHARACTER.\n"
          ]
        },
        {
          "name": "stdout",
          "output_type": "stream",
          "text": [
            "done with row 35! \n",
            "3\n"
          ]
        },
        {
          "name": "stderr",
          "output_type": "stream",
          "text": [
            "Some characters could not be decoded, and were replaced with REPLACEMENT CHARACTER.\n",
            "Some characters could not be decoded, and were replaced with REPLACEMENT CHARACTER.\n",
            "Some characters could not be decoded, and were replaced with REPLACEMENT CHARACTER.\n",
            "Some characters could not be decoded, and were replaced with REPLACEMENT CHARACTER.\n",
            "Some characters could not be decoded, and were replaced with REPLACEMENT CHARACTER.\n",
            "Some characters could not be decoded, and were replaced with REPLACEMENT CHARACTER.\n"
          ]
        },
        {
          "name": "stdout",
          "output_type": "stream",
          "text": [
            "done with row 36! \n",
            "Error parsing model output: ['President Biden implemented 94 executive actions related to immigration in his first 100 days.', 'The speaker traveled to the Del Rio sector of Texas and spoke to a woman who was sex trafficked by cartels starting at age 12.', 'The woman shared details about being repeatedly raped by men sent by the cartels.', 'The speaker believes such treatment would not be acceptable even in a \"Third World country\".', 'The speaker criticizes President Biden's border policies as a \"disgrace\".']\n",
            "1\n"
          ]
        },
        {
          "name": "stderr",
          "output_type": "stream",
          "text": [
            "Some characters could not be decoded, and were replaced with REPLACEMENT CHARACTER.\n"
          ]
        },
        {
          "name": "stdout",
          "output_type": "stream",
          "text": [
            "done with row 37! \n",
            "5\n"
          ]
        },
        {
          "name": "stderr",
          "output_type": "stream",
          "text": [
            "Some characters could not be decoded, and were replaced with REPLACEMENT CHARACTER.\n",
            "Some characters could not be decoded, and were replaced with REPLACEMENT CHARACTER.\n",
            "Some characters could not be decoded, and were replaced with REPLACEMENT CHARACTER.\n"
          ]
        },
        {
          "name": "stdout",
          "output_type": "stream",
          "text": [
            "done with row 38! \n",
            "3\n"
          ]
        },
        {
          "name": "stderr",
          "output_type": "stream",
          "text": [
            "Some characters could not be decoded, and were replaced with REPLACEMENT CHARACTER.\n",
            "Some characters could not be decoded, and were replaced with REPLACEMENT CHARACTER.\n",
            "Some characters could not be decoded, and were replaced with REPLACEMENT CHARACTER.\n"
          ]
        },
        {
          "name": "stdout",
          "output_type": "stream",
          "text": [
            "done with row 39! \n"
          ]
        }
      ],
      "source": [
        "for index, row in tqdm(df[35:40].iterrows()):\n",
        "    statement = row['statement']\n",
        "    fact_check_samples.append(verify_statement_claude(statement))\n",
        "    print(f\"done with row {index}! \")"
      ]
    },
    {
      "cell_type": "code",
      "execution_count": 137,
      "metadata": {},
      "outputs": [
        {
          "data": {
            "application/vnd.jupyter.widget-view+json": {
              "model_id": "db410a468a0c440daa17beef1a83c7f0",
              "version_major": 2,
              "version_minor": 0
            },
            "text/plain": [
              "0it [00:00, ?it/s]"
            ]
          },
          "metadata": {},
          "output_type": "display_data"
        },
        {
          "name": "stdout",
          "output_type": "stream",
          "text": [
            "4\n",
            "['We had the best unemployment rates ever.', \"The unemployment rates were real unemployment, not like today where nobody's working and they consider it to be.\", 'The current unemployment rate calculation is too complicated to explain.', 'The current unemployment rate calculation is a whole different thing from the previous calculation.']\n"
          ]
        },
        {
          "name": "stderr",
          "output_type": "stream",
          "text": [
            "Some characters could not be decoded, and were replaced with REPLACEMENT CHARACTER.\n",
            "Some characters could not be decoded, and were replaced with REPLACEMENT CHARACTER.\n",
            "Some characters could not be decoded, and were replaced with REPLACEMENT CHARACTER.\n",
            "Some characters could not be decoded, and were replaced with REPLACEMENT CHARACTER.\n",
            "Some characters could not be decoded, and were replaced with REPLACEMENT CHARACTER.\n",
            "Some characters could not be decoded, and were replaced with REPLACEMENT CHARACTER.\n",
            "Some characters could not be decoded, and were replaced with REPLACEMENT CHARACTER.\n",
            "Some characters could not be decoded, and were replaced with REPLACEMENT CHARACTER.\n",
            "Some characters could not be decoded, and were replaced with REPLACEMENT CHARACTER.\n",
            "Some characters could not be decoded, and were replaced with REPLACEMENT CHARACTER.\n",
            "Some characters could not be decoded, and were replaced with REPLACEMENT CHARACTER.\n",
            "Some characters could not be decoded, and were replaced with REPLACEMENT CHARACTER.\n",
            "Some characters could not be decoded, and were replaced with REPLACEMENT CHARACTER.\n",
            "Some characters could not be decoded, and were replaced with REPLACEMENT CHARACTER.\n",
            "Some characters could not be decoded, and were replaced with REPLACEMENT CHARACTER.\n",
            "Some characters could not be decoded, and were replaced with REPLACEMENT CHARACTER.\n",
            "Some characters could not be decoded, and were replaced with REPLACEMENT CHARACTER.\n"
          ]
        },
        {
          "name": "stdout",
          "output_type": "stream",
          "text": [
            "done with row 40! \n",
            "4\n",
            "['House Republicans took numerous votes.', 'The votes taken by House Republicans would have damaged economic growth.', 'The votes taken by House Republicans would have harmed national security.', 'House Republicans attempted to eliminate over 2,000 Border Patrol agents.']\n"
          ]
        },
        {
          "name": "stderr",
          "output_type": "stream",
          "text": [
            "Some characters could not be decoded, and were replaced with REPLACEMENT CHARACTER.\n",
            "Some characters could not be decoded, and were replaced with REPLACEMENT CHARACTER.\n",
            "Some characters could not be decoded, and were replaced with REPLACEMENT CHARACTER.\n"
          ]
        },
        {
          "name": "stdout",
          "output_type": "stream",
          "text": [
            "done with row 41! \n",
            "2\n",
            "[\"We didn't sell any land to the Chinese.\", 'I recruited a fiberglass company.']\n",
            "done with row 42! \n",
            "2\n",
            "['The climate change agenda is a hoax.', 'More people are dying of bad climate change policies than they are of actual climate change.']\n"
          ]
        },
        {
          "name": "stderr",
          "output_type": "stream",
          "text": [
            "Some characters could not be decoded, and were replaced with REPLACEMENT CHARACTER.\n",
            "Some characters could not be decoded, and were replaced with REPLACEMENT CHARACTER.\n",
            "Some characters could not be decoded, and were replaced with REPLACEMENT CHARACTER.\n",
            "Some characters could not be decoded, and were replaced with REPLACEMENT CHARACTER.\n",
            "Some characters could not be decoded, and were replaced with REPLACEMENT CHARACTER.\n",
            "Some characters could not be decoded, and were replaced with REPLACEMENT CHARACTER.\n"
          ]
        },
        {
          "name": "stdout",
          "output_type": "stream",
          "text": [
            "done with row 43! \n",
            "4\n",
            "['Biological boys are in the locker rooms of girls.', 'A third of teenage girls seriously contemplated suicide last year.', 'There is a concern about how to get girls used to the fact that biological boys are in their locker rooms.', \"The presence of biological boys in girls' locker rooms is suggested as a potential factor contributing to the high rate of suicidal thoughts among teenage girls.\"]\n"
          ]
        },
        {
          "name": "stderr",
          "output_type": "stream",
          "text": [
            "Some characters could not be decoded, and were replaced with REPLACEMENT CHARACTER.\n",
            "Some characters could not be decoded, and were replaced with REPLACEMENT CHARACTER.\n",
            "Some characters could not be decoded, and were replaced with REPLACEMENT CHARACTER.\n",
            "Some characters could not be decoded, and were replaced with REPLACEMENT CHARACTER.\n",
            "Some characters could not be decoded, and were replaced with REPLACEMENT CHARACTER.\n",
            "Some characters could not be decoded, and were replaced with REPLACEMENT CHARACTER.\n"
          ]
        },
        {
          "name": "stdout",
          "output_type": "stream",
          "text": [
            "done with row 44! \n",
            "2\n",
            "[\"China's eyes and ears are dangerously close.\", \"China's eyes and ears being dangerously close is too dangerous to lead.\"]\n"
          ]
        },
        {
          "name": "stderr",
          "output_type": "stream",
          "text": [
            "Some characters could not be decoded, and were replaced with REPLACEMENT CHARACTER.\n",
            "Some characters could not be decoded, and were replaced with REPLACEMENT CHARACTER.\n",
            "Some characters could not be decoded, and were replaced with REPLACEMENT CHARACTER.\n",
            "Some characters could not be decoded, and were replaced with REPLACEMENT CHARACTER.\n"
          ]
        },
        {
          "name": "stdout",
          "output_type": "stream",
          "text": [
            "done with row 45! \n",
            "1\n",
            "['Hundreds of people on the terrorist watch list are crossing U.S. borders.']\n"
          ]
        },
        {
          "name": "stderr",
          "output_type": "stream",
          "text": [
            "Some characters could not be decoded, and were replaced with REPLACEMENT CHARACTER.\n",
            "Some characters could not be decoded, and were replaced with REPLACEMENT CHARACTER.\n",
            "Some characters could not be decoded, and were replaced with REPLACEMENT CHARACTER.\n"
          ]
        },
        {
          "name": "stdout",
          "output_type": "stream",
          "text": [
            "done with row 46! \n",
            "1\n",
            "[\"This trial that I have now, that's a Biden trial.\"]\n"
          ]
        },
        {
          "name": "stderr",
          "output_type": "stream",
          "text": [
            "Some characters could not be decoded, and were replaced with REPLACEMENT CHARACTER.\n",
            "Some characters could not be decoded, and were replaced with REPLACEMENT CHARACTER.\n",
            "Some characters could not be decoded, and were replaced with REPLACEMENT CHARACTER.\n",
            "Some characters could not be decoded, and were replaced with REPLACEMENT CHARACTER.\n",
            "Some characters could not be decoded, and were replaced with REPLACEMENT CHARACTER.\n"
          ]
        },
        {
          "name": "stdout",
          "output_type": "stream",
          "text": [
            "done with row 47! \n",
            "2\n",
            "['President Biden is the first candidate in history that has used the federal agencies to censor political speech.', 'President Biden is the first president in history that has used the federal agencies to censor his opponent.']\n"
          ]
        },
        {
          "name": "stderr",
          "output_type": "stream",
          "text": [
            "Some characters could not be decoded, and were replaced with REPLACEMENT CHARACTER.\n",
            "Some characters could not be decoded, and were replaced with REPLACEMENT CHARACTER.\n",
            "Some characters could not be decoded, and were replaced with REPLACEMENT CHARACTER.\n",
            "Some characters could not be decoded, and were replaced with REPLACEMENT CHARACTER.\n",
            "Some characters could not be decoded, and were replaced with REPLACEMENT CHARACTER.\n",
            "Some characters could not be decoded, and were replaced with REPLACEMENT CHARACTER.\n",
            "Some characters could not be decoded, and were replaced with REPLACEMENT CHARACTER.\n",
            "Some characters could not be decoded, and were replaced with REPLACEMENT CHARACTER.\n",
            "Some characters could not be decoded, and were replaced with REPLACEMENT CHARACTER.\n"
          ]
        },
        {
          "name": "stdout",
          "output_type": "stream",
          "text": [
            "done with row 48! \n",
            "1\n",
            "[\"Dollar Tree, Walgreens, Macy's, Foot Locker, Gap, Burger King, Regal Cinemas and Kroger have had mass store closures during Joe Biden's presidency.\"]\n",
            "done with row 49! \n"
          ]
        }
      ],
      "source": [
        "from tqdm.auto import tqdm\n",
        "\n",
        "for index, row in tqdm(df[40:50].iterrows()):\n",
        "    statement = row['statement']\n",
        "    fact_check_samples.append(verify_statement_claude(statement))\n",
        "    print(f\"done with row {index}! \")"
      ]
    },
    {
      "cell_type": "code",
      "execution_count": null,
      "metadata": {
        "id": "riVE7-XZshnr"
      },
      "outputs": [],
      "source": [
        "claude_sample = pd.DataFrame(data = {\n",
        "    \"verdicts\": [x[0] for x in fact_check_samples],\n",
        "    \"fact_score\": [x[2] for x in fact_check_samples],\n",
        "    \"output\": [x[1] for x in fact_check_samples],\n",
        "    \"reasonings\": [x[3] for x in fact_check_samples]})"
      ]
    },
    {
      "cell_type": "code",
      "execution_count": 29,
      "metadata": {},
      "outputs": [
        {
          "data": {
            "text/plain": [
              "[['Based on the provided documents, the claim \"The National Guard gets called in after a disaster, not before something happens\" is false.\\n\\nThe documents clearly indicate that the National Guard has both a responsive role in providing assistance after disasters and emergencies occur, as well as a preventative role in helping prepare for and mitigate potential disasters before they happen.\\n\\nSpecifically:\\n\\n1. The document from the U.S. Army Command and General Staff College states that the National Guard \"routinely deploys to assist states with preparing for disasters like wildfires, floods, earthquakes, and oil spills, in addition to responding after they occur.\"\\n\\n2. The article from Virginia Commonwealth University notes that \"The National Guard can play a vital role in saving lives, stemming suffering and protecting property before and after disasters strike.\"\\n\\n3. The Department of Defense website mentions that the National Guard can \"help prepare\" in addition to responding immediately after events like tornados.\\n\\n4. The Politifact article directly refutes the claim, stating \"The National Guard is not exclusively activated \\'after a disaster.\\' Sometimes troops help prepare.\"\\n\\nSo while responding after disasters is a major part of the National Guard\\'s role, the documents provide clear evidence that they are also involved in preventative efforts and preparation before disasters happen. Therefore, the claim that they only get called in after disasters, and not before, is false according to the information provided.',\n",
              "  'Based on the provided information, the claim \"This has been the case throughout the history of the National Guard\" is Unverifiable.\\n\\nWhile the documents suggest that the National Guard has had a long history of involvement in domestic operations within the United States, they do not explicitly state or provide enough evidence to definitively conclude that this has been the case throughout the entire history of the National Guard since its inception.\\n\\nThe documents mention that the National Guard routinely responds to various domestic situations such as natural disasters, civil unrest, and other emergencies within individual states, indicating that domestic operations have been a significant part of its role. However, the documents do not provide a comprehensive account of the National Guard\\'s activities and responsibilities across its entire history to verify if domestic operations have been a constant throughout.\\n\\nTo determine the truthfulness of the claim, more detailed historical information spanning the National Guard\\'s entire existence would be needed to confirm or refute whether domestic operations have consistently been part of its responsibilities since its founding.']]"
            ]
          },
          "execution_count": 29,
          "metadata": {},
          "output_type": "execute_result"
        }
      ],
      "source": [
        "[x[0] for x in fact_check_samples]"
      ]
    },
    {
      "cell_type": "code",
      "execution_count": 156,
      "metadata": {
        "id": "kNRmJd1Jsxj6"
      },
      "outputs": [],
      "source": [
        "# modify base_dir\n",
        "base_dir = '/Users/sunnyfang/Library/CloudStorage/GoogleDrive-yf2610@barnard.edu/My Drive/courses/AY 23-24/24 SP/COMS-W3997 LLM Foundations & Ethics/LLM Project/'\n",
        "filename = 'final-claude-3-sonnet-samples.xlsx'\n",
        "full_path = os.path.join(base_dir, filename)\n",
        "claude_sample.to_excel(full_path)\n",
        "\n",
        "filename = 'claude_complete.csv'\n",
        "full_path = os.path.join(base_dir, filename)\n",
        "claude_sample.to_csv(full_path)"
      ]
    },
    {
      "cell_type": "code",
      "execution_count": 1,
      "metadata": {},
      "outputs": [],
      "source": [
        "fact_checking_system = \"\"\"\n",
        "You are a fact-checking, logical-reasoning assistant. \n",
        "\"\"\"\n",
        "\n",
        "fact_checking_prompt = \"\"\"\n",
        "Let's think step-by-step. \n",
        "I will give you a statement and a set of claims derived from that statement. \n",
        "Each claim is followed by a verdict on their truthfulness (True/False/Unverifiable), and reasoning for each. \n",
        "Please verify whether the original statement given above is factual by classifying it to one of the five following labels: (True/Mostly True/Half True/Mostly False/False/Unverifiable). \n",
        "\n",
        "Explain your reasoning in a logical manner and cite evidence wherever possible.\n",
        "\n",
        "Reasoning Criteria:\n",
        "1. Rate the statement over both plausibility and truthfulness.\n",
        "2. If not enough information is provided, always err on the side of caution instead of blind guessing.\n",
        "\n",
        "Statement: {statement}\n",
        "\n",
        "{claim_reasoning_pair}\n",
        "\n",
        "In your response, return only the label after \"Verdict:\" and return an explanation after \"Reasoning:\".\n",
        "\"\"\"\n",
        "def verify_statement_claude_claim_reasoning(statement, reasoning):\n",
        "    # Fill in the prompt template with the relevant documents and the question\n",
        "    prompt = fact_checking_prompt.format(statement=statement, claim_reasoning_pair=reasoning)\n",
        "\n",
        "    # claude output\n",
        "    message = client.messages.create(\n",
        "        model=\"claude-3-sonnet-20240229\",\n",
        "        max_tokens=1000,\n",
        "        temperature=0,\n",
        "        system=fact_checking_system,\n",
        "        messages=[\n",
        "            {\n",
        "                \"role\": \"user\",\n",
        "                \"content\": [\n",
        "                    {\n",
        "                        \"type\": \"text\",\n",
        "                        \"text\": prompt\n",
        "                    }\n",
        "                ]\n",
        "            }\n",
        "        ]\n",
        "    )\n",
        "    \n",
        "    # Decode the generated text\n",
        "    output_text = message.content[0].text\n",
        "\n",
        "    try:\n",
        "        verdict = output_text.split('Verdict:')[-1].split('Reasoning:')[0].strip()\n",
        "        reasoning = output_text.split('Reasoning:')[-1].strip()\n",
        "        return verdict, reasoning\n",
        "    except:\n",
        "        raise ValueError(f\"Error parsing model output: {output_text}\")"
      ]
    },
    {
      "cell_type": "code",
      "execution_count": 10,
      "metadata": {},
      "outputs": [],
      "source": [
        "import os\n",
        "path=\"/Users/sunnyfang/Library/CloudStorage/GoogleDrive-yf2610@barnard.edu/My Drive/courses/AY 23-24/24 SP/COMS-W3997 LLM Foundations & Ethics/LLM Project/LLM-FactChecker\"\n",
        "os.chdir(path)\n",
        "df = pd.read_csv('data/cleaned_pilot.csv')\n",
        "claude_sample = pd.read_csv('eval_data/claude_complete.csv')"
      ]
    },
    {
      "cell_type": "code",
      "execution_count": 12,
      "metadata": {},
      "outputs": [],
      "source": [
        "import pandas as pd\n",
        "claude = pd.concat([df, claude_sample], axis = 1)"
      ]
    },
    {
      "cell_type": "code",
      "execution_count": 19,
      "metadata": {},
      "outputs": [
        {
          "data": {
            "application/vnd.jupyter.widget-view+json": {
              "model_id": "debb986922ba4fc0a7cc7750d10325a7",
              "version_major": 2,
              "version_minor": 0
            },
            "text/plain": [
              "  0%|          | 0/5 [00:00<?, ?it/s]"
            ]
          },
          "metadata": {},
          "output_type": "display_data"
        }
      ],
      "source": [
        "from tqdm.auto import tqdm\n",
        "\n",
        "claim_only_results = []\n",
        "for idx, row in tqdm(claude[:5].iterrows(), total = len(claude[:5])):\n",
        "    statement = row['statement']\n",
        "    reasoning = row['reasonings']\n",
        "    claim_only_results.append(verify_statement_claude_claim_reasoning(statement, reasoning))"
      ]
    },
    {
      "cell_type": "code",
      "execution_count": 22,
      "metadata": {},
      "outputs": [
        {
          "data": {
            "application/vnd.jupyter.widget-view+json": {
              "model_id": "1d4cfc169c1544eaaf24d9a6dbebd161",
              "version_major": 2,
              "version_minor": 0
            },
            "text/plain": [
              "  0%|          | 0/5 [00:00<?, ?it/s]"
            ]
          },
          "metadata": {},
          "output_type": "display_data"
        }
      ],
      "source": [
        "for idx, row in tqdm(claude[5:10].iterrows(), total = len(claude[5:10])):\n",
        "    statement = row['statement']\n",
        "    reasoning = row['reasonings']\n",
        "    claim_only_results.append(verify_statement_claude_claim_reasoning(statement, reasoning))"
      ]
    },
    {
      "cell_type": "code",
      "execution_count": 26,
      "metadata": {},
      "outputs": [
        {
          "data": {
            "application/vnd.jupyter.widget-view+json": {
              "model_id": "2f7def72a47e4498823946c1123601fd",
              "version_major": 2,
              "version_minor": 0
            },
            "text/plain": [
              "  0%|          | 0/5 [00:00<?, ?it/s]"
            ]
          },
          "metadata": {},
          "output_type": "display_data"
        }
      ],
      "source": [
        "for idx, row in tqdm(claude[10:15].iterrows(), total = len(claude[10:15])):\n",
        "    statement = row['statement']\n",
        "    reasoning = row['reasonings']\n",
        "    claim_only_results.append(verify_statement_claude_claim_reasoning(statement, reasoning))"
      ]
    },
    {
      "cell_type": "code",
      "execution_count": 29,
      "metadata": {},
      "outputs": [
        {
          "data": {
            "application/vnd.jupyter.widget-view+json": {
              "model_id": "0964b2e8303b469f8d192aeea667f174",
              "version_major": 2,
              "version_minor": 0
            },
            "text/plain": [
              "  0%|          | 0/5 [00:00<?, ?it/s]"
            ]
          },
          "metadata": {},
          "output_type": "display_data"
        }
      ],
      "source": [
        "for idx, row in tqdm(claude[15:20].iterrows(), total = len(claude[15:20])):\n",
        "    statement = row['statement']\n",
        "    reasoning = row['reasonings']\n",
        "    claim_only_results.append(verify_statement_claude_claim_reasoning(statement, reasoning))"
      ]
    },
    {
      "cell_type": "code",
      "execution_count": 32,
      "metadata": {},
      "outputs": [
        {
          "data": {
            "application/vnd.jupyter.widget-view+json": {
              "model_id": "c53563bcb2ab40c1b42c10d50e8c5b31",
              "version_major": 2,
              "version_minor": 0
            },
            "text/plain": [
              "  0%|          | 0/30 [00:00<?, ?it/s]"
            ]
          },
          "metadata": {},
          "output_type": "display_data"
        }
      ],
      "source": [
        "for idx, row in tqdm(claude[20:].iterrows(), total = len(claude[20:])):\n",
        "    statement = row['statement']\n",
        "    reasoning = row['reasonings']\n",
        "    claim_only_results.append(verify_statement_claude_claim_reasoning(statement, reasoning))"
      ]
    },
    {
      "cell_type": "code",
      "execution_count": 33,
      "metadata": {},
      "outputs": [],
      "source": [
        "claude_claims_only = pd.DataFrame(data = {\n",
        "    \"verdicts\": [x[0] for x in claim_only_results],\n",
        "    \"reasonings\": [x[1] for x in claim_only_results]})"
      ]
    },
    {
      "cell_type": "code",
      "execution_count": 36,
      "metadata": {},
      "outputs": [],
      "source": [
        "# modify base_dir\n",
        "base_dir = '/Users/sunnyfang/Library/CloudStorage/GoogleDrive-yf2610@barnard.edu/My Drive/courses/AY 23-24/24 SP/COMS-W3997 LLM Foundations & Ethics/LLM Project/'\n",
        "filename = 'final-claude-3-sonnet-reasonings.xlsx'\n",
        "full_path = os.path.join(base_dir, filename)\n",
        "claude_claims_only.to_excel(full_path)\n",
        "\n",
        "base_dir = '/Users/sunnyfang/Library/CloudStorage/GoogleDrive-yf2610@barnard.edu/My Drive/courses/AY 23-24/24 SP/COMS-W3997 LLM Foundations & Ethics/LLM Project/LLM-FactChecker/eval_data'\n",
        "filename = 'claude_reasonings.csv'\n",
        "full_path = os.path.join(base_dir, filename)\n",
        "claude_claims_only.to_csv(full_path)"
      ]
    }
  ],
  "metadata": {
    "colab": {
      "provenance": []
    },
    "kernelspec": {
      "display_name": "Python 3",
      "name": "python3"
    },
    "language_info": {
      "codemirror_mode": {
        "name": "ipython",
        "version": 3
      },
      "file_extension": ".py",
      "mimetype": "text/x-python",
      "name": "python",
      "nbconvert_exporter": "python",
      "pygments_lexer": "ipython3",
      "version": "3.11.5"
    }
  },
  "nbformat": 4,
  "nbformat_minor": 0
}
